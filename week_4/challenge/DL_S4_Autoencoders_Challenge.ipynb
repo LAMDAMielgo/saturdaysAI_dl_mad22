{
  "cells": [
    {
      "cell_type": "markdown",
      "metadata": {
        "id": "QzFv684AiogU"
      },
      "source": [
        "# Usando autoencoders para aprender bailes\n",
        "\n",
        "El challenge de hoy está basado en un kernel de kaggle que muestra un posible uso de los autoencoders combinados con las RNN (Leed el post que os hemos dejado en la preparación de este challenge). El enlace al kernel original lo tendréis al final de este cuaderno, con la intención de que lo uséis una vez hayáis acabado para comprobar que todo ha funcionado como se quería.\n",
        "\n",
        "Ya que pasarle frame a frame a una RNN puede ser muy bruto, vamos a obtener una representación más eficiente de cada frame (efectivamente, aquí entran los autoencoders). La idea es por lo tanto crear dos redes, una primera que nos permita comprimir cada frame en un vector eficiente y una segunda a la que se le pasen una serie de secuencias y sea capaz de producir la siguiente. ¿Listos? ¡Vamos a ello!"
      ]
    },
    {
      "cell_type": "markdown",
      "metadata": {
        "id": "W0MJI8Lak6_m"
      },
      "source": [
        "## Paso 1\n",
        "\n",
        "Para empezar vamos a preprocesar el video. Una vez tengamos el video descargado, habrá que cargarlo y separarlo frame a frame. Para ello vamos a necesitar varias librerías, principalmente: numpy, pandas y matplotlib para el funcionamiento estandar, opencv(cv2) para leer el video y PIL y skimage para tratar los frames."
      ]
    },
    {
      "cell_type": "code",
      "execution_count": 1,
      "metadata": {
        "colab": {
          "base_uri": "https://localhost:8080/"
        },
        "id": "st70PW4ZmC_Z",
        "outputId": "60c89f08-3c74-4086-ba87-5c42f71e3e76"
      },
      "outputs": [
        {
          "name": "stdout",
          "output_type": "stream",
          "text": [
            "Mounted at /content/drive\n"
          ]
        }
      ],
      "source": [
        "from google.colab import drive\n",
        "drive.mount('/content/drive')"
      ]
    },
    {
      "cell_type": "code",
      "execution_count": 2,
      "metadata": {
        "id": "ixwNXYNNiG3u"
      },
      "outputs": [],
      "source": [
        "import numpy as np\n",
        "import pandas as pd\n",
        "import cv2\n",
        "import matplotlib.pyplot as plt\n",
        "import tensorflow as tf\n",
        "\n",
        "import skimage\n",
        "from PIL import Image\n",
        "from skimage.io import imread, imshow, imread_collection, concatenate_images\n",
        "from skimage.transform import resize\n",
        "from skimage.util import crop #, pad       note: pad is from numpy\n",
        "from skimage.morphology import label\n",
        "from skimage.color import rgb2gray, gray2rgb\n",
        "\n",
        "import os"
      ]
    },
    {
      "cell_type": "markdown",
      "metadata": {
        "id": "MZ-mN1GCDvGj"
      },
      "source": [
        "Aquí os recomiendo crear un directorio `data` para ir dejando las imágenes, es más cómodo, y de paso inicializar algunos valores que vamos a necesitar, principalmente ancho y alto de la imágen, en cuantos canales nos va a venir y el período con el que nos saltamos frames (si están demasiado cerca el cambio será mínimo y la red predicirá el siguiente frame como una copia del ultimo que le hemos pasado)."
      ]
    },
    {
      "cell_type": "code",
      "execution_count": 3,
      "metadata": {
        "id": "OGCddRPGG3XD"
      },
      "outputs": [],
      "source": [
        "%mkdir -p \"data\""
      ]
    },
    {
      "cell_type": "code",
      "execution_count": 4,
      "metadata": {
        "id": "K4Q2gw3TlTnb"
      },
      "outputs": [],
      "source": [
        "data_folder = 'data'\n",
        "save_to_local = True"
      ]
    },
    {
      "cell_type": "code",
      "execution_count": 5,
      "metadata": {
        "colab": {
          "base_uri": "https://localhost:8080/"
        },
        "id": "3z1ehWhWCZxU",
        "outputId": "77a55462-2250-4624-9d84-8e9f7839489e"
      },
      "outputs": [
        {
          "name": "stdout",
          "output_type": "stream",
          "text": [
            "29.97002997002997\n"
          ]
        }
      ],
      "source": [
        "# Crear directorio e inicializar variables\n",
        "# inits counters\n",
        "currentFrame, count = 0, 0\n",
        "\n",
        "TRAIN_SIZE, FRAME_SKIP = 10000, 2\n",
        "\n",
        "# img size the same as past exercises\n",
        "IMG_HEIGHT, IMG_WIDTH, IMG_CHANNELS = 64, 96, 3\n",
        "INPUT_SHAPE=(IMG_HEIGHT, IMG_WIDTH)\n",
        "\n",
        "X_train = np.zeros((TRAIN_SIZE,)+(IMG_HEIGHT, IMG_WIDTH)+(1,))\n",
        "\n",
        "LATENT_SPACE_SIZE = 128\n",
        "\n",
        "# opencv\n",
        "# VideoCapture is class that captures video files or img secuences\n",
        "# VideoCapture.get() returns a property from the instance\n",
        "# CAP_PROP_FPS is the frame rate from the VideoCapture instance\n",
        "\n",
        "cap = cv2.VideoCapture('/content/drive/MyDrive/satAI/week_04/challenge/data/DanceMoves.mp4')\n",
        "print(cap.get(cv2.CAP_PROP_FPS))\n",
        "\n",
        "# the DanceMoves video has arround 30fps (frames per second)\n",
        "# therefore, 15fps means that 6k secs"
      ]
    },
    {
      "cell_type": "code",
      "execution_count": 6,
      "metadata": {
        "colab": {
          "base_uri": "https://localhost:8080/"
        },
        "id": "Pze0NCTVG3XE",
        "outputId": "4b3b8c44-5c9d-4ec2-a70b-126622496126"
      },
      "outputs": [
        {
          "data": {
            "text/plain": [
              "(10000, 64, 96, 1)"
            ]
          },
          "execution_count": 6,
          "metadata": {},
          "output_type": "execute_result"
        }
      ],
      "source": [
        "X_train.shape"
      ]
    },
    {
      "cell_type": "markdown",
      "metadata": {
        "id": "yzzTtHhCGM3k"
      },
      "source": [
        "Con estos parámetros ya definidos, el siguiente paso es empezar a pasar el video frame a frame y guardar cada uno de ellos. En este caso y ya que lo que nos interesan son las siluetas, en el preprocesamiento de cada frame vamos a pasar cada imágen a blanco y negro (paso a grises y luego paso a blanco/negro). De esta manera las imágenes tendrán solo dos valores en cada píxel y tendrán solo un canal. Si queréis cambiar esto, simplemente no hagáis este trozo de código e indicad que el número de canales es otro."
      ]
    },
    {
      "cell_type": "code",
      "execution_count": 7,
      "metadata": {
        "colab": {
          "base_uri": "https://localhost:8080/"
        },
        "id": "VURUA2sfFhqs",
        "outputId": "54df7e73-4062-48e4-9196-779c72029d95"
      },
      "outputs": [
        {
          "name": "stdout",
          "output_type": "stream",
          "text": [
            "Processing frame 1000 of 10000\n",
            "Processing frame 2000 of 10000\n",
            "Processing frame 3000 of 10000\n",
            "Processing frame 4000 of 10000\n",
            "Processing frame 5000 of 10000\n",
            "Processing frame 6000 of 10000\n",
            "Processing frame 7000 of 10000\n",
            "Processing frame 8000 of 10000\n",
            "Processing frame 9000 of 10000\n",
            "Processing frame 10000 of 10000\n",
            "Fin del proceso de extracción de frames\n"
          ]
        }
      ],
      "source": [
        "# crear el conjunto de entrenamiento del autoencoder\n",
        "\n",
        "while(count < TRAIN_SIZE):\n",
        "    try:\n",
        "\n",
        "        # read() method returns retval, imag and\n",
        "        # its function is to grab, decode and return the\n",
        "        # next video frame\n",
        "        # --  a read() needs a close() \n",
        "        # could it be done > with cap.read(): ...\n",
        "        ret, frame = cap.read()\n",
        "\n",
        "        if currentFrame % FRAME_SKIP == 0:\n",
        "            # reducir de escala, reducir a un canal y pasar a B/N \n",
        "            # resize() for reducing the size of the imge\n",
        "            # arg dsize = (h, w, nchannels) -> 64, 96, 1\n",
        "            # fx and fy allow for ratio distortion\n",
        "            frame = cv2.resize(\n",
        "                src=frame,\n",
        "                dsize=(IMG_WIDTH, IMG_HEIGHT)  # AL CONTRARIO AQUI\n",
        "            )\n",
        "            # cvtColor method to change channels\n",
        "            # using the colors space that changes RGB to GREYSCALE\n",
        "            frame = cv2.cvtColor(\n",
        "                src=frame,\n",
        "                code=cv2.COLOR_BGR2GRAY,\n",
        "                dstCn=1\n",
        "            )\n",
        "            frame= np.reshape(frame, newshape=frame.shape+(1,))\n",
        "            # Guardar la imágen en el directorio que habíamos creado\n",
        "            # cv2.imwrite() is a method that returns retval\n",
        "            if save_to_local:\n",
        "              cv2.imwrite(\n",
        "                  filename=f\"/content/{data_folder}/frame_{currentFrame}.jpg\",\n",
        "                  img=frame\n",
        "              )\n",
        "\n",
        "            # Grabar directamente en un dataset \n",
        "            X_train[count] = frame /255 # In order to normalize tensor at loss\n",
        "\n",
        "            count += 1\n",
        "            if count % (TRAIN_SIZE/10) == 0:\n",
        "                print(f'Processing frame {count} of {TRAIN_SIZE}')\n",
        "\n",
        "    except Exception as e:\n",
        "        print(e)\n",
        "        break\n",
        "\n",
        "\n",
        "    currentFrame += 1\n",
        "    \n",
        "print('Fin del proceso de extracción de frames')\n",
        "# como todo buffer, toca cerrar\n",
        "cap.release()"
      ]
    },
    {
      "cell_type": "code",
      "execution_count": 9,
      "metadata": {
        "id": "2C1n3xyRG3XJ"
      },
      "outputs": [],
      "source": [
        "def display(array1, array2, dim):\n",
        "    \"\"\"\n",
        "    Displays ten random images from each one of the supplied arrays.\n",
        "    \"\"\"\n",
        "\n",
        "    n = 10\n",
        "    plt.figure(figsize=(20, 4))\n",
        "\n",
        "    for i in range(n):\n",
        "      \n",
        "        # display original\n",
        "        ax = plt.subplot(2, n, i + 1)\n",
        "        plt.imshow(array1[i].reshape(dim))\n",
        "        plt.title(\"original\")\n",
        "        plt.gray()\n",
        "        ax.get_xaxis().set_visible(False)\n",
        "        ax.get_yaxis().set_visible(False)\n",
        "\n",
        "        # display reconstruction\n",
        "        ax = plt.subplot(2, n, i + 1 + n)\n",
        "        plt.imshow(array2[i].reshape(dim))\n",
        "        plt.title(\"reconstructed\")\n",
        "        plt.gray()\n",
        "        ax.get_xaxis().set_visible(False)\n",
        "        ax.get_yaxis().set_visible(False)\n",
        "\n",
        "    plt.show()"
      ]
    },
    {
      "cell_type": "code",
      "execution_count": 10,
      "metadata": {
        "colab": {
          "base_uri": "https://localhost:8080/"
        },
        "id": "pkwidUchQMLg",
        "outputId": "ef2d10aa-e31b-48b6-c121-948e73e45da4"
      },
      "outputs": [
        {
          "data": {
            "text/plain": [
              "((9000, 64, 96, 1), (1000, 64, 96, 1))"
            ]
          },
          "execution_count": 10,
          "metadata": {},
          "output_type": "execute_result"
        }
      ],
      "source": [
        "X_validation = X_train[9000:]\n",
        "X_train = X_train[:9000]\n",
        "\n",
        "X_train.shape, X_validation.shape"
      ]
    },
    {
      "cell_type": "code",
      "execution_count": 11,
      "metadata": {
        "colab": {
          "base_uri": "https://localhost:8080/"
        },
        "id": "js5D6s61l8q2",
        "outputId": "9b783165-47f0-4ddd-e30a-f8a0f9203b31"
      },
      "outputs": [
        {
          "data": {
            "text/plain": [
              "(9000, 64, 96, 1)"
            ]
          },
          "execution_count": 11,
          "metadata": {},
          "output_type": "execute_result"
        }
      ],
      "source": [
        "X_train.shape"
      ]
    },
    {
      "cell_type": "markdown",
      "metadata": {
        "id": "XFPHdEj2JlMb"
      },
      "source": [
        "## Parte 2 - Autoencoder\n",
        "\n",
        "Ya tenemos generado el conjunto de datos con el que vamos a trabajar, así que ahora toca diseñar el modelo. Os dejo los imports ya hechos para que tengáis una idea de por donde empezar. Recordad que hemos definido antes el tamaño que iba a tener el espacio latente, y que este tamaño debe ser la salida del modelo del encoder y del decoder. Si, vamos a definirlos por separado. Lo vamos a hacer así para, tras entrenar el transformer entero, solo tengamos que copiar pesos a esta estructura ya definida."
      ]
    },
    {
      "cell_type": "code",
      "execution_count": 25,
      "metadata": {
        "id": "XnbYoeUjKK7g"
      },
      "outputs": [],
      "source": [
        "# imports de modelo y capas que queráis usar, nosotros os dejamos estas\n",
        "\n",
        "from keras.models import Model, load_model, Sequential\n",
        "from keras.layers import Input, Dense, UpSampling2D, Flatten, Reshape\n",
        "from keras.layers.convolutional import Conv2D, Conv2DTranspose\n",
        "from keras.layers.pooling import MaxPooling2D, AveragePooling2D\n",
        "from keras.layers.merge import concatenate\n",
        "from keras.callbacks import EarlyStopping, ModelCheckpoint, ReduceLROnPlateau\n",
        "from keras.backend import int_shape\n",
        "from tensorflow.keras.optimizers import Adam"
      ]
    },
    {
      "cell_type": "code",
      "execution_count": 13,
      "metadata": {
        "colab": {
          "base_uri": "https://localhost:8080/"
        },
        "id": "GMgL_wR6l8q3",
        "outputId": "ede14780-1b4f-45df-bd79-2b8a4fa85992"
      },
      "outputs": [
        {
          "data": {
            "text/plain": [
              "(64, 96, 1)"
            ]
          },
          "execution_count": 13,
          "metadata": {},
          "output_type": "execute_result"
        }
      ],
      "source": [
        "input_shape=INPUT_SHAPE+(1,)\n",
        "input_shape"
      ]
    },
    {
      "cell_type": "code",
      "execution_count": 14,
      "metadata": {
        "colab": {
          "base_uri": "https://localhost:8080/"
        },
        "id": "uR-3OFmql8q4",
        "outputId": "96206b3c-8ea9-44b8-b785-ee73f82f7bb7"
      },
      "outputs": [
        {
          "name": "stdout",
          "output_type": "stream",
          "text": [
            "Model: \"sequential\"\n",
            "_________________________________________________________________\n",
            " Layer (type)                Output Shape              Param #   \n",
            "=================================================================\n",
            " conv2d (Conv2D)             (None, 64, 96, 64)        640       \n",
            "                                                                 \n",
            " conv2d_1 (Conv2D)           (None, 64, 96, 32)        18464     \n",
            "                                                                 \n",
            " max_pooling2d (MaxPooling2D  (None, 32, 48, 32)       0         \n",
            " )                                                               \n",
            "                                                                 \n",
            " conv2d_2 (Conv2D)           (None, 32, 48, 32)        9248      \n",
            "                                                                 \n",
            " conv2d_3 (Conv2D)           (None, 32, 48, 16)        4624      \n",
            "                                                                 \n",
            " flatten (Flatten)           (None, 24576)             0         \n",
            "                                                                 \n",
            " dense (Dense)               (None, 128)               3145856   \n",
            "                                                                 \n",
            "=================================================================\n",
            "Total params: 3,178,832\n",
            "Trainable params: 3,178,832\n",
            "Non-trainable params: 0\n",
            "_________________________________________________________________\n"
          ]
        }
      ],
      "source": [
        "# Definir el encoder, ya sabeis que el tamaño de salida debe coincidir con la entrada del decoder\n",
        "\n",
        "def Encoder(input_shape, latent_shape):\n",
        "    \"\"\" Encoder model. Creates an instance of keras.Model()\n",
        "    which tekaes inputs and feature, being feature a RNN\n",
        "    \"\"\"\n",
        "    model = Sequential()\n",
        "    model.add(Input(shape=input_shape))\n",
        "\n",
        "    # Convolutional layer\n",
        "    # each layer reduces img by strides or pool_size\n",
        "    # in this case (2,2) > 96,64 > 48, 32 \n",
        "    \n",
        "    model.add(Conv2D(filters = 64, kernel_size = 3, activation = 'relu',padding = 'same'))\n",
        "    model.add(Conv2D(filters = 32, kernel_size = 3, activation = 'relu',padding = 'same'))\n",
        "    \n",
        "    model.add(MaxPooling2D((2, 2), padding='same'))  \n",
        "    \n",
        "    model.add(Conv2D(filters = 32, kernel_size = 3, activation = 'relu',padding = 'same'))\n",
        "    model.add(Conv2D(filters = 16, kernel_size = 3, activation = 'relu',padding = 'same'))\n",
        "    \n",
        "    model.add(Flatten()) \n",
        "    model.add(Dense(latent_shape, activation='sigmoid'))\n",
        "    \n",
        "    return model\n",
        "\n",
        "###########################\n",
        "encoder = Encoder(input_shape=INPUT_SHAPE+(1,), latent_shape=LATENT_SPACE_SIZE)\n",
        "encoder.summary()"
      ]
    },
    {
      "cell_type": "code",
      "execution_count": 15,
      "metadata": {
        "colab": {
          "base_uri": "https://localhost:8080/"
        },
        "id": "-BAd9UCgl8q5",
        "outputId": "7c46d0e7-fdf6-4f07-8896-6ecd9a2d2730"
      },
      "outputs": [
        {
          "name": "stdout",
          "output_type": "stream",
          "text": [
            "Model: \"sequential_1\"\n",
            "_________________________________________________________________\n",
            " Layer (type)                Output Shape              Param #   \n",
            "=================================================================\n",
            " dense_1 (Dense)             (None, 128)               16512     \n",
            "                                                                 \n",
            " dense_2 (Dense)             (None, 24576)             3170304   \n",
            "                                                                 \n",
            " reshape (Reshape)           (None, 32, 48, 16)        0         \n",
            "                                                                 \n",
            " conv2d_4 (Conv2D)           (None, 32, 48, 16)        2320      \n",
            "                                                                 \n",
            " conv2d_5 (Conv2D)           (None, 32, 48, 32)        4640      \n",
            "                                                                 \n",
            " up_sampling2d (UpSampling2D  (None, 64, 96, 32)       0         \n",
            " )                                                               \n",
            "                                                                 \n",
            " conv2d_transpose (Conv2DTra  (None, 64, 96, 32)       9248      \n",
            " nspose)                                                         \n",
            "                                                                 \n",
            " conv2d_transpose_1 (Conv2DT  (None, 64, 96, 64)       18496     \n",
            " ranspose)                                                       \n",
            "                                                                 \n",
            " conv2d_transpose_2 (Conv2DT  (None, 64, 96, 1)        577       \n",
            " ranspose)                                                       \n",
            "                                                                 \n",
            "=================================================================\n",
            "Total params: 3,222,097\n",
            "Trainable params: 3,222,097\n",
            "Non-trainable params: 0\n",
            "_________________________________________________________________\n"
          ]
        }
      ],
      "source": [
        "# Definir el edecoder, ya sabeis que el tamaño de entrada debe coincidir con la salida del encoder\n",
        "\n",
        "# Decoder model. Creates an instance of keras.Model() which takes inputs and feature. \n",
        "# The architecture has to be simmetric to the Encoder.\n",
        "def Decoder(input_shape, latent_shape):\n",
        "    \n",
        "    model = Sequential()\n",
        "    model.add(Input(shape=input_shape))\n",
        "    \n",
        "    model.add(Dense(latent_shape, activation='relu'))\n",
        "    model.add(Dense(32*48*16, activation='relu'))\n",
        "    model.add(Reshape((32, 48, 16))) # 2x4x16 = 128\n",
        "\n",
        "    model.add(Conv2D(filters = 16, kernel_size = 3, activation = 'relu',padding = 'same'))\n",
        "    model.add(Conv2D(filters = 32, kernel_size = 3, activation = 'relu',padding = 'same'))\n",
        "    \n",
        "    model.add(UpSampling2D((2, 2)))  \n",
        "    \n",
        "    model.add(Conv2DTranspose(filters = 32, kernel_size = 3, activation = 'relu',padding = 'same'))\n",
        "    model.add(Conv2DTranspose(filters = 64, kernel_size = 3, activation = 'relu',padding = 'same'))\n",
        "    \n",
        "    # para que la salida tenga 1 canal y no 64, añado la capa con funcion de activación sigmoide\n",
        "    model.add(Conv2DTranspose(1, (3, 3), activation=\"sigmoid\", padding=\"same\"))\n",
        "\n",
        "    #model.add(UpSampling2D((2, 2)))  \n",
        "        \n",
        "    return model\n",
        "\n",
        "# el output tiene que ser (None, 64, 96, 1)\n",
        "\n",
        "###########################\n",
        "decoder = Decoder(input_shape=encoder.output_shape[1:], latent_shape=LATENT_SPACE_SIZE)\n",
        "decoder.summary()"
      ]
    },
    {
      "cell_type": "code",
      "execution_count": 28,
      "metadata": {
        "colab": {
          "base_uri": "https://localhost:8080/"
        },
        "id": "R9ZXoly0LyC3",
        "outputId": "8b6449a2-b720-4923-b19f-3611bcbd2267"
      },
      "outputs": [
        {
          "name": "stdout",
          "output_type": "stream",
          "text": [
            "Model: \"sequential_11\"\n",
            "_________________________________________________________________\n",
            " Layer (type)                Output Shape              Param #   \n",
            "=================================================================\n",
            " sequential_12 (Sequential)  (None, 128)               3178832   \n",
            "                                                                 \n",
            " sequential_13 (Sequential)  (None, 64, 96, 1)         3222097   \n",
            "                                                                 \n",
            "=================================================================\n",
            "Total params: 6,400,929\n",
            "Trainable params: 6,400,929\n",
            "Non-trainable params: 0\n",
            "_________________________________________________________________\n"
          ]
        },
        {
          "name": "stderr",
          "output_type": "stream",
          "text": [
            "/usr/local/lib/python3.7/dist-packages/keras/optimizer_v2/adam.py:105: UserWarning: The `lr` argument is deprecated, use `learning_rate` instead.\n",
            "  super(Adam, self).__init__(name, **kwargs)\n"
          ]
        }
      ],
      "source": [
        "# finalmente el autoencoder no será otra cosa que la estructura del encoder capa por capa y justo a continuación la del decoder capa por capa\n",
        "def Autoencoder(input_shape, latent_shape):\n",
        "    \"\"\" Instancia las funciones de Encoder y Decoder\n",
        "    \"\"\"\n",
        "    \n",
        "    model = Sequential()\n",
        "    model.add(Input(shape=input_shape ))\n",
        "    model.add(Encoder(\n",
        "        input_shape=input_shape, \n",
        "        latent_shape=latent_shape)\n",
        "    )\n",
        "    \n",
        "    x = model.output_shape[1:]\n",
        "    model.add(Decoder(input_shape=x,\n",
        "                     latent_shape=LATENT_SPACE_SIZE))\n",
        "    \n",
        "    return model\n",
        "\n",
        "\n",
        "##########################\n",
        "\n",
        "model = Autoencoder(\n",
        "    input_shape=INPUT_SHAPE+(1,),\n",
        "    latent_shape=LATENT_SPACE_SIZE\n",
        ")\n",
        "\n",
        "model.compile(\n",
        "    optimizer=Adam(lr = 0.001), \n",
        "    loss=['binary_crossentropy', 'mse']\n",
        ")\n",
        "model.summary()"
      ]
    },
    {
      "cell_type": "code",
      "execution_count": 17,
      "metadata": {
        "colab": {
          "base_uri": "https://localhost:8080/"
        },
        "id": "F-jY3oVHl8q6",
        "outputId": "d67671d1-d8dd-4999-c328-754eb23e957c"
      },
      "outputs": [
        {
          "data": {
            "text/plain": [
              "(64, 96, 1)"
            ]
          },
          "execution_count": 17,
          "metadata": {},
          "output_type": "execute_result"
        }
      ],
      "source": [
        "input_shape"
      ]
    },
    {
      "cell_type": "code",
      "execution_count": 20,
      "metadata": {
        "id": "lZy-AHnEUMM8"
      },
      "outputs": [],
      "source": [
        "# A callback is an object that can perform actions at various stages \n",
        "# of training. \n",
        "\n",
        "# You can pass a list of instances of callbacks (as the keyword \n",
        "# argument callbacks) to the .fit() method of a model.\n",
        "\n",
        "# - EarlyStopping: https://keras.io/api/callbacks/early_stopping/\n",
        "# - ModelCheckpoint: https://keras.io/api/callbacks/model_checkpoint/\n",
        "# - ReduceLROnPlateau: https://keras.io/api/callbacks/reduce_lr_on_plateau/\n",
        "\n",
        "# Ref: https://keras.io/api/callbacks/\n",
        "\n",
        "model_callbacks = [\n",
        "    EarlyStopping(monitor=\"loss\", patience=3, verbose = 1), \n",
        "    # ModelCheckpoint(),\n",
        "    ReduceLROnPlateau(monitor=\"loss\", factor=0.1, patience = 3, min_lr=0.0001)\n",
        "]"
      ]
    },
    {
      "cell_type": "code",
      "execution_count": 29,
      "metadata": {
        "colab": {
          "base_uri": "https://localhost:8080/"
        },
        "id": "66cwgFH3l8q7",
        "outputId": "96d04782-6f49-483d-dc5b-5394e8d40044"
      },
      "outputs": [
        {
          "name": "stdout",
          "output_type": "stream",
          "text": [
            "Epoch 1/40\n",
            "141/141 [==============================] - 10s 64ms/step - loss: 0.6137 - lr: 0.0010\n",
            "Epoch 2/40\n",
            "141/141 [==============================] - 9s 64ms/step - loss: 0.5739 - lr: 0.0010\n",
            "Epoch 3/40\n",
            "141/141 [==============================] - 9s 64ms/step - loss: 0.5639 - lr: 0.0010\n",
            "Epoch 4/40\n",
            "141/141 [==============================] - 9s 64ms/step - loss: 0.5588 - lr: 0.0010\n",
            "Epoch 5/40\n",
            "141/141 [==============================] - 9s 65ms/step - loss: 0.5551 - lr: 0.0010\n",
            "Epoch 6/40\n",
            "141/141 [==============================] - 9s 65ms/step - loss: 0.5525 - lr: 0.0010\n",
            "Epoch 7/40\n",
            "141/141 [==============================] - 9s 65ms/step - loss: 0.5506 - lr: 0.0010\n",
            "Epoch 8/40\n",
            "141/141 [==============================] - 9s 65ms/step - loss: 0.5495 - lr: 0.0010\n",
            "Epoch 9/40\n",
            "141/141 [==============================] - 9s 65ms/step - loss: 0.5480 - lr: 0.0010\n",
            "Epoch 10/40\n",
            "141/141 [==============================] - 9s 65ms/step - loss: 0.5469 - lr: 0.0010\n",
            "Epoch 11/40\n",
            "141/141 [==============================] - 9s 65ms/step - loss: 0.5460 - lr: 0.0010\n",
            "Epoch 12/40\n",
            "141/141 [==============================] - 9s 65ms/step - loss: 0.5451 - lr: 0.0010\n",
            "Epoch 13/40\n",
            "141/141 [==============================] - 10s 70ms/step - loss: 0.5448 - lr: 0.0010\n",
            "Epoch 14/40\n",
            "141/141 [==============================] - 9s 65ms/step - loss: 0.5439 - lr: 0.0010\n",
            "Epoch 15/40\n",
            "141/141 [==============================] - 10s 68ms/step - loss: 0.5435 - lr: 0.0010\n",
            "Epoch 16/40\n",
            "141/141 [==============================] - 9s 66ms/step - loss: 0.5428 - lr: 0.0010\n",
            "Epoch 17/40\n",
            "141/141 [==============================] - 9s 65ms/step - loss: 0.5423 - lr: 0.0010\n",
            "Epoch 18/40\n",
            "141/141 [==============================] - 9s 65ms/step - loss: 0.5422 - lr: 0.0010\n",
            "Epoch 19/40\n",
            "141/141 [==============================] - 9s 65ms/step - loss: 0.5417 - lr: 0.0010\n",
            "Epoch 20/40\n",
            "141/141 [==============================] - 9s 65ms/step - loss: 0.5412 - lr: 0.0010\n",
            "Epoch 21/40\n",
            "141/141 [==============================] - 9s 64ms/step - loss: 0.5414 - lr: 0.0010\n",
            "Epoch 22/40\n",
            "141/141 [==============================] - 9s 64ms/step - loss: 0.5407 - lr: 0.0010\n",
            "Epoch 23/40\n",
            "141/141 [==============================] - 9s 65ms/step - loss: 0.5403 - lr: 0.0010\n",
            "Epoch 24/40\n",
            "141/141 [==============================] - 9s 65ms/step - loss: 0.5402 - lr: 0.0010\n",
            "Epoch 25/40\n",
            "141/141 [==============================] - 9s 65ms/step - loss: 0.5400 - lr: 0.0010\n",
            "Epoch 26/40\n",
            "141/141 [==============================] - 9s 66ms/step - loss: 0.5398 - lr: 0.0010\n",
            "Epoch 27/40\n",
            "141/141 [==============================] - 9s 66ms/step - loss: 0.5397 - lr: 0.0010\n",
            "Epoch 28/40\n",
            "141/141 [==============================] - 9s 66ms/step - loss: 0.5393 - lr: 0.0010\n",
            "Epoch 29/40\n",
            "141/141 [==============================] - 9s 65ms/step - loss: 0.5391 - lr: 0.0010\n",
            "Epoch 30/40\n",
            "141/141 [==============================] - 9s 65ms/step - loss: 0.5391 - lr: 0.0010\n",
            "Epoch 31/40\n",
            "141/141 [==============================] - 9s 65ms/step - loss: 0.5393 - lr: 0.0010\n",
            "Epoch 32/40\n",
            "141/141 [==============================] - 9s 65ms/step - loss: 0.5387 - lr: 0.0010\n",
            "Epoch 33/40\n",
            "141/141 [==============================] - 9s 65ms/step - loss: 0.5387 - lr: 0.0010\n",
            "Epoch 34/40\n",
            "141/141 [==============================] - 9s 65ms/step - loss: 0.5383 - lr: 0.0010\n",
            "Epoch 35/40\n",
            "141/141 [==============================] - 9s 65ms/step - loss: 0.5382 - lr: 0.0010\n",
            "Epoch 36/40\n",
            "141/141 [==============================] - 9s 65ms/step - loss: 0.5382 - lr: 0.0010\n",
            "Epoch 37/40\n",
            "141/141 [==============================] - 9s 66ms/step - loss: 0.5380 - lr: 0.0010\n",
            "Epoch 38/40\n",
            "141/141 [==============================] - 9s 65ms/step - loss: 0.5381 - lr: 0.0010\n",
            "Epoch 39/40\n",
            "141/141 [==============================] - 9s 65ms/step - loss: 0.5379 - lr: 0.0010\n",
            "Epoch 40/40\n",
            "141/141 [==============================] - 9s 65ms/step - loss: 0.5375 - lr: 0.0010\n"
          ]
        }
      ],
      "source": [
        "# - EarlyStopping: https://keras.io/api/callbacks/early_stopping/\n",
        "# - ModelCheckpoint: https://keras.io/api/callbacks/model_checkpoint/\n",
        "# - ReduceLROnPlateau: https://keras.io/api/callbacks/reduce_lr_on_plateau/\n",
        "\n",
        "#VALIDATION_SPLIT = 0.2\n",
        "EPOCHS = 40\n",
        "BATCH_SIZE = 64\n",
        "\n",
        "history = model.fit(\n",
        "    x=X_train, \n",
        "    y=X_train,\n",
        "    epochs= EPOCHS,\n",
        "    #validation_split = VALIDATION_SPLIT,\n",
        "    callbacks=model_callbacks,\n",
        "    batch_size= BATCH_SIZE\n",
        ")"
      ]
    },
    {
      "cell_type": "code",
      "execution_count": 30,
      "metadata": {
        "colab": {
          "base_uri": "https://localhost:8080/",
          "height": 232
        },
        "id": "KIFr3IvYl8q7",
        "outputId": "0ec31013-255f-4c35-df12-186f6f3fde8e"
      },
      "outputs": [
        {
          "data": {
            "image/png": "[encoded data removed]",
            "text/plain": [
              "<Figure size 1440x288 with 20 Axes>"
            ]
          },
          "metadata": {
            "needs_background": "light"
          },
          "output_type": "display_data"
        }
      ],
      "source": [
        "X_pred  = model.predict(X_validation[100:110])\n",
        "\n",
        "display(X_validation[100:110], X_pred, (64,96))"
      ]
    },
    {
      "cell_type": "markdown",
      "metadata": {
        "id": "6EfhDS0lUknV"
      },
      "source": [
        "## Una de guardar los rasultados y tal, ¿no?"
      ]
    },
    {
      "cell_type": "code",
      "execution_count": 31,
      "metadata": {
        "id": "zZXWuQW3UexG"
      },
      "outputs": [],
      "source": [
        "model.save('Dancer_Auto_Model.hdf5')\n",
        "model.save_weights(\"Dancer_Auto_Weights.hdf5\")"
      ]
    },
    {
      "cell_type": "markdown",
      "metadata": {
        "id": "kawIX0U5UwDB"
      },
      "source": [
        "Ahora que tenemos guardados tanto el modelo como los pesos que se han aprendido, podemos cargarlos en los modelos Encoder y Decoder que hemos creado antes (¿Cómodo eh?)"
      ]
    },
    {
      "cell_type": "code",
      "execution_count": 33,
      "metadata": {
        "colab": {
          "base_uri": "https://localhost:8080/"
        },
        "id": "MhmCyXASVKs1",
        "outputId": "426ac14d-6e73-4dd3-83fc-263f07e0d158"
      },
      "outputs": [
        {
          "name": "stdout",
          "output_type": "stream",
          "text": [
            "WARNING:tensorflow:Compiled the loaded model, but the compiled metrics have yet to be built. `model.compile_metrics` will be empty until you train or evaluate the model.\n",
            "WARNING:tensorflow:Compiled the loaded model, but the compiled metrics have yet to be built. `model.compile_metrics` will be empty until you train or evaluate the model.\n"
          ]
        }
      ],
      "source": [
        "encoder = Encoder(    \n",
        "    input_shape=INPUT_SHAPE+(1,),\n",
        "    latent_shape=LATENT_SPACE_SIZE\n",
        ")\n",
        "decoder = Decoder(\n",
        "    input_shape=encoder.output_shape[1:],\n",
        "    latent_shape=LATENT_SPACE_SIZE\n",
        ")\n",
        "\n",
        "# Cargar los pesos correspondientes desde el autoencoder por nombre\n",
        "encoder.load_weights(\"Dancer_Auto_Weights.hdf5\", by_name=True)\n",
        "decoder.load_weights(\"Dancer_Auto_Weights.hdf5\", by_name=True)\n",
        "\n",
        "# Guardar Modelo\n",
        "decoder.save('Dancer_Decoder_Model.hdf5') \n",
        "encoder.save('Dancer_Encoder_Model.hdf5')\n",
        "\n",
        "# Guardar pesos\n",
        "decoder.save_weights(\"Dancer_Decoder_Weights.hdf5\")\n",
        "encoder.save_weights(\"Dancer_Encoder_Weights.hdf5\")"
      ]
    },
    {
      "cell_type": "code",
      "execution_count": 34,
      "metadata": {
        "id": "LnGhrn-jVdIj"
      },
      "outputs": [],
      "source": [
        "Dance_Data  = encoder.predict(X_train) # y con esto tenemos ya la base para entrenar la RNN"
      ]
    },
    {
      "cell_type": "markdown",
      "metadata": {
        "id": "S5DOHD7qXqy7"
      },
      "source": [
        "## Parte 3 - Crear el conjunto de entrenamiento para la RNN\n",
        "\n",
        "A la red que prediga el siguiente frame le tendremos que pasar una secuencia de unos ciertos frames para que, en función de estos, prediga el siguiente. Esto va a tener forma de una estructura de datos donde cada \"rodaja\" será una matriz donde estarán apilados los vectores que representan cada frame de la secuencia base. Por lo tanto, las etiquetas a predecir será una matriz con los vectores correspondientes a cada secuencia a predecir. Esto no es por si de la lección de este sábado, pero os lo dejo hecho para que no tengais que pegaros con ello y estéis más tiempo en el autoencoder ;). Si os veis pegados, os puedo pasar tambien los pesos de la red, que ya entrené y guardé en su momento."
      ]
    },
    {
      "cell_type": "code",
      "execution_count": 35,
      "metadata": {
        "colab": {
          "base_uri": "https://localhost:8080/"
        },
        "id": "8p7ZgufTDUNF",
        "outputId": "34530dcb-b1f1-4a80-f7dd-9b1ccd67c5d2"
      },
      "outputs": [
        {
          "data": {
            "text/plain": [
              "(9000, 64, 96, 1)"
            ]
          },
          "execution_count": 35,
          "metadata": {},
          "output_type": "execute_result"
        }
      ],
      "source": [
        "X_train.shape"
      ]
    },
    {
      "cell_type": "code",
      "execution_count": 36,
      "metadata": {
        "colab": {
          "base_uri": "https://localhost:8080/"
        },
        "id": "4XaDecpKV9NO",
        "outputId": "9341461d-a4e5-4102-a507-91ddbd0343fb"
      },
      "outputs": [
        {
          "name": "stdout",
          "output_type": "stream",
          "text": [
            "(8930, 70, 128)\n",
            "(8930, 128)\n"
          ]
        }
      ],
      "source": [
        "TRAIN_SIZE = Dance_Data.shape[0]\n",
        "INPUT_SIZE = Dance_Data.shape[1]\n",
        "SEQUENCE_LENGTH = 70\n",
        "\n",
        "X_train = np.zeros((TRAIN_SIZE-SEQUENCE_LENGTH, SEQUENCE_LENGTH, INPUT_SIZE), dtype='float32')\n",
        "Y_train = np.zeros((TRAIN_SIZE-SEQUENCE_LENGTH, INPUT_SIZE), dtype='float32')\n",
        "\n",
        "for i in range(0, TRAIN_SIZE-SEQUENCE_LENGTH, 1 ): \n",
        "    X_train[i] = Dance_Data[i:i + SEQUENCE_LENGTH]\n",
        "    Y_train[i] = Dance_Data[i + SEQUENCE_LENGTH]\n",
        "\n",
        "print(X_train.shape)\n",
        "print(Y_train.shape)"
      ]
    },
    {
      "cell_type": "markdown",
      "metadata": {
        "id": "DnEMNsyjZGPk"
      },
      "source": [
        "Con el conjunto de entrenamiento creado, lo único que queda es definir la red que va a aprender de él:"
      ]
    },
    {
      "cell_type": "code",
      "execution_count": 37,
      "metadata": {
        "colab": {
          "base_uri": "https://localhost:8080/"
        },
        "id": "N-l7o2jbZY4b",
        "outputId": "844a9c2c-a560-4b2a-b233-fb2f4aaf034b"
      },
      "outputs": [
        {
          "name": "stdout",
          "output_type": "stream",
          "text": [
            "Model: \"model\"\n",
            "_________________________________________________________________\n",
            " Layer (type)                Output Shape              Param #   \n",
            "=================================================================\n",
            " input_19 (InputLayer)       [(None, 70, 128)]         0         \n",
            "                                                                 \n",
            " lstm (LSTM)                 (None, 70, 512)           1312768   \n",
            "                                                                 \n",
            " lstm_1 (LSTM)               (None, 70, 256)           787456    \n",
            "                                                                 \n",
            " lstm_2 (LSTM)               (None, 70, 512)           1574912   \n",
            "                                                                 \n",
            " lstm_3 (LSTM)               (None, 70, 256)           787456    \n",
            "                                                                 \n",
            " lstm_4 (LSTM)               (None, 70, 512)           1574912   \n",
            "                                                                 \n",
            " lstm_5 (LSTM)               (None, 1024)              6295552   \n",
            "                                                                 \n",
            " dense_21 (Dense)            (None, 512)               524800    \n",
            "                                                                 \n",
            " dense_22 (Dense)            (None, 256)               131328    \n",
            "                                                                 \n",
            " dense_23 (Dense)            (None, 128)               32896     \n",
            "                                                                 \n",
            "=================================================================\n",
            "Total params: 13,022,080\n",
            "Trainable params: 13,022,080\n",
            "Non-trainable params: 0\n",
            "_________________________________________________________________\n"
          ]
        },
        {
          "name": "stderr",
          "output_type": "stream",
          "text": [
            "/usr/local/lib/python3.7/dist-packages/keras/optimizer_v2/adam.py:105: UserWarning: The `lr` argument is deprecated, use `learning_rate` instead.\n",
            "  super(Adam, self).__init__(name, **kwargs)\n"
          ]
        }
      ],
      "source": [
        "from tensorflow.keras.optimizers import Adam\n",
        "\n",
        "from keras.models import Model\n",
        "from keras.utils import np_utils\n",
        "\n",
        "from keras.preprocessing import sequence\n",
        "from keras.models import Sequential\n",
        "from keras.models import load_model\n",
        "from keras.layers import LSTM\n",
        "from keras.callbacks import EarlyStopping, ModelCheckpoint, Callback\n",
        "\n",
        "def RNN_Dance():\n",
        "    inp = Input(shape=(SEQUENCE_LENGTH, INPUT_SIZE))\n",
        "    x = LSTM(512, return_sequences=True,)(inp)\n",
        "    x = LSTM(256, return_sequences=True,)(x)\n",
        "    x = LSTM(512, return_sequences=True,)(x)\n",
        "    x = LSTM(256, return_sequences=True,)(x)\n",
        "    x = LSTM(512, return_sequences=True,)(x)\n",
        "    x = LSTM(1024,)(x)\n",
        "    x = Dense(512, activation=\"elu\")(x)\n",
        "    x = Dense(256, activation=\"elu\")(x)\n",
        "    outp = Dense(INPUT_SIZE, activation='sigmoid')(x)\n",
        "    model = Model(inputs=inp, outputs=outp)\n",
        "    model.compile(loss='mse',\n",
        "                  optimizer=Adam(lr=0.0002),\n",
        "                  metrics=['accuracy'])\n",
        "    return model\n",
        "  \n",
        "model = RNN_Dance()\n",
        "\n",
        "model.summary()"
      ]
    },
    {
      "cell_type": "markdown",
      "metadata": {
        "id": "cBQLKnnpgkPa"
      },
      "source": [
        "### A entrenar!!"
      ]
    },
    {
      "cell_type": "code",
      "execution_count": 38,
      "metadata": {
        "colab": {
          "base_uri": "https://localhost:8080/"
        },
        "id": "OnKYG7bHarjU",
        "outputId": "1839997d-ccb0-4d0f-b1cc-61d43bf3cc45"
      },
      "outputs": [
        {
          "name": "stdout",
          "output_type": "stream",
          "text": [
            "Epoch 1/60\n",
            "140/140 [==============================] - 24s 115ms/step - loss: 0.0141 - accuracy: 0.5811\n",
            "Epoch 2/60\n",
            "140/140 [==============================] - 16s 116ms/step - loss: 3.2721e-04 - accuracy: 0.7281\n",
            "Epoch 3/60\n",
            "140/140 [==============================] - 16s 117ms/step - loss: 3.1210e-04 - accuracy: 0.7281\n",
            "Epoch 4/60\n",
            "140/140 [==============================] - 17s 118ms/step - loss: 2.4720e-04 - accuracy: 0.6878\n",
            "Epoch 5/60\n",
            "140/140 [==============================] - 17s 119ms/step - loss: 2.4398e-04 - accuracy: 0.7281\n",
            "Epoch 6/60\n",
            "140/140 [==============================] - 17s 120ms/step - loss: 2.4473e-04 - accuracy: 0.7184\n",
            "Epoch 7/60\n",
            "140/140 [==============================] - 17s 121ms/step - loss: 2.4447e-04 - accuracy: 0.7180\n"
          ]
        },
        {
          "data": {
            "text/plain": [
              "<keras.callbacks.History at 0x7f4de438d590>"
            ]
          },
          "execution_count": 38,
          "metadata": {},
          "output_type": "execute_result"
        }
      ],
      "source": [
        "last_callbacks = [\n",
        "    EarlyStopping(monitor=\"accuracy\", patience=5)]\n",
        "\n",
        "model.fit(X_train, Y_train,\n",
        "              batch_size=64,\n",
        "              epochs=60,\n",
        "              callbacks=last_callbacks,\n",
        "              verbose=1)"
      ]
    },
    {
      "cell_type": "code",
      "execution_count": 39,
      "metadata": {
        "id": "jScltPeCl8rC"
      },
      "outputs": [],
      "source": [
        "%mkdir -p \"models\""
      ]
    },
    {
      "cell_type": "code",
      "execution_count": 40,
      "metadata": {
        "id": "52T_FWh_dmcy"
      },
      "outputs": [],
      "source": [
        "model.save(\"models/Ai_Dance_RNN_Model.hdf5\")\n",
        "model.save_weights('models/Ai_Dance_RNN_Weights.hdf5')"
      ]
    },
    {
      "cell_type": "markdown",
      "metadata": {
        "id": "GQZqXzzSgtAF"
      },
      "source": [
        "Una vez entrenado, generaremos unos cuantos vectores. Es interesante añadirle de vez en cuando un frame aleatorio para que no se quede parado en un bucle"
      ]
    },
    {
      "cell_type": "code",
      "execution_count": 41,
      "metadata": {
        "colab": {
          "base_uri": "https://localhost:8080/"
        },
        "id": "Ullbe-cMdq5q",
        "outputId": "dd817305-dc58-4046-b2c7-cc3fd5207b71"
      },
      "outputs": [
        {
          "name": "stdout",
          "output_type": "stream",
          "text": [
            "Processed 0 frames.\n",
            "Processed 100 frames.\n",
            "Processed 200 frames.\n",
            "Processed 300 frames.\n",
            "Processed 400 frames.\n",
            "Processed 500 frames.\n",
            "Processed 600 frames.\n",
            "Processed 700 frames.\n",
            "Processed 800 frames.\n",
            "Processed 900 frames.\n",
            "Processed 1000 frames.\n",
            "Processed 1100 frames.\n",
            "Processed 1200 frames.\n",
            "Processed 1300 frames.\n",
            "Processed 1400 frames.\n",
            "Processed 1500 frames.\n",
            "Processed 1600 frames.\n",
            "Processed 1700 frames.\n",
            "Processed 1800 frames.\n",
            "Processed 1900 frames.\n",
            "Processed 2000 frames.\n",
            "Processed 2100 frames.\n",
            "Processed 2200 frames.\n",
            "Processed 2300 frames.\n",
            "Processed 2400 frames.\n",
            "Processed 2500 frames.\n",
            "Processed 2600 frames.\n",
            "Processed 2700 frames.\n",
            "Processed 2800 frames.\n",
            "Processed 2900 frames.\n",
            "Processed 3000 frames.\n",
            "Processed 3100 frames.\n",
            "Processed 3200 frames.\n",
            "Processed 3300 frames.\n",
            "Processed 3400 frames.\n",
            "Processed 3500 frames.\n",
            "Processed 3600 frames.\n",
            "Processed 3700 frames.\n",
            "Processed 3800 frames.\n",
            "Processed 3900 frames.\n",
            "Processed 4000 frames.\n",
            "Processed 4100 frames.\n",
            "Processed 4200 frames.\n",
            "Processed 4300 frames.\n",
            "Processed 4400 frames.\n",
            "Processed 4500 frames.\n",
            "Processed 4600 frames.\n",
            "Processed 4700 frames.\n",
            "Processed 4800 frames.\n",
            "Processed 4900 frames.\n",
            "Processed 5000 frames.\n",
            "Processed 5100 frames.\n",
            "Processed 5200 frames.\n",
            "Processed 5300 frames.\n",
            "Processed 5400 frames.\n",
            "Processed 5500 frames.\n",
            "Processed 5600 frames.\n",
            "Processed 5700 frames.\n",
            "Processed 5800 frames.\n",
            "Processed 5900 frames.\n"
          ]
        }
      ],
      "source": [
        "DANCE_LENGTH  = 6000\n",
        "LOOPBREAKER = 10\n",
        "\n",
        "x = np.random.randint(0, X_train.shape[0]-1)\n",
        "pattern = X_train[x]\n",
        "outp = np.zeros((DANCE_LENGTH, INPUT_SIZE), dtype='float32')\n",
        "for t in range(DANCE_LENGTH):\n",
        "    x = np.reshape(pattern, (1, pattern.shape[0], pattern.shape[1]))\n",
        "    pred = model.predict(x)\n",
        "    result = pred[0]\n",
        "    outp[t] = result\n",
        "    new_pattern = np.zeros((SEQUENCE_LENGTH, INPUT_SIZE), dtype='float32') \n",
        "    new_pattern[0:SEQUENCE_LENGTH-1] = pattern[1:SEQUENCE_LENGTH]\n",
        "    new_pattern[-1] = result\n",
        "    pattern = np.copy(new_pattern)\n",
        "    ####loopbreaker####\n",
        "    if t % LOOPBREAKER == 0:\n",
        "        pattern[np.random.randint(0, SEQUENCE_LENGTH-10)] = Y_train[np.random.randint(0, Y_train.shape[0]-1)]\n",
        "    \n",
        "    if t % 100 == 0:\n",
        "        print(f\"Processed {t} frames.\")"
      ]
    },
    {
      "cell_type": "markdown",
      "metadata": {
        "id": "BH1ektz0hJhB"
      },
      "source": [
        "Ahora simplemente generamos el video decodificando los vectores para recuperar las imágenes"
      ]
    },
    {
      "cell_type": "code",
      "execution_count": 42,
      "metadata": {
        "id": "Ydq8ZJHidy7z"
      },
      "outputs": [],
      "source": [
        "Dance_Output = decoder.predict(outp)\n",
        "\n",
        "video = cv2.VideoWriter('models/AI_Dance_Video.avi', cv2.VideoWriter_fourcc(*\"XVID\"), 20.0, (IMG_WIDTH, IMG_HEIGHT),False)\n",
        "\n",
        "for img in Dance_Output:\n",
        "    img = resize(img, (IMG_HEIGHT,IMG_WIDTH), mode='constant', preserve_range=True)\n",
        "    img = img * 255\n",
        "    img = img.astype('uint8')\n",
        "    video.write(img)\n",
        "    cv2.waitKey(50)\n",
        "    \n",
        "video.release()"
      ]
    },
    {
      "cell_type": "markdown",
      "metadata": {
        "id": "pzu52fiLhLb0"
      },
      "source": [
        "Y nos guardamos los pesos por si acaso ;)"
      ]
    },
    {
      "cell_type": "code",
      "execution_count": 43,
      "metadata": {
        "colab": {
          "base_uri": "https://localhost:8080/"
        },
        "id": "OJe772hlQNDu",
        "outputId": "a1972ad8-561d-4b82-b50c-03f423645420"
      },
      "outputs": [
        {
          "name": "stdout",
          "output_type": "stream",
          "text": [
            "WARNING:tensorflow:Compiled the loaded model, but the compiled metrics have yet to be built. `model.compile_metrics` will be empty until you train or evaluate the model.\n",
            "WARNING:tensorflow:Compiled the loaded model, but the compiled metrics have yet to be built. `model.compile_metrics` will be empty until you train or evaluate the model.\n"
          ]
        }
      ],
      "source": [
        "# Guardar Modelo\n",
        "decoder.save('models/Dancer_Decoder_Model.hdf5') \n",
        "encoder.save('models/Dancer_Encoder_Model.hdf5')\n",
        "\n",
        "# Guardar pesos\n",
        "decoder.save_weights(\"models/Dancer_Decoder_Weights.hdf5\")\n",
        "encoder.save_weights(\"models/Dancer_Encoder_Weights.hdf5\")\n",
        "\n",
        "\n",
        "model.save(\"models/Ai_Dance_RNN_Model.hdf5\")\n",
        "model.save_weights('models/Ai_Dance_RNN_Weights.hdf5')"
      ]
    }
  ],
  "metadata": {
    "accelerator": "GPU",
    "colab": {
      "collapsed_sections": [],
      "name": "Martes__of DL_S4_Autoencoders_Challenge.ipynb",
      "provenance": []
    },
    "kernelspec": {
      "display_name": "Python 3",
      "language": "python",
      "name": "python3"
    },
    "language_info": {
      "codemirror_mode": {
        "name": "ipython",
        "version": 3
      },
      "file_extension": ".py",
      "mimetype": "text/x-python",
      "name": "python",
      "nbconvert_exporter": "python",
      "pygments_lexer": "ipython3",
      "version": "3.7.12"
    }
  },
  "nbformat": 4,
  "nbformat_minor": 0
}
