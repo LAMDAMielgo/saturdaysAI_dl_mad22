{
 "cells": [
  {
   "cell_type": "markdown",
   "metadata": {
    "colab_type": "text",
    "id": "7mB-O_VvhJXQ"
   },
   "source": [
    "# **ECG Practice**\n",
    "\n",
    "## **Detección de casos de enfermedad cardiovascular a través del análisis de electrocardiogramas (ECG)**\n",
    "\n",
    "---\n",
    "\n",
    "**Referencia**: [ECG Heartbeat Classification: A Deep Transferable Representation](https://arxiv.org/pdf/1805.00794.pdf)\n",
    "\n",
    "**Resumen de la referencia**:\n",
    "\n",
    "A partir de los datasets de  *PhysionNet’s MIT-BIH* y *PTB Diagnostics* se consigue realizar una clasificación de diferentes tipos de electrocardiogramas con una precisión del **93.4%** para las arritmias y **95.9%** para MI con el uso de RNN.\n",
    "\n",
    "**Contenido**\n",
    "\n",
    "* [importación de librerías y globales ](#1)\n",
    "* [análisis de datos](#2)\n",
    "    * Abrimos los datos\n",
    "    * Vemos los tipos de datos, las primeras líneas del df y su distribución\n",
    "    * Imprimimos algunos electrocardiogramas para ver qué pinta tienen\n",
    "* [preprocesamiento](#3)\n",
    "    * Separamos el df en X,y\n",
    "    * Creamos arrays con los índices de los ejemplos que pertenecen a cada categoría.\n",
    "    * Vemos el counts por cada label, para ver su distribución.\n",
    "* [visualización de datos](#4)\n",
    "    * plot del conteo por categoria, que visualizar la sobrerrepresentación de la label <0>\n",
    "    * plot del valor medio de cada categoria y su rango de valores para cada timestamp\n",
    "* [preparacion de datos](#5)\n",
    "    * Binarizamos las labels con OneHot\n",
    "    * Hacemos un shuffle\n",
    "    * Cambiamos las dimensiones\n",
    "    * Hacemos un split entre train y test\n",
    "* [definición de modelo CNN y entrenamiento](#6)\n",
    "    \n",
    "\n"
   ]
  },
  {
   "cell_type": "markdown",
   "metadata": {
    "colab_type": "text",
    "id": "ao9twkE1hJXS"
   },
   "source": [
    "\n",
    "----\n",
    "<a href='#1'>\n",
    "\n",
    "### Importación de librerias"
   ]
  },
  {
   "cell_type": "code",
   "execution_count": 1,
   "metadata": {
    "colab": {},
    "colab_type": "code",
    "id": "Pky60QgthJXT"
   },
   "outputs": [],
   "source": [
    "import pandas as pd\n",
    "import matplotlib.pyplot as plt\n",
    "import numpy as np"
   ]
  },
  {
   "cell_type": "code",
   "execution_count": 2,
   "metadata": {},
   "outputs": [],
   "source": [
    "%matplotlib inline"
   ]
  },
  {
   "cell_type": "markdown",
   "metadata": {
    "colab_type": "text",
    "id": "l1jYJBHThJXU"
   },
   "source": [
    "----\n",
    "<a href='#2'>\n",
    "\n",
    "### análisis de datos\n"
   ]
  },
  {
   "cell_type": "code",
   "execution_count": 4,
   "metadata": {
    "colab": {},
    "colab_type": "code",
    "id": "5fsEI219hJXV"
   },
   "outputs": [
    {
     "name": "stdout",
     "output_type": "stream",
     "text": [
      "<class 'pandas.core.frame.DataFrame'>\n",
      "RangeIndex: 87554 entries, 0 to 87553\n",
      "Columns: 188 entries, 0 to 187\n",
      "dtypes: float64(188)\n",
      "memory usage: 125.6 MB\n"
     ]
    }
   ],
   "source": [
    "# step 1 - importar el dataset\n",
    "df = pd.read_csv(f\"./data/mitbih_train.csv\", encoding='utf-8', header=None)\n",
    "\n",
    "# step 2 - ¿qué forma tiene el dataset?\n",
    "df.info()"
   ]
  },
  {
   "cell_type": "code",
   "execution_count": 5,
   "metadata": {
    "colab": {},
    "colab_type": "code",
    "id": "Q39SynfYhJXg",
    "outputId": "1f938576-7582-4be6-b6ae-e2617585fd6e",
    "scrolled": true
   },
   "outputs": [
    {
     "data": {
      "text/html": [
       "<div>\n",
       "<style scoped>\n",
       "    .dataframe tbody tr th:only-of-type {\n",
       "        vertical-align: middle;\n",
       "    }\n",
       "\n",
       "    .dataframe tbody tr th {\n",
       "        vertical-align: top;\n",
       "    }\n",
       "\n",
       "    .dataframe thead th {\n",
       "        text-align: right;\n",
       "    }\n",
       "</style>\n",
       "<table border=\"1\" class=\"dataframe\">\n",
       "  <thead>\n",
       "    <tr style=\"text-align: right;\">\n",
       "      <th></th>\n",
       "      <th>0</th>\n",
       "      <th>1</th>\n",
       "      <th>2</th>\n",
       "      <th>3</th>\n",
       "      <th>4</th>\n",
       "      <th>5</th>\n",
       "      <th>6</th>\n",
       "      <th>7</th>\n",
       "      <th>8</th>\n",
       "      <th>9</th>\n",
       "      <th>...</th>\n",
       "      <th>178</th>\n",
       "      <th>179</th>\n",
       "      <th>180</th>\n",
       "      <th>181</th>\n",
       "      <th>182</th>\n",
       "      <th>183</th>\n",
       "      <th>184</th>\n",
       "      <th>185</th>\n",
       "      <th>186</th>\n",
       "      <th>187</th>\n",
       "    </tr>\n",
       "  </thead>\n",
       "  <tbody>\n",
       "    <tr>\n",
       "      <th>0</th>\n",
       "      <td>0.977941</td>\n",
       "      <td>0.926471</td>\n",
       "      <td>0.681373</td>\n",
       "      <td>0.245098</td>\n",
       "      <td>0.154412</td>\n",
       "      <td>0.191176</td>\n",
       "      <td>0.151961</td>\n",
       "      <td>0.085784</td>\n",
       "      <td>0.058824</td>\n",
       "      <td>0.049020</td>\n",
       "      <td>...</td>\n",
       "      <td>0.0</td>\n",
       "      <td>0.0</td>\n",
       "      <td>0.0</td>\n",
       "      <td>0.0</td>\n",
       "      <td>0.0</td>\n",
       "      <td>0.0</td>\n",
       "      <td>0.0</td>\n",
       "      <td>0.0</td>\n",
       "      <td>0.0</td>\n",
       "      <td>0.0</td>\n",
       "    </tr>\n",
       "    <tr>\n",
       "      <th>1</th>\n",
       "      <td>0.960114</td>\n",
       "      <td>0.863248</td>\n",
       "      <td>0.461538</td>\n",
       "      <td>0.196581</td>\n",
       "      <td>0.094017</td>\n",
       "      <td>0.125356</td>\n",
       "      <td>0.099715</td>\n",
       "      <td>0.088319</td>\n",
       "      <td>0.074074</td>\n",
       "      <td>0.082621</td>\n",
       "      <td>...</td>\n",
       "      <td>0.0</td>\n",
       "      <td>0.0</td>\n",
       "      <td>0.0</td>\n",
       "      <td>0.0</td>\n",
       "      <td>0.0</td>\n",
       "      <td>0.0</td>\n",
       "      <td>0.0</td>\n",
       "      <td>0.0</td>\n",
       "      <td>0.0</td>\n",
       "      <td>0.0</td>\n",
       "    </tr>\n",
       "    <tr>\n",
       "      <th>2</th>\n",
       "      <td>1.000000</td>\n",
       "      <td>0.659459</td>\n",
       "      <td>0.186486</td>\n",
       "      <td>0.070270</td>\n",
       "      <td>0.070270</td>\n",
       "      <td>0.059459</td>\n",
       "      <td>0.056757</td>\n",
       "      <td>0.043243</td>\n",
       "      <td>0.054054</td>\n",
       "      <td>0.045946</td>\n",
       "      <td>...</td>\n",
       "      <td>0.0</td>\n",
       "      <td>0.0</td>\n",
       "      <td>0.0</td>\n",
       "      <td>0.0</td>\n",
       "      <td>0.0</td>\n",
       "      <td>0.0</td>\n",
       "      <td>0.0</td>\n",
       "      <td>0.0</td>\n",
       "      <td>0.0</td>\n",
       "      <td>0.0</td>\n",
       "    </tr>\n",
       "    <tr>\n",
       "      <th>3</th>\n",
       "      <td>0.925414</td>\n",
       "      <td>0.665746</td>\n",
       "      <td>0.541436</td>\n",
       "      <td>0.276243</td>\n",
       "      <td>0.196133</td>\n",
       "      <td>0.077348</td>\n",
       "      <td>0.071823</td>\n",
       "      <td>0.060773</td>\n",
       "      <td>0.066298</td>\n",
       "      <td>0.058011</td>\n",
       "      <td>...</td>\n",
       "      <td>0.0</td>\n",
       "      <td>0.0</td>\n",
       "      <td>0.0</td>\n",
       "      <td>0.0</td>\n",
       "      <td>0.0</td>\n",
       "      <td>0.0</td>\n",
       "      <td>0.0</td>\n",
       "      <td>0.0</td>\n",
       "      <td>0.0</td>\n",
       "      <td>0.0</td>\n",
       "    </tr>\n",
       "    <tr>\n",
       "      <th>4</th>\n",
       "      <td>0.967136</td>\n",
       "      <td>1.000000</td>\n",
       "      <td>0.830986</td>\n",
       "      <td>0.586854</td>\n",
       "      <td>0.356808</td>\n",
       "      <td>0.248826</td>\n",
       "      <td>0.145540</td>\n",
       "      <td>0.089202</td>\n",
       "      <td>0.117371</td>\n",
       "      <td>0.150235</td>\n",
       "      <td>...</td>\n",
       "      <td>0.0</td>\n",
       "      <td>0.0</td>\n",
       "      <td>0.0</td>\n",
       "      <td>0.0</td>\n",
       "      <td>0.0</td>\n",
       "      <td>0.0</td>\n",
       "      <td>0.0</td>\n",
       "      <td>0.0</td>\n",
       "      <td>0.0</td>\n",
       "      <td>0.0</td>\n",
       "    </tr>\n",
       "  </tbody>\n",
       "</table>\n",
       "<p>5 rows × 188 columns</p>\n",
       "</div>"
      ],
      "text/plain": [
       "        0         1         2         3         4         5         6    \\\n",
       "0  0.977941  0.926471  0.681373  0.245098  0.154412  0.191176  0.151961   \n",
       "1  0.960114  0.863248  0.461538  0.196581  0.094017  0.125356  0.099715   \n",
       "2  1.000000  0.659459  0.186486  0.070270  0.070270  0.059459  0.056757   \n",
       "3  0.925414  0.665746  0.541436  0.276243  0.196133  0.077348  0.071823   \n",
       "4  0.967136  1.000000  0.830986  0.586854  0.356808  0.248826  0.145540   \n",
       "\n",
       "        7         8         9    ...  178  179  180  181  182  183  184  185  \\\n",
       "0  0.085784  0.058824  0.049020  ...  0.0  0.0  0.0  0.0  0.0  0.0  0.0  0.0   \n",
       "1  0.088319  0.074074  0.082621  ...  0.0  0.0  0.0  0.0  0.0  0.0  0.0  0.0   \n",
       "2  0.043243  0.054054  0.045946  ...  0.0  0.0  0.0  0.0  0.0  0.0  0.0  0.0   \n",
       "3  0.060773  0.066298  0.058011  ...  0.0  0.0  0.0  0.0  0.0  0.0  0.0  0.0   \n",
       "4  0.089202  0.117371  0.150235  ...  0.0  0.0  0.0  0.0  0.0  0.0  0.0  0.0   \n",
       "\n",
       "   186  187  \n",
       "0  0.0  0.0  \n",
       "1  0.0  0.0  \n",
       "2  0.0  0.0  \n",
       "3  0.0  0.0  \n",
       "4  0.0  0.0  \n",
       "\n",
       "[5 rows x 188 columns]"
      ]
     },
     "execution_count": 5,
     "metadata": {},
     "output_type": "execute_result"
    }
   ],
   "source": [
    "# step 3 - ¿cómo son los datos? muestras las cinco primeras filas\n",
    "df.head()"
   ]
  },
  {
   "cell_type": "markdown",
   "metadata": {
    "colab_type": "text",
    "id": "Q40at1iFhJXj"
   },
   "source": [
    "Este es el dataset de hoy. Esta vez, cada columna representa una lectura del electrocardiograma (recogido a 125Hz). \n",
    "\n",
    "Si en total hay 187 lecturas, en estas columnas tenemos alrededor de segundo y medio de pulsaciones. La última columna contiene la categoría a la que pertenecen estas pulsaciones. En total hay cinco, cada una representada por un número: \n",
    "\n",
    "- Normal: 0\n",
    "- Arritmia prematura (atrial, aberrante-atrial, nodal o supra-ventricular) : 1\n",
    "- Contracción prematura ventricular o escape ventricular: 2\n",
    "- Fusión de la contracción ventricular y normal: 3\n",
    "- Resucitación, fusión de normal y resucitación o inclasificable: 4\n"
   ]
  },
  {
   "cell_type": "code",
   "execution_count": 26,
   "metadata": {},
   "outputs": [],
   "source": [
    "label_names = ('normal', 'arritmia_prematura', 'contracción_prematura_ventricular', 'fusión_contraccion_ventricular', 'resucitación')"
   ]
  },
  {
   "cell_type": "code",
   "execution_count": 7,
   "metadata": {
    "colab": {},
    "colab_type": "code",
    "id": "U28kFZeuhJXl",
    "outputId": "82ac2fc3-8cfc-4dcf-bb07-44dfdb4f1e2d"
   },
   "outputs": [
    {
     "data": {
      "text/html": [
       "<div>\n",
       "<style scoped>\n",
       "    .dataframe tbody tr th:only-of-type {\n",
       "        vertical-align: middle;\n",
       "    }\n",
       "\n",
       "    .dataframe tbody tr th {\n",
       "        vertical-align: top;\n",
       "    }\n",
       "\n",
       "    .dataframe thead th {\n",
       "        text-align: right;\n",
       "    }\n",
       "</style>\n",
       "<table border=\"1\" class=\"dataframe\">\n",
       "  <thead>\n",
       "    <tr style=\"text-align: right;\">\n",
       "      <th></th>\n",
       "      <th>0</th>\n",
       "      <th>1</th>\n",
       "      <th>2</th>\n",
       "      <th>3</th>\n",
       "      <th>4</th>\n",
       "      <th>5</th>\n",
       "      <th>6</th>\n",
       "      <th>7</th>\n",
       "      <th>8</th>\n",
       "      <th>9</th>\n",
       "      <th>...</th>\n",
       "      <th>178</th>\n",
       "      <th>179</th>\n",
       "      <th>180</th>\n",
       "      <th>181</th>\n",
       "      <th>182</th>\n",
       "      <th>183</th>\n",
       "      <th>184</th>\n",
       "      <th>185</th>\n",
       "      <th>186</th>\n",
       "      <th>187</th>\n",
       "    </tr>\n",
       "  </thead>\n",
       "  <tbody>\n",
       "    <tr>\n",
       "      <th>count</th>\n",
       "      <td>87554.000000</td>\n",
       "      <td>87554.000000</td>\n",
       "      <td>87554.000000</td>\n",
       "      <td>87554.000000</td>\n",
       "      <td>87554.000000</td>\n",
       "      <td>87554.000000</td>\n",
       "      <td>87554.000000</td>\n",
       "      <td>87554.000000</td>\n",
       "      <td>87554.000000</td>\n",
       "      <td>87554.000000</td>\n",
       "      <td>...</td>\n",
       "      <td>87554.000000</td>\n",
       "      <td>87554.000000</td>\n",
       "      <td>87554.000000</td>\n",
       "      <td>87554.000000</td>\n",
       "      <td>87554.000000</td>\n",
       "      <td>87554.000000</td>\n",
       "      <td>87554.000000</td>\n",
       "      <td>87554.000000</td>\n",
       "      <td>87554.000000</td>\n",
       "      <td>87554.000000</td>\n",
       "    </tr>\n",
       "    <tr>\n",
       "      <th>mean</th>\n",
       "      <td>0.890360</td>\n",
       "      <td>0.758160</td>\n",
       "      <td>0.423972</td>\n",
       "      <td>0.219104</td>\n",
       "      <td>0.201127</td>\n",
       "      <td>0.210399</td>\n",
       "      <td>0.205808</td>\n",
       "      <td>0.201773</td>\n",
       "      <td>0.198691</td>\n",
       "      <td>0.196757</td>\n",
       "      <td>...</td>\n",
       "      <td>0.005025</td>\n",
       "      <td>0.004628</td>\n",
       "      <td>0.004291</td>\n",
       "      <td>0.003945</td>\n",
       "      <td>0.003681</td>\n",
       "      <td>0.003471</td>\n",
       "      <td>0.003221</td>\n",
       "      <td>0.002945</td>\n",
       "      <td>0.002807</td>\n",
       "      <td>0.473376</td>\n",
       "    </tr>\n",
       "    <tr>\n",
       "      <th>std</th>\n",
       "      <td>0.240909</td>\n",
       "      <td>0.221813</td>\n",
       "      <td>0.227305</td>\n",
       "      <td>0.206878</td>\n",
       "      <td>0.177058</td>\n",
       "      <td>0.171909</td>\n",
       "      <td>0.178481</td>\n",
       "      <td>0.177240</td>\n",
       "      <td>0.171778</td>\n",
       "      <td>0.168357</td>\n",
       "      <td>...</td>\n",
       "      <td>0.044154</td>\n",
       "      <td>0.042089</td>\n",
       "      <td>0.040525</td>\n",
       "      <td>0.038651</td>\n",
       "      <td>0.037193</td>\n",
       "      <td>0.036255</td>\n",
       "      <td>0.034789</td>\n",
       "      <td>0.032865</td>\n",
       "      <td>0.031924</td>\n",
       "      <td>1.143184</td>\n",
       "    </tr>\n",
       "    <tr>\n",
       "      <th>min</th>\n",
       "      <td>0.000000</td>\n",
       "      <td>0.000000</td>\n",
       "      <td>0.000000</td>\n",
       "      <td>0.000000</td>\n",
       "      <td>0.000000</td>\n",
       "      <td>0.000000</td>\n",
       "      <td>0.000000</td>\n",
       "      <td>0.000000</td>\n",
       "      <td>0.000000</td>\n",
       "      <td>0.000000</td>\n",
       "      <td>...</td>\n",
       "      <td>0.000000</td>\n",
       "      <td>0.000000</td>\n",
       "      <td>0.000000</td>\n",
       "      <td>0.000000</td>\n",
       "      <td>0.000000</td>\n",
       "      <td>0.000000</td>\n",
       "      <td>0.000000</td>\n",
       "      <td>0.000000</td>\n",
       "      <td>0.000000</td>\n",
       "      <td>0.000000</td>\n",
       "    </tr>\n",
       "    <tr>\n",
       "      <th>25%</th>\n",
       "      <td>0.921922</td>\n",
       "      <td>0.682486</td>\n",
       "      <td>0.250969</td>\n",
       "      <td>0.048458</td>\n",
       "      <td>0.082329</td>\n",
       "      <td>0.088416</td>\n",
       "      <td>0.073333</td>\n",
       "      <td>0.066116</td>\n",
       "      <td>0.065000</td>\n",
       "      <td>0.068639</td>\n",
       "      <td>...</td>\n",
       "      <td>0.000000</td>\n",
       "      <td>0.000000</td>\n",
       "      <td>0.000000</td>\n",
       "      <td>0.000000</td>\n",
       "      <td>0.000000</td>\n",
       "      <td>0.000000</td>\n",
       "      <td>0.000000</td>\n",
       "      <td>0.000000</td>\n",
       "      <td>0.000000</td>\n",
       "      <td>0.000000</td>\n",
       "    </tr>\n",
       "    <tr>\n",
       "      <th>50%</th>\n",
       "      <td>0.991342</td>\n",
       "      <td>0.826013</td>\n",
       "      <td>0.429472</td>\n",
       "      <td>0.166000</td>\n",
       "      <td>0.147878</td>\n",
       "      <td>0.158798</td>\n",
       "      <td>0.145324</td>\n",
       "      <td>0.144424</td>\n",
       "      <td>0.150000</td>\n",
       "      <td>0.148734</td>\n",
       "      <td>...</td>\n",
       "      <td>0.000000</td>\n",
       "      <td>0.000000</td>\n",
       "      <td>0.000000</td>\n",
       "      <td>0.000000</td>\n",
       "      <td>0.000000</td>\n",
       "      <td>0.000000</td>\n",
       "      <td>0.000000</td>\n",
       "      <td>0.000000</td>\n",
       "      <td>0.000000</td>\n",
       "      <td>0.000000</td>\n",
       "    </tr>\n",
       "    <tr>\n",
       "      <th>75%</th>\n",
       "      <td>1.000000</td>\n",
       "      <td>0.910506</td>\n",
       "      <td>0.578767</td>\n",
       "      <td>0.341727</td>\n",
       "      <td>0.258993</td>\n",
       "      <td>0.287628</td>\n",
       "      <td>0.298237</td>\n",
       "      <td>0.295391</td>\n",
       "      <td>0.290832</td>\n",
       "      <td>0.283636</td>\n",
       "      <td>...</td>\n",
       "      <td>0.000000</td>\n",
       "      <td>0.000000</td>\n",
       "      <td>0.000000</td>\n",
       "      <td>0.000000</td>\n",
       "      <td>0.000000</td>\n",
       "      <td>0.000000</td>\n",
       "      <td>0.000000</td>\n",
       "      <td>0.000000</td>\n",
       "      <td>0.000000</td>\n",
       "      <td>0.000000</td>\n",
       "    </tr>\n",
       "    <tr>\n",
       "      <th>max</th>\n",
       "      <td>1.000000</td>\n",
       "      <td>1.000000</td>\n",
       "      <td>1.000000</td>\n",
       "      <td>1.000000</td>\n",
       "      <td>1.000000</td>\n",
       "      <td>1.000000</td>\n",
       "      <td>1.000000</td>\n",
       "      <td>1.000000</td>\n",
       "      <td>1.000000</td>\n",
       "      <td>1.000000</td>\n",
       "      <td>...</td>\n",
       "      <td>1.000000</td>\n",
       "      <td>1.000000</td>\n",
       "      <td>1.000000</td>\n",
       "      <td>1.000000</td>\n",
       "      <td>1.000000</td>\n",
       "      <td>1.000000</td>\n",
       "      <td>1.000000</td>\n",
       "      <td>1.000000</td>\n",
       "      <td>1.000000</td>\n",
       "      <td>4.000000</td>\n",
       "    </tr>\n",
       "  </tbody>\n",
       "</table>\n",
       "<p>8 rows × 188 columns</p>\n",
       "</div>"
      ],
      "text/plain": [
       "                0             1             2             3             4    \\\n",
       "count  87554.000000  87554.000000  87554.000000  87554.000000  87554.000000   \n",
       "mean       0.890360      0.758160      0.423972      0.219104      0.201127   \n",
       "std        0.240909      0.221813      0.227305      0.206878      0.177058   \n",
       "min        0.000000      0.000000      0.000000      0.000000      0.000000   \n",
       "25%        0.921922      0.682486      0.250969      0.048458      0.082329   \n",
       "50%        0.991342      0.826013      0.429472      0.166000      0.147878   \n",
       "75%        1.000000      0.910506      0.578767      0.341727      0.258993   \n",
       "max        1.000000      1.000000      1.000000      1.000000      1.000000   \n",
       "\n",
       "                5             6             7             8             9    \\\n",
       "count  87554.000000  87554.000000  87554.000000  87554.000000  87554.000000   \n",
       "mean       0.210399      0.205808      0.201773      0.198691      0.196757   \n",
       "std        0.171909      0.178481      0.177240      0.171778      0.168357   \n",
       "min        0.000000      0.000000      0.000000      0.000000      0.000000   \n",
       "25%        0.088416      0.073333      0.066116      0.065000      0.068639   \n",
       "50%        0.158798      0.145324      0.144424      0.150000      0.148734   \n",
       "75%        0.287628      0.298237      0.295391      0.290832      0.283636   \n",
       "max        1.000000      1.000000      1.000000      1.000000      1.000000   \n",
       "\n",
       "       ...           178           179           180           181  \\\n",
       "count  ...  87554.000000  87554.000000  87554.000000  87554.000000   \n",
       "mean   ...      0.005025      0.004628      0.004291      0.003945   \n",
       "std    ...      0.044154      0.042089      0.040525      0.038651   \n",
       "min    ...      0.000000      0.000000      0.000000      0.000000   \n",
       "25%    ...      0.000000      0.000000      0.000000      0.000000   \n",
       "50%    ...      0.000000      0.000000      0.000000      0.000000   \n",
       "75%    ...      0.000000      0.000000      0.000000      0.000000   \n",
       "max    ...      1.000000      1.000000      1.000000      1.000000   \n",
       "\n",
       "                182           183           184           185           186  \\\n",
       "count  87554.000000  87554.000000  87554.000000  87554.000000  87554.000000   \n",
       "mean       0.003681      0.003471      0.003221      0.002945      0.002807   \n",
       "std        0.037193      0.036255      0.034789      0.032865      0.031924   \n",
       "min        0.000000      0.000000      0.000000      0.000000      0.000000   \n",
       "25%        0.000000      0.000000      0.000000      0.000000      0.000000   \n",
       "50%        0.000000      0.000000      0.000000      0.000000      0.000000   \n",
       "75%        0.000000      0.000000      0.000000      0.000000      0.000000   \n",
       "max        1.000000      1.000000      1.000000      1.000000      1.000000   \n",
       "\n",
       "                187  \n",
       "count  87554.000000  \n",
       "mean       0.473376  \n",
       "std        1.143184  \n",
       "min        0.000000  \n",
       "25%        0.000000  \n",
       "50%        0.000000  \n",
       "75%        0.000000  \n",
       "max        4.000000  \n",
       "\n",
       "[8 rows x 188 columns]"
      ]
     },
     "execution_count": 7,
     "metadata": {},
     "output_type": "execute_result"
    }
   ],
   "source": [
    "# step 4 - Distribución de los datos\n",
    "df.describe()\n",
    "\n",
    "# NOTAS: \n",
    "# La columna de las labels tiene max = 4 (0..4 etiquetas), std = 1.14, 0.25,0.5,0.75 = 0"
   ]
  },
  {
   "cell_type": "markdown",
   "metadata": {},
   "source": [
    "El rango para todas las columnas excepto para la ultima es de 0 .. 1 por lo que se trata de un dataset previamente normalizado.\n",
    "\n",
    "En el paper de referencia se lo siguiente en referencia a la unificación de datos de las dos fuentes:\n",
    "\n",
    ">The steps used for extracting beats from an ECG signal are as follows (see Fig. 1):\n",
    "> 1. Splitting the continuous ECG signal to 10s windows andselect a 10s window from an ECG signal.\n",
    "> 2. Normalizing the amplitude values to the range of between zero and one.\n",
    "> 3. Finding the set of all local maximums based on zero crossings of the first derivative.\n",
    "> 4. Finding the set of ECG R-peak candidates by applying a threshold of 0.9 on the normalized value of the local maximums.\n",
    "> 5. Finding the median of R-R time intervals as the nominal heartbeat period of that window (T ).\n",
    "> 6. For each R-peak, selecting a signal part with the length equal to 1.2T .\n",
    "> 7. Padding each selected part with zeros to make its length equal to a predefined fixed length.\n",
    "\n",
    "Es decir, del 'raw data' al que no tenemos acceso:\n",
    "- Se seleccionaron ''windows'' de 10s cada uno\n",
    "- Se normalizó y estandarizó el rango de los datos para que tuviesen la misma amplitud y duracción.\n",
    "\n",
    "Cada ECG Beat que tenemos es una ponderación de un ''window'' dado de 10s procedente de dos fuentes."
   ]
  },
  {
   "cell_type": "code",
   "execution_count": 8,
   "metadata": {
    "colab": {},
    "colab_type": "code",
    "id": "50XGDJS5hJXp",
    "outputId": "722340f3-5829-4b6c-ec44-b3fd9a3e4b13",
    "scrolled": true
   },
   "outputs": [
    {
     "data": {
      "image/png": "[encoded data removed]",
      "text/plain": [
       "<Figure size 864x288 with 1 Axes>"
      ]
     },
     "metadata": {
      "needs_background": "light"
     },
     "output_type": "display_data"
    }
   ],
   "source": [
    "# step 5 - Cómo es cada uno de esos electrocardiogramas?\n",
    "\n",
    "f, ax = plt.subplots(figsize=(12,4))\n",
    "\n",
    "for _ in range(2, 100, 20):\n",
    "    df.iloc[_, :].plot.line(ax = ax)\n",
    "\n",
    "plt.show()"
   ]
  },
  {
   "cell_type": "markdown",
   "metadata": {
    "colab_type": "text",
    "id": "hGRsUDc_hJXt"
   },
   "source": [
    "----\n",
    "<a href='#3'>\n",
    "\n",
    "### preprocesamiento"
   ]
  },
  {
   "cell_type": "code",
   "execution_count": 17,
   "metadata": {
    "colab": {},
    "colab_type": "code",
    "id": "VfVdyFcfhJXu"
   },
   "outputs": [
    {
     "name": "stdout",
     "output_type": "stream",
     "text": [
      "(87554, 187)\n",
      "(87554,)\n"
     ]
    }
   ],
   "source": [
    "# step 1 - separación del frame en X (features) e y (labels)\n",
    "X, y = df.iloc[:, :-1], df.iloc[:, -1].astype(int)\n",
    "\n",
    "print(X.shape); print(y.shape)"
   ]
  },
  {
   "cell_type": "code",
   "execution_count": 18,
   "metadata": {
    "colab": {},
    "colab_type": "code",
    "id": "Be68Gpi2hJXx"
   },
   "outputs": [
    {
     "name": "stdout",
     "output_type": "stream",
     "text": [
      "[0 1 2 3 4 5 6 7 8 9]\n",
      "[0, 1, 2, 3, 4, 5, 6, 7, 8, 9]\n"
     ]
    }
   ],
   "source": [
    "# step 2 - creamos arrays con los índices de los ejemplos que pertenecen a cada categoría.\n",
    "\n",
    "# opcion 1 - compatible con arrays\n",
    "index_by_k = list(map(lambda k: np.argwhere(y.values == k).flatten(), y.unique()))\n",
    "#index_by_k = list(map(lambda arr: np.reshape(arr, newshape=arr.size), index_by_k)) # esto se puede hacer conun faltten\n",
    "# arrays -> lista dcon sublistas\n",
    "# np.argwhere es en vertical mientras que np.where es en horizontal:\n",
    "\n",
    "#       np.argwhere > [[[0], [1]], \n",
    "#                     [[2], [3]]]\n",
    "#       np.where    > [([0, [], [2, 3],)]  # where is a tuple with (true_result, false_result)\n",
    "\n",
    "# opcion 2 . con pandas - no sirve con arrays\n",
    "index_by_label = list()\n",
    "\n",
    "for _ in y.unique():\n",
    "    index_by_label.append(df[df.iloc[:, -1] == _].index.tolist())\n",
    "\n",
    "# \n",
    "print(index_by_k[0][:10])\n",
    "print(index_by_label[0][:10])"
   ]
  },
  {
   "cell_type": "code",
   "execution_count": 25,
   "metadata": {
    "colab": {},
    "colab_type": "code",
    "id": "3lvyQIIBhJX0",
    "outputId": "10274d37-df9b-4ca0-bf58-429ccff39318",
    "scrolled": true
   },
   "outputs": [
    {
     "data": {
      "text/plain": [
       "{0: 72471, 1: 2223, 2: 5788, 3: 641, 4: 6431}"
      ]
     },
     "execution_count": 25,
     "metadata": {},
     "output_type": "execute_result"
    }
   ],
   "source": [
    "# step 3 - contamos cuanto ejemplos tenemos en cada categoría:\n",
    "\n",
    "y.value_counts().sort_index().to_dict()"
   ]
  },
  {
   "cell_type": "markdown",
   "metadata": {},
   "source": [
    "De la categoria 3 (fusión_contraccion_ventricular) tenemos sólo 641 (< 1%) por lo que va a ser muy dificil de predecir; nuestro target es sobre todo el 0 y el 4 (arritmia y resucitación, que son los mencionados en el paper), que tienen, en orde, un 82.75% y un 7.35% de representación sobre el total de las labels."
   ]
  },
  {
   "cell_type": "markdown",
   "metadata": {
    "colab_type": "text",
    "id": "UBlbXOgBhJX3"
   },
   "source": [
    "----\n",
    "\n",
    "<a href='#4'>\n",
    "\n",
    "### visualización de datos\n",
    "\n",
    "* Visualización del conteo \n",
    "* Rango de valores por cada electrocardiograma."
   ]
  },
  {
   "cell_type": "code",
   "execution_count": 28,
   "metadata": {
    "colab": {},
    "colab_type": "code",
    "id": "q-AMnfX0hJX3",
    "outputId": "0873d997-7f4d-407a-d3b0-9d6302b984d1"
   },
   "outputs": [
    {
     "data": {
      "image/png": "[encoded data removed]",
      "text/plain": [
       "<Figure size 432x288 with 1 Axes>"
      ]
     },
     "metadata": {
      "needs_background": "light"
     },
     "output_type": "display_data"
    }
   ],
   "source": [
    "f, ax = plt.subplots()\n",
    "ax = y.value_counts().sort_index().plot.barh(color = 'k')\n",
    "plt.show()"
   ]
  },
  {
   "cell_type": "code",
   "execution_count": 29,
   "metadata": {
    "colab": {},
    "colab_type": "code",
    "id": "c5KjUhmHhJX9"
   },
   "outputs": [
    {
     "data": {
      "image/png": "[encoded data removed]",
      "text/plain": [
       "<Figure size 720x360 with 1 Axes>"
      ]
     },
     "metadata": {
      "needs_background": "light"
     },
     "output_type": "display_data"
    }
   ],
   "source": [
    "# Comparamos gráficamente los electrocardiogramas, dibujando el valor medio para cada tipo y su rango de valores.\n",
    "\n",
    "f, ax = plt.subplots(figsize = (10,5))\n",
    "colors = ['k', 'm', 'g', 'b', 'c']\n",
    "\n",
    "for k in range(y.unique().size):\n",
    "    mean = X.iloc[X.index.isin(index_by_k[k]), :].mean()\n",
    "    stdev = X.iloc[X.index.isin(index_by_k[k]), :].std()\n",
    "\n",
    "    ax.plot(mean, color = colors[k], alpha = 0.9, label = label_names[k])\n",
    "    ax.fill_between(mean.index, mean-stdev, mean+stdev, color = colors[k], alpha = 0.1)\n",
    "    ax.legend()\n",
    "\n",
    "plt.title('Comparación Electrocardiogramas medios por categoria y bandas de desviación')\n",
    "plt.show()"
   ]
  },
  {
   "cell_type": "markdown",
   "metadata": {
    "colab_type": "text",
    "id": "Id6hugrmhJYA"
   },
   "source": [
    "---\n",
    "<a href='#5'>\n",
    "\n",
    "### preparacion de datos"
   ]
  },
  {
   "cell_type": "markdown",
   "metadata": {
    "colab_type": "text",
    "id": "fAgikAoWhJYB"
   },
   "source": [
    "Existen varias formas de binarizar las labels: \n",
    "\n",
    "* OneHotEncoding: devuelve una matrix en la forma one-hot; funciona con multilabels.\n",
    "    * Se aplica en casos cuando las labels no son ordinales\n",
    "    * Los valores no son cercanos entre ellos (no lineales)\n",
    "    \n",
    "* LabelBinarizer: devuelve una matriz en la forma one-vs-all, toma cada input como una clase (no funciona con multilabels)\n",
    "    * En casos en que las labels sean ordinales (tengan un orden entre ellas)\n",
    "    * Cuando necesitemos asignar numeros cercanos para categorías similares.\n",
    "\n",
    "Estos casos funcionan bien cuando no tenemos muchas labels, si no, nos encontramos n el problema de una alta dimensionalidad; en estos casos:\n",
    "* LabelEncoder: devuelve un array; pero en los casos de que no haya ordinalidad, implica que el mean() del array es un valor no significativo."
   ]
  },
  {
   "cell_type": "code",
   "execution_count": 15,
   "metadata": {},
   "outputs": [
    {
     "name": "stdout",
     "output_type": "stream",
     "text": [
      "(1, 87554)\t(87554, 1)\n"
     ]
    }
   ],
   "source": [
    "# ------------ INTERLUDE -----------------------------\n",
    "# no conocías np.newaxis \n",
    "a = y.values[np.newaxis, :].shape\n",
    "b = y.values[:, np.newaxis].shape # == np.argwhere \n",
    "\n",
    "print(a, end='\\t'); print(b)"
   ]
  },
  {
   "cell_type": "code",
   "execution_count": 30,
   "metadata": {
    "colab": {},
    "colab_type": "code",
    "id": "qIDdzcpihJYB"
   },
   "outputs": [
    {
     "name": "stdout",
     "output_type": "stream",
     "text": [
      "[[1 0 0 0 0]\n",
      " [1 0 0 0 0]\n",
      " [1 0 0 0 0]\n",
      " ...\n",
      " [0 0 0 0 1]\n",
      " [0 0 0 0 1]\n",
      " [0 0 0 0 1]]\n"
     ]
    }
   ],
   "source": [
    "# %%timeit\n",
    "\n",
    "from sklearn.preprocessing import MultiLabelBinarizer\n",
    "# option 1 - OneHotENcoder     -  57.8 ms  ± 2.57 ms per loop (mean ± std. dev. of 7 runs, 10 loops each)\n",
    "# opcion 2- pd.get_dummies()   -  1.73 ms  ± 60.9 µs per loop (mean ± std. dev. of 7 runs, 1000 loops each)\n",
    "\n",
    "y = y.apply(lambda f: str(int(f))) \n",
    "\n",
    "enc = MultiLabelBinarizer()\n",
    "y_bin = enc.fit_transform(y)\n",
    "y_labels = enc.classes_\n",
    "\n",
    "print(y_bin) # devuelve un tensor"
   ]
  },
  {
   "cell_type": "code",
   "execution_count": 31,
   "metadata": {
    "colab": {},
    "colab_type": "code",
    "id": "8xvZ_kwbhJYE",
    "outputId": "87de7a25-d38d-460b-a4be-23de53bcd09b"
   },
   "outputs": [
    {
     "name": "stdout",
     "output_type": "stream",
     "text": [
      "{'0': True, '1': True, '2': True, '3': True, '4': True}\n"
     ]
    }
   ],
   "source": [
    "# Una vez que tenemos la binarización de y\n",
    "# Hacemos un chequeo entre categorías:\n",
    "\n",
    "is_unique = {l: (np.where(y_bin.T[i] == 1)[0] == index_by_k[i]).all() \n",
    "            for i, l in enumerate(y_labels)}\n",
    "\n",
    "print(is_unique)"
   ]
  },
  {
   "cell_type": "code",
   "execution_count": 33,
   "metadata": {},
   "outputs": [
    {
     "name": "stdout",
     "output_type": "stream",
     "text": [
      "(87554,)\t(87554, 5)\t<class 'numpy.ndarray'>\n"
     ]
    }
   ],
   "source": [
    "print(y.shape, end = '\\t'); print(y_bin.shape, end = '\\t'); print(type(y_bin))"
   ]
  },
  {
   "cell_type": "code",
   "execution_count": 32,
   "metadata": {
    "colab": {},
    "colab_type": "code",
    "id": "1AWwJCX7hJYH"
   },
   "outputs": [],
   "source": [
    "from sklearn.utils import shuffle\n",
    "\n",
    "# Randomizamos los frame de entrenamiento y target\n",
    "\n",
    "random_shuffle_state = 42\n",
    "X_shuffle, y_shuffle = shuffle(X, y_bin)"
   ]
  },
  {
   "cell_type": "markdown",
   "metadata": {
    "colab_type": "text",
    "id": "T721f2zthJYQ"
   },
   "source": [
    "Para poder introducir los datos en el modelo, necesitamos que cada punto de información esté solo dentro del array (no podemos dar un array como valor). \n",
    "\n",
    "Antes teníamos los datos estructurados así:\n",
    "\n",
    "> $ X = [[a_1,a_2,a_3...,a_n],[b_1,b_2,b_3...,b_n]...[z_1,z_2,z_3,z_n]] $\n",
    "\n",
    "Para poder usarlos necesitamos aislar cada uno de esos valores, sin eliminar su agrupación por ejemplos. Es decir:\n",
    "\n",
    "> $ X = [[[a_1],[a_2],[a_3]...,[a_n]],[[b_1],[b_2],[b_3]...,[b_n]]...[[z_1],[z_2],[z_3],[z_n]] $"
   ]
  },
  {
   "cell_type": "code",
   "execution_count": 34,
   "metadata": {
    "colab": {},
    "colab_type": "code",
    "id": "ITtKUKQhhJYR"
   },
   "outputs": [],
   "source": [
    "#%%timeit\n",
    "# matrix X : \n",
    "# [   [row_1]  # size = 187 (n_cols)  \n",
    "#     [row_2]  # size = 187 (n_cols)    \n",
    "# ]   -------  # size = 16372598 (n_rows)\n",
    "Xc = np.expand_dims(X_shuffle, axis = 2)\n",
    "# 3.38 µs ± 104 ns per loop (mean ± std. dev. of 7 runs, 100000 loops each)"
   ]
  },
  {
   "cell_type": "code",
   "execution_count": 35,
   "metadata": {},
   "outputs": [
    {
     "name": "stdout",
     "output_type": "stream",
     "text": [
      "(87554, 187, 1)\n",
      "(87554, 5)\n",
      "<class 'numpy.ndarray'>\n",
      "<class 'numpy.ndarray'>\n"
     ]
    }
   ],
   "source": [
    "X_shuffle = Xc\n",
    "print(X_shuffle.shape); print(y_shuffle.shape)\n",
    "print(type(X_shuffle)); print(type(y_shuffle))"
   ]
  },
  {
   "cell_type": "markdown",
   "metadata": {
    "colab_type": "text",
    "id": "-giOiqiYhJYT"
   },
   "source": [
    "Una vez que hemos hecho todo, hacemos un train_test_split()"
   ]
  },
  {
   "cell_type": "code",
   "execution_count": 36,
   "metadata": {
    "colab": {},
    "colab_type": "code",
    "id": "js6uqn4BhJYU"
   },
   "outputs": [
    {
     "name": "stderr",
     "output_type": "stream",
     "text": [
      "2022-04-15 16:42:56.813711: I tensorflow/compiler/jit/xla_cpu_device.cc:41] Not creating XLA devices, tf_xla_enable_xla_devices not set\n",
      "2022-04-15 16:42:56.815709: I tensorflow/core/platform/cpu_feature_guard.cc:142] This TensorFlow binary is optimized with oneAPI Deep Neural Network Library (oneDNN) to use the following CPU instructions in performance-critical operations:  SSE4.1 SSE4.2 AVX AVX2 FMA\n",
      "To enable them in other operations, rebuild TensorFlow with the appropriate compiler flags.\n",
      "2022-04-15 16:42:56.817632: I tensorflow/core/common_runtime/process_util.cc:146] Creating new thread pool with default inter op setting: 2. Tune using inter_op_parallelism_threads for best performance.\n"
     ]
    }
   ],
   "source": [
    "#Dos lineas de código[0]\n",
    "from sklearn.model_selection import train_test_split\n",
    "import tensorflow as tf\n",
    "\n",
    "random_split_state = 42\n",
    "\n",
    "X_train, X_test, y_train, y_test = train_test_split(\n",
    "    X_shuffle, y_shuffle, \n",
    "    test_size = .25, \n",
    "    random_state = random_split_state\n",
    ")\n",
    "\n",
    "train_data = tf.data.Dataset.from_tensor_slices((X_train, y_train))\n",
    "test_data  = tf.data.Dataset.from_tensor_slices((X_test, y_test))"
   ]
  },
  {
   "cell_type": "markdown",
   "metadata": {
    "colab_type": "text",
    "id": "S2OXup6RhJYW"
   },
   "source": [
    "----\n",
    "<a href='#6'>\n",
    "\n",
    "###  definición de modelo y entrenamiento"
   ]
  },
  {
   "cell_type": "markdown",
   "metadata": {
    "colab_type": "text",
    "id": "ye1mPrYohJYW"
   },
   "source": [
    "En el paper, pg.4, se plantea un modelo de CNN basado en 5 capas convolucionales que copiamos a continuación:"
   ]
  },
  {
   "cell_type": "code",
   "execution_count": 46,
   "metadata": {
    "colab": {},
    "colab_type": "code",
    "id": "h7zqDfcAhJYX"
   },
   "outputs": [],
   "source": [
    "from sklearn import model_selection\n",
    "from sklearn.metrics import confusion_matrix\n",
    "\n",
    "import keras\n",
    "from keras.layers import Dense, Dropout, Activation, Flatten, Conv1D, Conv2D, MaxPooling1D, MaxPooling2D, Lambda, MaxPool2D, BatchNormalization, Input\n",
    "from keras.utils import np_utils\n",
    "\n",
    "from keras import models, layers, optimizers, Model\n",
    "from sklearn.model_selection import train_test_split\n",
    "from sklearn.metrics import confusion_matrix, accuracy_score\n",
    "from sklearn.utils import class_weight\n",
    "\n",
    "from keras.optimizers import SGD, RMSprop, Adam, Adagrad, Adadelta, RMSprop\n",
    "from keras.models import Sequential, model_from_json\n",
    "from keras.preprocessing.image import ImageDataGenerator\n",
    "from keras.callbacks import ReduceLROnPlateau, ModelCheckpoint\n",
    "from keras import backend as K\n",
    "from keras.applications.vgg16 import VGG16\n",
    "from keras.models import Model\n",
    "\n",
    "from sklearn.metrics import accuracy_score, classification_report, confusion_matrix, label_ranking_average_precision_score, label_ranking_loss, coverage_error \n",
    "import itertools"
   ]
  },
  {
   "cell_type": "markdown",
   "metadata": {
    "colab_type": "text",
    "id": "nC6AHHMvhJYZ"
   },
   "source": [
    "- ¿Cual es la longitud de la entrada? (Esta será la cantidad de neuronas que tendremos en la primera capa).\n",
    "- ¿Cuantas neuronas tendremos en nuestra última capa? \n",
    "- También necesitamos un batch_size si queremos entrenar la red neuronal con SGD."
   ]
  },
  {
   "cell_type": "code",
   "execution_count": 44,
   "metadata": {
    "colab": {},
    "colab_type": "code",
    "id": "_2t48inzhJYa"
   },
   "outputs": [],
   "source": [
    "signal_length = X_shuffle.shape[1]  # cada pulsación se compone de 187 señales --> longitud de la capa de entrada\n",
    "n_classes =     y_labels.size       # y_labels es un range(0,5) obtenido en MultiLabelBinarizer() --> longitud de la capa final\n",
    "batch_size =    250                 # p.e."
   ]
  },
  {
   "cell_type": "markdown",
   "metadata": {
    "colab_type": "text",
    "id": "9W8F-CVJhJYd"
   },
   "source": [
    "Siguiendo la arquitectura mencionada en el paper definimos una red neuronal con:\n",
    "* 5 capas ocultas convolucionales de una dimension, con 32 neuronal y un kernel_size de 5.\n",
    "> NOTA: se definen dos convolucionales con una activación en medio de relu y sin dropout, en vez de eso se mete un stride = 2\n",
    "* Como layers vistas hay:\n",
    "    * De entrada una Conv1D de 32 neuronas\n",
    "    * "
   ]
  },
  {
   "cell_type": "code",
   "execution_count": 99,
   "metadata": {
    "colab": {},
    "colab_type": "code",
    "id": "VBc_yhfThJYe",
    "outputId": "b60eb195-6c94-4a41-d75a-a00e94971fe7"
   },
   "outputs": [],
   "source": [
    "def get_conv(i:int):\n",
    "    \"\"\" Central Architecture for Conv Layers in model, deffined as:\n",
    "            Conv -> ReLu -> Conv -> +  -> ReLu -> Pool\n",
    "    \"\"\"\n",
    "    conv_layer = Sequential(\n",
    "        [\n",
    "            Conv1D(32, kernel_size=5),\n",
    "            BatchNormalization(),\n",
    "            Activation('relu'),\n",
    "            MaxPooling1D(pool_size=(2), strides=2)\n",
    "        ], name = f\"residual_conv_{i}\"\n",
    "    )\n",
    "\n",
    "    return conv_layer\n",
    "\n",
    "\n",
    "\n",
    "def get_model(\n",
    "    signal_length: int,\n",
    "    n_classes: int\n",
    "    ):\n",
    "    \"\"\" Modelo sacado del paper de referencia, basado en 5 layers convolucionales \n",
    "        con una entrada de:        Input() -> Conv\n",
    "        y una salida tal que:      FC -> ReLu -> fc -> Softmax \n",
    "\n",
    "        En total, tiene que haber 13 layers con pesos\n",
    "    \"\"\"\n",
    "\n",
    "    model = Sequential()\n",
    "\n",
    "    # layer_0\n",
    "    model.add(Conv1D(32, kernel_size=(5), input_shape=(signal_length, 1)))\n",
    "    model.add(Dropout(0.5))\n",
    "    model.add(BatchNormalization())\n",
    "    model.add(Activation('relu'))\n",
    "\n",
    "    model.add(get_conv(i=1))\n",
    "    model.add(get_conv(i=2))\n",
    "    model.add(get_conv(i=3))\n",
    "    model.add(get_conv(i=4))\n",
    "    model.add(get_conv(i=5))\n",
    "\n",
    "    # \n",
    "    model.add(Flatten())\n",
    "    model.add(Dense(32, activation='relu'))\n",
    "    model.add(Dropout(0.5))\n",
    "    model.add(Dense(n_classes,  activation='softmax'))\n",
    "\n",
    "    return model\n"
   ]
  },
  {
   "cell_type": "code",
   "execution_count": 100,
   "metadata": {},
   "outputs": [
    {
     "name": "stdout",
     "output_type": "stream",
     "text": [
      "Model: \"sequential_19\"\n",
      "_________________________________________________________________\n",
      "Layer (type)                 Output Shape              Param #   \n",
      "=================================================================\n",
      "conv1d_152 (Conv1D)          (None, 183, 32)           192       \n",
      "_________________________________________________________________\n",
      "dropout_71 (Dropout)         (None, 183, 32)           0         \n",
      "_________________________________________________________________\n",
      "batch_normalization_104 (Bat (None, 183, 32)           128       \n",
      "_________________________________________________________________\n",
      "activation_143 (Activation)  (None, 183, 32)           0         \n",
      "_________________________________________________________________\n",
      "residual_conv_1 (Sequential) (None, 89, 32)            5280      \n",
      "_________________________________________________________________\n",
      "residual_conv_2 (Sequential) (None, 42, 32)            5280      \n",
      "_________________________________________________________________\n",
      "residual_conv_3 (Sequential) (None, 19, 32)            5280      \n",
      "_________________________________________________________________\n",
      "residual_conv_4 (Sequential) (None, 7, 32)             5280      \n",
      "_________________________________________________________________\n",
      "residual_conv_5 (Sequential) (None, 1, 32)             5280      \n",
      "_________________________________________________________________\n",
      "flatten_6 (Flatten)          (None, 32)                0         \n",
      "_________________________________________________________________\n",
      "dense_12 (Dense)             (None, 32)                1056      \n",
      "_________________________________________________________________\n",
      "dropout_72 (Dropout)         (None, 32)                0         \n",
      "_________________________________________________________________\n",
      "dense_13 (Dense)             (None, 5)                 165       \n",
      "=================================================================\n",
      "Total params: 27,941\n",
      "Trainable params: 27,557\n",
      "Non-trainable params: 384\n",
      "_________________________________________________________________\n"
     ]
    }
   ],
   "source": [
    "model = get_model(signal_length, n_classes)\n",
    "\n",
    "model.summary()\n",
    "model.compile(\n",
    "    loss='categorical_crossentropy', \n",
    "    optimizer=Adam(), \n",
    "    metrics=['accuracy']\n",
    ")"
   ]
  },
  {
   "cell_type": "code",
   "execution_count": null,
   "metadata": {
    "colab": {},
    "colab_type": "code",
    "id": "-mf7fDdchJYi",
    "outputId": "6656fc56-133a-4a48-bd49-77efaa251f63"
   },
   "outputs": [],
   "source": [
    "history = model.fit(\n",
    "    X_train, y_train,\n",
    "    epochs=10, \n",
    "    batch_size=batch_size, \n",
    "    verbose=1, \n",
    "    validation_data=(X_test, y_test)\n",
    ")"
   ]
  },
  {
   "cell_type": "code",
   "execution_count": 102,
   "metadata": {
    "colab": {},
    "colab_type": "code",
    "id": "aWds4b6ChJYl",
    "outputId": "a4255044-3b63-4b4d-adea-08a65c5da792"
   },
   "outputs": [
    {
     "data": {
      "text/plain": [
       "dict_keys(['loss', 'accuracy', 'val_loss', 'val_accuracy'])"
      ]
     },
     "metadata": {},
     "output_type": "display_data"
    }
   ],
   "source": [
    "display(history.history.keys()) # aqui se ve que tiene el modelo"
   ]
  },
  {
   "cell_type": "markdown",
   "metadata": {
    "colab_type": "text",
    "id": "xzB3t9CYhJYo"
   },
   "source": [
    "----\n",
    "\n",
    "### Evaluación del model\n",
    "\n",
    "18. Ahora podemos ver si nuestro modelo está haciendo overfitting. Dibuja una gráfica con la accuracy en train y en validation usando los datos del objeto history."
   ]
  },
  {
   "cell_type": "code",
   "execution_count": 103,
   "metadata": {
    "colab": {},
    "colab_type": "code",
    "id": "KP_SRAnphJYp",
    "outputId": "43c5e9ba-51c1-4adc-aaa2-fe1e4825d40b"
   },
   "outputs": [
    {
     "data": {
      "image/png": "[encoded data removed]",
      "text/plain": [
       "<Figure size 432x288 with 1 Axes>"
      ]
     },
     "metadata": {
      "needs_background": "light"
     },
     "output_type": "display_data"
    }
   ],
   "source": [
    "#Dos lineas de código\n",
    "plt.plot(history.history['accuracy'])     # train acc\n",
    "plt.plot(history.history['val_accuracy']) # test acc\n",
    "\n",
    "plt.xlabel('epoch'); plt.ylabel('accuray')\n",
    "plt.legend(['train', 'test'])\n",
    "\n",
    "plt.show()"
   ]
  },
  {
   "cell_type": "markdown",
   "metadata": {
    "colab_type": "text",
    "id": "p2RC2_pghJYr"
   },
   "source": [
    "19. Lo mismo, pero con la pérdida"
   ]
  },
  {
   "cell_type": "code",
   "execution_count": 104,
   "metadata": {
    "colab": {},
    "colab_type": "code",
    "id": "eaJxqJWYhJYs",
    "outputId": "b320b106-1c86-4e5b-d9d4-a6f186e54b4b"
   },
   "outputs": [
    {
     "data": {
      "image/png": "[encoded data removed]",
      "text/plain": [
       "<Figure size 432x288 with 1 Axes>"
      ]
     },
     "metadata": {
      "needs_background": "light"
     },
     "output_type": "display_data"
    }
   ],
   "source": [
    "#Dos lineas de código\n",
    "plt.plot(history.history['loss'])     # train acc\n",
    "plt.plot(history.history['val_loss']) # test acc\n",
    "\n",
    "plt.xlabel('epoch'); plt.ylabel('loss')\n",
    "plt.legend(['train', 'test'])\n",
    "\n",
    "\n",
    "plt.show()"
   ]
  },
  {
   "cell_type": "markdown",
   "metadata": {
    "colab_type": "text",
    "id": "YFu3wMNZhJYv"
   },
   "source": [
    "**20. [1 linea codigo]** Calcula las predicciones del modelo con X_test."
   ]
  },
  {
   "cell_type": "code",
   "execution_count": 106,
   "metadata": {
    "colab": {},
    "colab_type": "code",
    "id": "vd1FIayQhJYw"
   },
   "outputs": [],
   "source": [
    "y_pred = model.predict(X_test)"
   ]
  },
  {
   "cell_type": "markdown",
   "metadata": {
    "colab_type": "text",
    "id": "YVhxvfzLhJYy"
   },
   "source": [
    "**21. [1 linea codigo]** ¿Que dimensiones tiene la predicción y_pred?"
   ]
  },
  {
   "cell_type": "code",
   "execution_count": 109,
   "metadata": {
    "colab": {},
    "colab_type": "code",
    "id": "6M4DrqzZhJYz",
    "outputId": "4fd63c75-7e76-4c07-e2be-29f6f5217ad6"
   },
   "outputs": [
    {
     "name": "stdout",
     "output_type": "stream",
     "text": [
      "(21889, 5)\n",
      "(21889, 5)\n"
     ]
    }
   ],
   "source": [
    "print(y_pred.shape)\n",
    "print(y_test.shape)"
   ]
  },
  {
   "cell_type": "markdown",
   "metadata": {
    "colab_type": "text",
    "id": "BBuCsReShJY2"
   },
   "source": [
    "22. Compara una predicción con el valor esperado utilizando un gráfico de barras."
   ]
  },
  {
   "cell_type": "code",
   "execution_count": 145,
   "metadata": {
    "colab": {},
    "colab_type": "code",
    "id": "pGsxbYnWhJY3",
    "outputId": "61943267-f1d2-42c8-d9e3-2a57ee8de15e"
   },
   "outputs": [
    {
     "data": {
      "image/png": "[encoded data removed]",
      "text/plain": [
       "<Figure size 1080x216 with 5 Axes>"
      ]
     },
     "metadata": {
      "needs_background": "light"
     },
     "output_type": "display_data"
    }
   ],
   "source": [
    "# vamos a plotear unos cuantos casos\n",
    "n_cases = 5\n",
    "pltsize = 3\n",
    "\n",
    "f, ax = plt.subplots(nrows = 1, ncols = n_cases, figsize=(n_cases*pltsize, pltsize))\n",
    "\n",
    "for i, _ in enumerate(range(0, 200, 15)[:n_cases]):\n",
    "    ax[i].plot(range(n_classes), y_pred[_])\n",
    "    ax[i].plot(range(n_classes), y_test[_])\n",
    "\n",
    "plt.legend(['prediction', 'true'])\n",
    "plt.show()\n"
   ]
  },
  {
   "cell_type": "markdown",
   "metadata": {
    "colab_type": "text",
    "id": "sXFer3AZhJY5"
   },
   "source": [
    "¿El modelo plantea una sola posibilidad o las probabilidades de cada categoria al estimar?\n",
    "> *EL modelo plantea una probabilidad para cada categoría*"
   ]
  },
  {
   "cell_type": "markdown",
   "metadata": {
    "colab_type": "text",
    "id": "eoQVwwFhhJY5"
   },
   "source": [
    "Este snippet de código genera un report del modelo, y el siguiente una matriz de confusión. Utilizadlo para evaluar vuestro modelo."
   ]
  },
  {
   "cell_type": "code",
   "execution_count": 146,
   "metadata": {
    "colab": {},
    "colab_type": "code",
    "id": "YX_k97bghJY6",
    "outputId": "53a2a5b0-49c7-4c98-c3e3-b1e5f225de73"
   },
   "outputs": [
    {
     "name": "stdout",
     "output_type": "stream",
     "text": [
      "              precision    recall  f1-score   support\n",
      "\n",
      "           0       0.96      1.00      0.98     18150\n",
      "           1       0.97      0.45      0.61       539\n",
      "           2       0.95      0.78      0.86      1394\n",
      "           3       0.78      0.17      0.28       166\n",
      "           4       1.00      0.93      0.96      1640\n",
      "\n",
      "    accuracy                           0.96     21889\n",
      "   macro avg       0.93      0.67      0.74     21889\n",
      "weighted avg       0.96      0.96      0.95     21889\n",
      "\n"
     ]
    }
   ],
   "source": [
    "print(classification_report(y_test.argmax(axis=1), y_pred.argmax(axis=1)))"
   ]
  },
  {
   "cell_type": "markdown",
   "metadata": {},
   "source": [
    "<u>NOTAS</u>\n",
    "\n",
    "* Recall (la capacidad del modelo de devolver falsos negativos): Es *muy baja* para las categorias 1 y 3\n",
    "* Precision (la capacidad del modelo de devolver falsos positivos): Es baja para la categoría 3\n",
    "\n",
    "> El modelo es malo para predecir la categoría 3"
   ]
  },
  {
   "cell_type": "code",
   "execution_count": 149,
   "metadata": {
    "colab": {},
    "colab_type": "code",
    "id": "O3E_a95ihJY8",
    "outputId": "77424721-254d-4556-a7b0-fa7f40a16bf9"
   },
   "outputs": [
    {
     "name": "stdout",
     "output_type": "stream",
     "text": [
      "Normalized confusion matrix\n"
     ]
    },
    {
     "data": {
      "image/png": "[encoded data removed]",
      "text/plain": [
       "<Figure size 720x720 with 2 Axes>"
      ]
     },
     "metadata": {
      "needs_background": "light"
     },
     "output_type": "display_data"
    }
   ],
   "source": [
    "def plot_confusion_matrix(cm, classes,\n",
    "                          normalize=False,\n",
    "                          title='Confusion matrix',\n",
    "                          cmap=plt.cm.Blues):\n",
    "    \"\"\"\n",
    "    This function prints and plots the confusion matrix.\n",
    "    Normalization can be applied by setting `normalize=True`.\n",
    "    \"\"\"\n",
    "    title = 'Confusion matrix, without normalization'\n",
    "\n",
    "    if normalize:\n",
    "        cm = cm.astype('float') / cm.sum(axis=1)[:, np.newaxis]\n",
    "        title = 'Confusion matrix, with normalization'\n",
    "\n",
    "\n",
    "    plt.imshow(cm, interpolation='nearest', cmap=cmap)\n",
    "    plt.title(title)\n",
    "    plt.colorbar()\n",
    "    tick_marks = np.arange(len(classes))\n",
    "    plt.xticks(tick_marks, classes, rotation=45)\n",
    "    plt.yticks(tick_marks, classes)\n",
    "\n",
    "    fmt = '.2f' if normalize else 'd'\n",
    "    thresh = cm.max() / 2.\n",
    "    for i, j in itertools.product(range(cm.shape[0]), range(cm.shape[1])):\n",
    "        plt.text(j, i, format(cm[i, j], fmt),\n",
    "                 horizontalalignment=\"center\",\n",
    "                 color=\"white\" if cm[i, j] > thresh else \"black\")\n",
    "\n",
    "    plt.tight_layout()\n",
    "    plt.ylabel('True label')\n",
    "    plt.xlabel('Predicted label')\n",
    "\n",
    "# Compute confusion matrix\n",
    "cnf_matrix = confusion_matrix(y_test.argmax(axis=1), y_pred.argmax(axis=1))\n",
    "np.set_printoptions(precision=2)\n",
    "\n",
    "# Plot non-normalized confusion matrix\n",
    "plt.figure(figsize=(10, 10))\n",
    "plot_confusion_matrix(cnf_matrix, classes=label_names,\n",
    "                      title='Confusion matrix, with normalization',\n",
    "                      normalize=True)\n",
    "plt.show()"
   ]
  },
  {
   "cell_type": "markdown",
   "metadata": {
    "colab_type": "text",
    "id": "dXtlz07VhJZB"
   },
   "source": [
    "**Preguntas:**\n",
    "- Si tomamos todo lo que no sea normal como positivo, ¿el modelo se equivoca mas en falsos positivos o en falsos negativos?\n",
    "> En **falso positivo**, pues devuelve como positivo (normal) casos que no pertenecen a esa categoría\n",
    "- ¿Que categoría genera mayor error?\n",
    "> Fusión contracción ventricular, pues la mayoría de los casos están mal predecidos como normales\n",
    "- ¿Existe overfitting?\n",
    "> En mi caso - que he modificado los parámetros de entrenamiento - creo que no; de hecho el accuracy del test es mayor que el del train (accuracy: 0.9575 < val_accuracy: 0.9596)\n",
    "- ¿Como afecta batch_size al entrenamiento?\n",
    "> El batch size es el número de instancias que toma por cada época para entrenar; cuanto mayor batch size, mayor tiempo de entrenamiento por epoch"
   ]
  },
  {
   "cell_type": "markdown",
   "metadata": {
    "colab_type": "text",
    "id": "6jdUQrynhJZD"
   },
   "source": [
    "Ahora os toca a vosotros mejorar el modelo. Probad con otros optimizadores, cambiar la función de coste, volveros locos con el batch_size..... El paper del principio puede dar alguna pista. Como siempre, el que tenga la mejor score, ¡tiene premio!"
   ]
  },
  {
   "cell_type": "code",
   "execution_count": 150,
   "metadata": {},
   "outputs": [],
   "source": [
    "# Lo he dejado en lo que he obtenido : 0.9596 que no está mal"
   ]
  }
 ],
 "metadata": {
  "colab": {
   "collapsed_sections": [],
   "name": "AISaturdays_ChallengeSession5.ipynb",
   "provenance": [
    {
     "file_id": "1eDULJv1udQFKK4WLY0M_f9jBxibhzmXs",
     "timestamp": 1583527306059
    }
   ]
  },
  "kernelspec": {
   "display_name": "Python 3",
   "language": "python",
   "name": "python3"
  },
  "language_info": {
   "codemirror_mode": {
    "name": "ipython",
    "version": 3
   },
   "file_extension": ".py",
   "mimetype": "text/x-python",
   "name": "python",
   "nbconvert_exporter": "python",
   "pygments_lexer": "ipython3",
   "version": "3.9.7"
  }
 },
 "nbformat": 4,
 "nbformat_minor": 4
}
