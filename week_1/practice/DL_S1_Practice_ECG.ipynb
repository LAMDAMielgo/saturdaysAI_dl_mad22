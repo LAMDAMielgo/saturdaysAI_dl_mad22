{
  "cells": [
    {
      "cell_type": "markdown",
      "metadata": {
        "id": "7mB-O_VvhJXQ"
      },
      "source": [
        "# **ECG Practice**\n",
        "\n",
        "## **Detección de casos de enfermedad cardiovascular a través del análisis de electrocardiogramas (ECG)**\n",
        "\n",
        "---\n",
        "\n",
        "**Referencia**: [ECG Heartbeat Classification: A Deep Transferable Representation](https://arxiv.org/pdf/1805.00794.pdf)\n",
        "\n",
        "**Resumen de la referencia**:\n",
        "\n",
        "A partir de los datasets de  *PhysionNet’s MIT-BIH* y *PTB Diagnostics* se consigue realizar una clasificación de diferentes tipos de electrocardiogramas con una precisión del **93.4%** para las arritmias y **95.9%** para MI con el uso de RNN.\n",
        "\n",
        "**Contenido**\n",
        "\n",
        "* [importación de librerías y globales ](#section1)\n",
        "* [análisis de datos](#section2)\n",
        "    * Abrimos los datos\n",
        "    * Vemos los tipos de datos, las primeras líneas del df y su distribución\n",
        "    * Imprimimos algunos electrocardiogramas para ver qué pinta tienen\n",
        "* [preprocesamiento](#section3)\n",
        "    * Separamos el df en X,y\n",
        "    * Creamos arrays con los índices de los ejemplos que pertenecen a cada categoría.\n",
        "    * Vemos el counts por cada label, para ver su distribución.\n",
        "* [visualización de datos](#section4)\n",
        "    * plot del conteo por categoria, que visualizar la sobrerrepresentación de la label <0>\n",
        "    * plot del valor medio de cada categoria y su rango de valores para cada timestamp\n",
        "* [preparacion de datos](#section5)\n",
        "    * Binarizamos las labels con OneHot\n",
        "    * Hacemos un shuffle\n",
        "    * Cambiamos las dimensiones\n",
        "    * Hacemos un split entre train y test\n",
        "* [definición de modelo CNN y entrenamiento](#section6)\n",
        "    * importación de layers, callbacks, metrics y optimizersç\n",
        "* [predicciones con el set de testeo](#section7)\n",
        "* [evaluación del modelo](#section8)"
      ]
    },
    {
      "cell_type": "code",
      "source": [
        "from google.colab import drive\n",
        "drive.mount('/content/drive')"
      ],
      "metadata": {
        "colab": {
          "base_uri": "https://localhost:8080/"
        },
        "id": "lS3SrbIkA7jy",
        "outputId": "fba3548d-842f-4f8c-f3f9-4053c5111e23"
      },
      "execution_count": 2,
      "outputs": [
        {
          "output_type": "stream",
          "name": "stdout",
          "text": [
            "Mounted at /content/drive\n"
          ]
        }
      ]
    },
    {
      "cell_type": "markdown",
      "metadata": {
        "id": "ao9twkE1hJXS"
      },
      "source": [
        "\n",
        "----\n",
        "<a name=\"section1\"></a>\n",
        "\n",
        "### importación de librerias"
      ]
    },
    {
      "cell_type": "code",
      "execution_count": 27,
      "metadata": {
        "id": "Pky60QgthJXT"
      },
      "outputs": [],
      "source": [
        "import pandas as pd\n",
        "import matplotlib.pyplot as plt\n",
        "import numpy as np"
      ]
    },
    {
      "cell_type": "code",
      "execution_count": 28,
      "metadata": {
        "id": "Vgelwzm39dB2"
      },
      "outputs": [],
      "source": [
        "%matplotlib inline"
      ]
    },
    {
      "cell_type": "markdown",
      "metadata": {
        "id": "l1jYJBHThJXU"
      },
      "source": [
        "----\n",
        "<a name=\"section2\"></a>\n",
        "\n",
        "### análisis de datos\n"
      ]
    },
    {
      "cell_type": "code",
      "source": [
        "local_data_path = \"./data/mitbih_train.csv\"\n",
        "gcolab_data_path = \"/content/drive/MyDrive/satAI/week_01/practice/data/mitbih_train.csv\""
      ],
      "metadata": {
        "id": "Z7OpDuveAx4J"
      },
      "execution_count": 29,
      "outputs": []
    },
    {
      "cell_type": "code",
      "execution_count": 30,
      "metadata": {
        "colab": {
          "base_uri": "https://localhost:8080/"
        },
        "id": "5fsEI219hJXV",
        "outputId": "c4544f0a-09a3-413c-9576-49428bb9bf8f"
      },
      "outputs": [
        {
          "output_type": "stream",
          "name": "stdout",
          "text": [
            "<class 'pandas.core.frame.DataFrame'>\n",
            "RangeIndex: 87554 entries, 0 to 87553\n",
            "Columns: 188 entries, 0 to 187\n",
            "dtypes: float64(188)\n",
            "memory usage: 125.6 MB\n"
          ]
        }
      ],
      "source": [
        "# step 1 - importar el dataset\n",
        "df = pd.read_csv(gcolab_data_path, encoding='utf-8', header=None)\n",
        "\n",
        "# step 2 - ¿qué forma tiene el dataset?\n",
        "df.info()"
      ]
    },
    {
      "cell_type": "code",
      "execution_count": 31,
      "metadata": {
        "colab": {
          "base_uri": "https://localhost:8080/",
          "height": 300
        },
        "id": "Q39SynfYhJXg",
        "outputId": "8d41ccc2-4c84-40d7-a516-320d418799da",
        "scrolled": true
      },
      "outputs": [
        {
          "output_type": "execute_result",
          "data": {
            "text/plain": [
              "        0         1         2         3         4         5         6    \\\n",
              "0  0.977941  0.926471  0.681373  0.245098  0.154412  0.191176  0.151961   \n",
              "1  0.960114  0.863248  0.461538  0.196581  0.094017  0.125356  0.099715   \n",
              "2  1.000000  0.659459  0.186486  0.070270  0.070270  0.059459  0.056757   \n",
              "3  0.925414  0.665746  0.541436  0.276243  0.196133  0.077348  0.071823   \n",
              "4  0.967136  1.000000  0.830986  0.586854  0.356808  0.248826  0.145540   \n",
              "\n",
              "        7         8         9    ...  178  179  180  181  182  183  184  185  \\\n",
              "0  0.085784  0.058824  0.049020  ...  0.0  0.0  0.0  0.0  0.0  0.0  0.0  0.0   \n",
              "1  0.088319  0.074074  0.082621  ...  0.0  0.0  0.0  0.0  0.0  0.0  0.0  0.0   \n",
              "2  0.043243  0.054054  0.045946  ...  0.0  0.0  0.0  0.0  0.0  0.0  0.0  0.0   \n",
              "3  0.060773  0.066298  0.058011  ...  0.0  0.0  0.0  0.0  0.0  0.0  0.0  0.0   \n",
              "4  0.089202  0.117371  0.150235  ...  0.0  0.0  0.0  0.0  0.0  0.0  0.0  0.0   \n",
              "\n",
              "   186  187  \n",
              "0  0.0  0.0  \n",
              "1  0.0  0.0  \n",
              "2  0.0  0.0  \n",
              "3  0.0  0.0  \n",
              "4  0.0  0.0  \n",
              "\n",
              "[5 rows x 188 columns]"
            ],
            "text/html": [
              "\n",
              "  <div id=\"df-8f598520-0769-4c89-a4b2-c8f5944fc5f3\">\n",
              "    <div class=\"colab-df-container\">\n",
              "      <div>\n",
              "<style scoped>\n",
              "    .dataframe tbody tr th:only-of-type {\n",
              "        vertical-align: middle;\n",
              "    }\n",
              "\n",
              "    .dataframe tbody tr th {\n",
              "        vertical-align: top;\n",
              "    }\n",
              "\n",
              "    .dataframe thead th {\n",
              "        text-align: right;\n",
              "    }\n",
              "</style>\n",
              "<table border=\"1\" class=\"dataframe\">\n",
              "  <thead>\n",
              "    <tr style=\"text-align: right;\">\n",
              "      <th></th>\n",
              "      <th>0</th>\n",
              "      <th>1</th>\n",
              "      <th>2</th>\n",
              "      <th>3</th>\n",
              "      <th>4</th>\n",
              "      <th>5</th>\n",
              "      <th>6</th>\n",
              "      <th>7</th>\n",
              "      <th>8</th>\n",
              "      <th>9</th>\n",
              "      <th>...</th>\n",
              "      <th>178</th>\n",
              "      <th>179</th>\n",
              "      <th>180</th>\n",
              "      <th>181</th>\n",
              "      <th>182</th>\n",
              "      <th>183</th>\n",
              "      <th>184</th>\n",
              "      <th>185</th>\n",
              "      <th>186</th>\n",
              "      <th>187</th>\n",
              "    </tr>\n",
              "  </thead>\n",
              "  <tbody>\n",
              "    <tr>\n",
              "      <th>0</th>\n",
              "      <td>0.977941</td>\n",
              "      <td>0.926471</td>\n",
              "      <td>0.681373</td>\n",
              "      <td>0.245098</td>\n",
              "      <td>0.154412</td>\n",
              "      <td>0.191176</td>\n",
              "      <td>0.151961</td>\n",
              "      <td>0.085784</td>\n",
              "      <td>0.058824</td>\n",
              "      <td>0.049020</td>\n",
              "      <td>...</td>\n",
              "      <td>0.0</td>\n",
              "      <td>0.0</td>\n",
              "      <td>0.0</td>\n",
              "      <td>0.0</td>\n",
              "      <td>0.0</td>\n",
              "      <td>0.0</td>\n",
              "      <td>0.0</td>\n",
              "      <td>0.0</td>\n",
              "      <td>0.0</td>\n",
              "      <td>0.0</td>\n",
              "    </tr>\n",
              "    <tr>\n",
              "      <th>1</th>\n",
              "      <td>0.960114</td>\n",
              "      <td>0.863248</td>\n",
              "      <td>0.461538</td>\n",
              "      <td>0.196581</td>\n",
              "      <td>0.094017</td>\n",
              "      <td>0.125356</td>\n",
              "      <td>0.099715</td>\n",
              "      <td>0.088319</td>\n",
              "      <td>0.074074</td>\n",
              "      <td>0.082621</td>\n",
              "      <td>...</td>\n",
              "      <td>0.0</td>\n",
              "      <td>0.0</td>\n",
              "      <td>0.0</td>\n",
              "      <td>0.0</td>\n",
              "      <td>0.0</td>\n",
              "      <td>0.0</td>\n",
              "      <td>0.0</td>\n",
              "      <td>0.0</td>\n",
              "      <td>0.0</td>\n",
              "      <td>0.0</td>\n",
              "    </tr>\n",
              "    <tr>\n",
              "      <th>2</th>\n",
              "      <td>1.000000</td>\n",
              "      <td>0.659459</td>\n",
              "      <td>0.186486</td>\n",
              "      <td>0.070270</td>\n",
              "      <td>0.070270</td>\n",
              "      <td>0.059459</td>\n",
              "      <td>0.056757</td>\n",
              "      <td>0.043243</td>\n",
              "      <td>0.054054</td>\n",
              "      <td>0.045946</td>\n",
              "      <td>...</td>\n",
              "      <td>0.0</td>\n",
              "      <td>0.0</td>\n",
              "      <td>0.0</td>\n",
              "      <td>0.0</td>\n",
              "      <td>0.0</td>\n",
              "      <td>0.0</td>\n",
              "      <td>0.0</td>\n",
              "      <td>0.0</td>\n",
              "      <td>0.0</td>\n",
              "      <td>0.0</td>\n",
              "    </tr>\n",
              "    <tr>\n",
              "      <th>3</th>\n",
              "      <td>0.925414</td>\n",
              "      <td>0.665746</td>\n",
              "      <td>0.541436</td>\n",
              "      <td>0.276243</td>\n",
              "      <td>0.196133</td>\n",
              "      <td>0.077348</td>\n",
              "      <td>0.071823</td>\n",
              "      <td>0.060773</td>\n",
              "      <td>0.066298</td>\n",
              "      <td>0.058011</td>\n",
              "      <td>...</td>\n",
              "      <td>0.0</td>\n",
              "      <td>0.0</td>\n",
              "      <td>0.0</td>\n",
              "      <td>0.0</td>\n",
              "      <td>0.0</td>\n",
              "      <td>0.0</td>\n",
              "      <td>0.0</td>\n",
              "      <td>0.0</td>\n",
              "      <td>0.0</td>\n",
              "      <td>0.0</td>\n",
              "    </tr>\n",
              "    <tr>\n",
              "      <th>4</th>\n",
              "      <td>0.967136</td>\n",
              "      <td>1.000000</td>\n",
              "      <td>0.830986</td>\n",
              "      <td>0.586854</td>\n",
              "      <td>0.356808</td>\n",
              "      <td>0.248826</td>\n",
              "      <td>0.145540</td>\n",
              "      <td>0.089202</td>\n",
              "      <td>0.117371</td>\n",
              "      <td>0.150235</td>\n",
              "      <td>...</td>\n",
              "      <td>0.0</td>\n",
              "      <td>0.0</td>\n",
              "      <td>0.0</td>\n",
              "      <td>0.0</td>\n",
              "      <td>0.0</td>\n",
              "      <td>0.0</td>\n",
              "      <td>0.0</td>\n",
              "      <td>0.0</td>\n",
              "      <td>0.0</td>\n",
              "      <td>0.0</td>\n",
              "    </tr>\n",
              "  </tbody>\n",
              "</table>\n",
              "<p>5 rows × 188 columns</p>\n",
              "</div>\n",
              "      <button class=\"colab-df-convert\" onclick=\"convertToInteractive('df-8f598520-0769-4c89-a4b2-c8f5944fc5f3')\"\n",
              "              title=\"Convert this dataframe to an interactive table.\"\n",
              "              style=\"display:none;\">\n",
              "        \n",
              "  <svg xmlns=\"http://www.w3.org/2000/svg\" height=\"24px\"viewBox=\"0 0 24 24\"\n",
              "       width=\"24px\">\n",
              "    <path d=\"M0 0h24v24H0V0z\" fill=\"none\"/>\n",
              "    <path d=\"M18.56 5.44l.94 2.06.94-2.06 2.06-.94-2.06-.94-.94-2.06-.94 2.06-2.06.94zm-11 1L8.5 8.5l.94-2.06 2.06-.94-2.06-.94L8.5 2.5l-.94 2.06-2.06.94zm10 10l.94 2.06.94-2.06 2.06-.94-2.06-.94-.94-2.06-.94 2.06-2.06.94z\"/><path d=\"M17.41 7.96l-1.37-1.37c-.4-.4-.92-.59-1.43-.59-.52 0-1.04.2-1.43.59L10.3 9.45l-7.72 7.72c-.78.78-.78 2.05 0 2.83L4 21.41c.39.39.9.59 1.41.59.51 0 1.02-.2 1.41-.59l7.78-7.78 2.81-2.81c.8-.78.8-2.07 0-2.86zM5.41 20L4 18.59l7.72-7.72 1.47 1.35L5.41 20z\"/>\n",
              "  </svg>\n",
              "      </button>\n",
              "      \n",
              "  <style>\n",
              "    .colab-df-container {\n",
              "      display:flex;\n",
              "      flex-wrap:wrap;\n",
              "      gap: 12px;\n",
              "    }\n",
              "\n",
              "    .colab-df-convert {\n",
              "      background-color: #E8F0FE;\n",
              "      border: none;\n",
              "      border-radius: 50%;\n",
              "      cursor: pointer;\n",
              "      display: none;\n",
              "      fill: #1967D2;\n",
              "      height: 32px;\n",
              "      padding: 0 0 0 0;\n",
              "      width: 32px;\n",
              "    }\n",
              "\n",
              "    .colab-df-convert:hover {\n",
              "      background-color: #E2EBFA;\n",
              "      box-shadow: 0px 1px 2px rgba(60, 64, 67, 0.3), 0px 1px 3px 1px rgba(60, 64, 67, 0.15);\n",
              "      fill: #174EA6;\n",
              "    }\n",
              "\n",
              "    [theme=dark] .colab-df-convert {\n",
              "      background-color: #3B4455;\n",
              "      fill: #D2E3FC;\n",
              "    }\n",
              "\n",
              "    [theme=dark] .colab-df-convert:hover {\n",
              "      background-color: #434B5C;\n",
              "      box-shadow: 0px 1px 3px 1px rgba(0, 0, 0, 0.15);\n",
              "      filter: drop-shadow(0px 1px 2px rgba(0, 0, 0, 0.3));\n",
              "      fill: #FFFFFF;\n",
              "    }\n",
              "  </style>\n",
              "\n",
              "      <script>\n",
              "        const buttonEl =\n",
              "          document.querySelector('#df-8f598520-0769-4c89-a4b2-c8f5944fc5f3 button.colab-df-convert');\n",
              "        buttonEl.style.display =\n",
              "          google.colab.kernel.accessAllowed ? 'block' : 'none';\n",
              "\n",
              "        async function convertToInteractive(key) {\n",
              "          const element = document.querySelector('#df-8f598520-0769-4c89-a4b2-c8f5944fc5f3');\n",
              "          const dataTable =\n",
              "            await google.colab.kernel.invokeFunction('convertToInteractive',\n",
              "                                                     [key], {});\n",
              "          if (!dataTable) return;\n",
              "\n",
              "          const docLinkHtml = 'Like what you see? Visit the ' +\n",
              "            '<a target=\"_blank\" href=https://colab.research.google.com/notebooks/data_table.ipynb>data table notebook</a>'\n",
              "            + ' to learn more about interactive tables.';\n",
              "          element.innerHTML = '';\n",
              "          dataTable['output_type'] = 'display_data';\n",
              "          await google.colab.output.renderOutput(dataTable, element);\n",
              "          const docLink = document.createElement('div');\n",
              "          docLink.innerHTML = docLinkHtml;\n",
              "          element.appendChild(docLink);\n",
              "        }\n",
              "      </script>\n",
              "    </div>\n",
              "  </div>\n",
              "  "
            ]
          },
          "metadata": {},
          "execution_count": 31
        }
      ],
      "source": [
        "# step 3 - ¿cómo son los datos? muestras las cinco primeras filas\n",
        "df.head()"
      ]
    },
    {
      "cell_type": "markdown",
      "metadata": {
        "id": "Q40at1iFhJXj"
      },
      "source": [
        "Este es el dataset de hoy. Esta vez, cada columna representa una lectura del electrocardiograma (recogido a 125Hz). \n",
        "\n",
        "Si en total hay 187 lecturas, en estas columnas tenemos alrededor de segundo y medio de pulsaciones. La última columna contiene la categoría a la que pertenecen estas pulsaciones. En total hay cinco, cada una representada por un número: \n",
        "\n",
        "- Normal: 0\n",
        "- Arritmia prematura (atrial, aberrante-atrial, nodal o supra-ventricular) : 1\n",
        "- Contracción prematura ventricular o escape ventricular: 2\n",
        "- Fusión de la contracción ventricular y normal: 3\n",
        "- Resucitación, fusión de normal y resucitación o inclasificable: 4\n"
      ]
    },
    {
      "cell_type": "code",
      "execution_count": 32,
      "metadata": {
        "id": "CsAgBQVV9dB8"
      },
      "outputs": [],
      "source": [
        "label_names = ('normal', 'arritmia_prematura', 'contracción_prematura_ventricular', 'fusión_contraccion_ventricular', 'resucitación')"
      ]
    },
    {
      "cell_type": "code",
      "execution_count": 33,
      "metadata": {
        "colab": {
          "base_uri": "https://localhost:8080/",
          "height": 394
        },
        "id": "U28kFZeuhJXl",
        "outputId": "13210681-93a8-4d29-e037-9fc3c69c2a94"
      },
      "outputs": [
        {
          "output_type": "execute_result",
          "data": {
            "text/plain": [
              "                0             1             2             3             4    \\\n",
              "count  87554.000000  87554.000000  87554.000000  87554.000000  87554.000000   \n",
              "mean       0.890360      0.758160      0.423972      0.219104      0.201127   \n",
              "std        0.240909      0.221813      0.227305      0.206878      0.177058   \n",
              "min        0.000000      0.000000      0.000000      0.000000      0.000000   \n",
              "25%        0.921922      0.682486      0.250969      0.048458      0.082329   \n",
              "50%        0.991342      0.826013      0.429472      0.166000      0.147878   \n",
              "75%        1.000000      0.910506      0.578767      0.341727      0.258993   \n",
              "max        1.000000      1.000000      1.000000      1.000000      1.000000   \n",
              "\n",
              "                5             6             7             8             9    \\\n",
              "count  87554.000000  87554.000000  87554.000000  87554.000000  87554.000000   \n",
              "mean       0.210399      0.205808      0.201773      0.198691      0.196757   \n",
              "std        0.171909      0.178481      0.177240      0.171778      0.168357   \n",
              "min        0.000000      0.000000      0.000000      0.000000      0.000000   \n",
              "25%        0.088416      0.073333      0.066116      0.065000      0.068639   \n",
              "50%        0.158798      0.145324      0.144424      0.150000      0.148734   \n",
              "75%        0.287628      0.298237      0.295391      0.290832      0.283636   \n",
              "max        1.000000      1.000000      1.000000      1.000000      1.000000   \n",
              "\n",
              "       ...           178           179           180           181  \\\n",
              "count  ...  87554.000000  87554.000000  87554.000000  87554.000000   \n",
              "mean   ...      0.005025      0.004628      0.004291      0.003945   \n",
              "std    ...      0.044154      0.042089      0.040525      0.038651   \n",
              "min    ...      0.000000      0.000000      0.000000      0.000000   \n",
              "25%    ...      0.000000      0.000000      0.000000      0.000000   \n",
              "50%    ...      0.000000      0.000000      0.000000      0.000000   \n",
              "75%    ...      0.000000      0.000000      0.000000      0.000000   \n",
              "max    ...      1.000000      1.000000      1.000000      1.000000   \n",
              "\n",
              "                182           183           184           185           186  \\\n",
              "count  87554.000000  87554.000000  87554.000000  87554.000000  87554.000000   \n",
              "mean       0.003681      0.003471      0.003221      0.002945      0.002807   \n",
              "std        0.037193      0.036255      0.034789      0.032865      0.031924   \n",
              "min        0.000000      0.000000      0.000000      0.000000      0.000000   \n",
              "25%        0.000000      0.000000      0.000000      0.000000      0.000000   \n",
              "50%        0.000000      0.000000      0.000000      0.000000      0.000000   \n",
              "75%        0.000000      0.000000      0.000000      0.000000      0.000000   \n",
              "max        1.000000      1.000000      1.000000      1.000000      1.000000   \n",
              "\n",
              "                187  \n",
              "count  87554.000000  \n",
              "mean       0.473376  \n",
              "std        1.143184  \n",
              "min        0.000000  \n",
              "25%        0.000000  \n",
              "50%        0.000000  \n",
              "75%        0.000000  \n",
              "max        4.000000  \n",
              "\n",
              "[8 rows x 188 columns]"
            ],
            "text/html": [
              "\n",
              "  <div id=\"df-d2aeaf14-d557-4cc8-917c-d964e1b11785\">\n",
              "    <div class=\"colab-df-container\">\n",
              "      <div>\n",
              "<style scoped>\n",
              "    .dataframe tbody tr th:only-of-type {\n",
              "        vertical-align: middle;\n",
              "    }\n",
              "\n",
              "    .dataframe tbody tr th {\n",
              "        vertical-align: top;\n",
              "    }\n",
              "\n",
              "    .dataframe thead th {\n",
              "        text-align: right;\n",
              "    }\n",
              "</style>\n",
              "<table border=\"1\" class=\"dataframe\">\n",
              "  <thead>\n",
              "    <tr style=\"text-align: right;\">\n",
              "      <th></th>\n",
              "      <th>0</th>\n",
              "      <th>1</th>\n",
              "      <th>2</th>\n",
              "      <th>3</th>\n",
              "      <th>4</th>\n",
              "      <th>5</th>\n",
              "      <th>6</th>\n",
              "      <th>7</th>\n",
              "      <th>8</th>\n",
              "      <th>9</th>\n",
              "      <th>...</th>\n",
              "      <th>178</th>\n",
              "      <th>179</th>\n",
              "      <th>180</th>\n",
              "      <th>181</th>\n",
              "      <th>182</th>\n",
              "      <th>183</th>\n",
              "      <th>184</th>\n",
              "      <th>185</th>\n",
              "      <th>186</th>\n",
              "      <th>187</th>\n",
              "    </tr>\n",
              "  </thead>\n",
              "  <tbody>\n",
              "    <tr>\n",
              "      <th>count</th>\n",
              "      <td>87554.000000</td>\n",
              "      <td>87554.000000</td>\n",
              "      <td>87554.000000</td>\n",
              "      <td>87554.000000</td>\n",
              "      <td>87554.000000</td>\n",
              "      <td>87554.000000</td>\n",
              "      <td>87554.000000</td>\n",
              "      <td>87554.000000</td>\n",
              "      <td>87554.000000</td>\n",
              "      <td>87554.000000</td>\n",
              "      <td>...</td>\n",
              "      <td>87554.000000</td>\n",
              "      <td>87554.000000</td>\n",
              "      <td>87554.000000</td>\n",
              "      <td>87554.000000</td>\n",
              "      <td>87554.000000</td>\n",
              "      <td>87554.000000</td>\n",
              "      <td>87554.000000</td>\n",
              "      <td>87554.000000</td>\n",
              "      <td>87554.000000</td>\n",
              "      <td>87554.000000</td>\n",
              "    </tr>\n",
              "    <tr>\n",
              "      <th>mean</th>\n",
              "      <td>0.890360</td>\n",
              "      <td>0.758160</td>\n",
              "      <td>0.423972</td>\n",
              "      <td>0.219104</td>\n",
              "      <td>0.201127</td>\n",
              "      <td>0.210399</td>\n",
              "      <td>0.205808</td>\n",
              "      <td>0.201773</td>\n",
              "      <td>0.198691</td>\n",
              "      <td>0.196757</td>\n",
              "      <td>...</td>\n",
              "      <td>0.005025</td>\n",
              "      <td>0.004628</td>\n",
              "      <td>0.004291</td>\n",
              "      <td>0.003945</td>\n",
              "      <td>0.003681</td>\n",
              "      <td>0.003471</td>\n",
              "      <td>0.003221</td>\n",
              "      <td>0.002945</td>\n",
              "      <td>0.002807</td>\n",
              "      <td>0.473376</td>\n",
              "    </tr>\n",
              "    <tr>\n",
              "      <th>std</th>\n",
              "      <td>0.240909</td>\n",
              "      <td>0.221813</td>\n",
              "      <td>0.227305</td>\n",
              "      <td>0.206878</td>\n",
              "      <td>0.177058</td>\n",
              "      <td>0.171909</td>\n",
              "      <td>0.178481</td>\n",
              "      <td>0.177240</td>\n",
              "      <td>0.171778</td>\n",
              "      <td>0.168357</td>\n",
              "      <td>...</td>\n",
              "      <td>0.044154</td>\n",
              "      <td>0.042089</td>\n",
              "      <td>0.040525</td>\n",
              "      <td>0.038651</td>\n",
              "      <td>0.037193</td>\n",
              "      <td>0.036255</td>\n",
              "      <td>0.034789</td>\n",
              "      <td>0.032865</td>\n",
              "      <td>0.031924</td>\n",
              "      <td>1.143184</td>\n",
              "    </tr>\n",
              "    <tr>\n",
              "      <th>min</th>\n",
              "      <td>0.000000</td>\n",
              "      <td>0.000000</td>\n",
              "      <td>0.000000</td>\n",
              "      <td>0.000000</td>\n",
              "      <td>0.000000</td>\n",
              "      <td>0.000000</td>\n",
              "      <td>0.000000</td>\n",
              "      <td>0.000000</td>\n",
              "      <td>0.000000</td>\n",
              "      <td>0.000000</td>\n",
              "      <td>...</td>\n",
              "      <td>0.000000</td>\n",
              "      <td>0.000000</td>\n",
              "      <td>0.000000</td>\n",
              "      <td>0.000000</td>\n",
              "      <td>0.000000</td>\n",
              "      <td>0.000000</td>\n",
              "      <td>0.000000</td>\n",
              "      <td>0.000000</td>\n",
              "      <td>0.000000</td>\n",
              "      <td>0.000000</td>\n",
              "    </tr>\n",
              "    <tr>\n",
              "      <th>25%</th>\n",
              "      <td>0.921922</td>\n",
              "      <td>0.682486</td>\n",
              "      <td>0.250969</td>\n",
              "      <td>0.048458</td>\n",
              "      <td>0.082329</td>\n",
              "      <td>0.088416</td>\n",
              "      <td>0.073333</td>\n",
              "      <td>0.066116</td>\n",
              "      <td>0.065000</td>\n",
              "      <td>0.068639</td>\n",
              "      <td>...</td>\n",
              "      <td>0.000000</td>\n",
              "      <td>0.000000</td>\n",
              "      <td>0.000000</td>\n",
              "      <td>0.000000</td>\n",
              "      <td>0.000000</td>\n",
              "      <td>0.000000</td>\n",
              "      <td>0.000000</td>\n",
              "      <td>0.000000</td>\n",
              "      <td>0.000000</td>\n",
              "      <td>0.000000</td>\n",
              "    </tr>\n",
              "    <tr>\n",
              "      <th>50%</th>\n",
              "      <td>0.991342</td>\n",
              "      <td>0.826013</td>\n",
              "      <td>0.429472</td>\n",
              "      <td>0.166000</td>\n",
              "      <td>0.147878</td>\n",
              "      <td>0.158798</td>\n",
              "      <td>0.145324</td>\n",
              "      <td>0.144424</td>\n",
              "      <td>0.150000</td>\n",
              "      <td>0.148734</td>\n",
              "      <td>...</td>\n",
              "      <td>0.000000</td>\n",
              "      <td>0.000000</td>\n",
              "      <td>0.000000</td>\n",
              "      <td>0.000000</td>\n",
              "      <td>0.000000</td>\n",
              "      <td>0.000000</td>\n",
              "      <td>0.000000</td>\n",
              "      <td>0.000000</td>\n",
              "      <td>0.000000</td>\n",
              "      <td>0.000000</td>\n",
              "    </tr>\n",
              "    <tr>\n",
              "      <th>75%</th>\n",
              "      <td>1.000000</td>\n",
              "      <td>0.910506</td>\n",
              "      <td>0.578767</td>\n",
              "      <td>0.341727</td>\n",
              "      <td>0.258993</td>\n",
              "      <td>0.287628</td>\n",
              "      <td>0.298237</td>\n",
              "      <td>0.295391</td>\n",
              "      <td>0.290832</td>\n",
              "      <td>0.283636</td>\n",
              "      <td>...</td>\n",
              "      <td>0.000000</td>\n",
              "      <td>0.000000</td>\n",
              "      <td>0.000000</td>\n",
              "      <td>0.000000</td>\n",
              "      <td>0.000000</td>\n",
              "      <td>0.000000</td>\n",
              "      <td>0.000000</td>\n",
              "      <td>0.000000</td>\n",
              "      <td>0.000000</td>\n",
              "      <td>0.000000</td>\n",
              "    </tr>\n",
              "    <tr>\n",
              "      <th>max</th>\n",
              "      <td>1.000000</td>\n",
              "      <td>1.000000</td>\n",
              "      <td>1.000000</td>\n",
              "      <td>1.000000</td>\n",
              "      <td>1.000000</td>\n",
              "      <td>1.000000</td>\n",
              "      <td>1.000000</td>\n",
              "      <td>1.000000</td>\n",
              "      <td>1.000000</td>\n",
              "      <td>1.000000</td>\n",
              "      <td>...</td>\n",
              "      <td>1.000000</td>\n",
              "      <td>1.000000</td>\n",
              "      <td>1.000000</td>\n",
              "      <td>1.000000</td>\n",
              "      <td>1.000000</td>\n",
              "      <td>1.000000</td>\n",
              "      <td>1.000000</td>\n",
              "      <td>1.000000</td>\n",
              "      <td>1.000000</td>\n",
              "      <td>4.000000</td>\n",
              "    </tr>\n",
              "  </tbody>\n",
              "</table>\n",
              "<p>8 rows × 188 columns</p>\n",
              "</div>\n",
              "      <button class=\"colab-df-convert\" onclick=\"convertToInteractive('df-d2aeaf14-d557-4cc8-917c-d964e1b11785')\"\n",
              "              title=\"Convert this dataframe to an interactive table.\"\n",
              "              style=\"display:none;\">\n",
              "        \n",
              "  <svg xmlns=\"http://www.w3.org/2000/svg\" height=\"24px\"viewBox=\"0 0 24 24\"\n",
              "       width=\"24px\">\n",
              "    <path d=\"M0 0h24v24H0V0z\" fill=\"none\"/>\n",
              "    <path d=\"M18.56 5.44l.94 2.06.94-2.06 2.06-.94-2.06-.94-.94-2.06-.94 2.06-2.06.94zm-11 1L8.5 8.5l.94-2.06 2.06-.94-2.06-.94L8.5 2.5l-.94 2.06-2.06.94zm10 10l.94 2.06.94-2.06 2.06-.94-2.06-.94-.94-2.06-.94 2.06-2.06.94z\"/><path d=\"M17.41 7.96l-1.37-1.37c-.4-.4-.92-.59-1.43-.59-.52 0-1.04.2-1.43.59L10.3 9.45l-7.72 7.72c-.78.78-.78 2.05 0 2.83L4 21.41c.39.39.9.59 1.41.59.51 0 1.02-.2 1.41-.59l7.78-7.78 2.81-2.81c.8-.78.8-2.07 0-2.86zM5.41 20L4 18.59l7.72-7.72 1.47 1.35L5.41 20z\"/>\n",
              "  </svg>\n",
              "      </button>\n",
              "      \n",
              "  <style>\n",
              "    .colab-df-container {\n",
              "      display:flex;\n",
              "      flex-wrap:wrap;\n",
              "      gap: 12px;\n",
              "    }\n",
              "\n",
              "    .colab-df-convert {\n",
              "      background-color: #E8F0FE;\n",
              "      border: none;\n",
              "      border-radius: 50%;\n",
              "      cursor: pointer;\n",
              "      display: none;\n",
              "      fill: #1967D2;\n",
              "      height: 32px;\n",
              "      padding: 0 0 0 0;\n",
              "      width: 32px;\n",
              "    }\n",
              "\n",
              "    .colab-df-convert:hover {\n",
              "      background-color: #E2EBFA;\n",
              "      box-shadow: 0px 1px 2px rgba(60, 64, 67, 0.3), 0px 1px 3px 1px rgba(60, 64, 67, 0.15);\n",
              "      fill: #174EA6;\n",
              "    }\n",
              "\n",
              "    [theme=dark] .colab-df-convert {\n",
              "      background-color: #3B4455;\n",
              "      fill: #D2E3FC;\n",
              "    }\n",
              "\n",
              "    [theme=dark] .colab-df-convert:hover {\n",
              "      background-color: #434B5C;\n",
              "      box-shadow: 0px 1px 3px 1px rgba(0, 0, 0, 0.15);\n",
              "      filter: drop-shadow(0px 1px 2px rgba(0, 0, 0, 0.3));\n",
              "      fill: #FFFFFF;\n",
              "    }\n",
              "  </style>\n",
              "\n",
              "      <script>\n",
              "        const buttonEl =\n",
              "          document.querySelector('#df-d2aeaf14-d557-4cc8-917c-d964e1b11785 button.colab-df-convert');\n",
              "        buttonEl.style.display =\n",
              "          google.colab.kernel.accessAllowed ? 'block' : 'none';\n",
              "\n",
              "        async function convertToInteractive(key) {\n",
              "          const element = document.querySelector('#df-d2aeaf14-d557-4cc8-917c-d964e1b11785');\n",
              "          const dataTable =\n",
              "            await google.colab.kernel.invokeFunction('convertToInteractive',\n",
              "                                                     [key], {});\n",
              "          if (!dataTable) return;\n",
              "\n",
              "          const docLinkHtml = 'Like what you see? Visit the ' +\n",
              "            '<a target=\"_blank\" href=https://colab.research.google.com/notebooks/data_table.ipynb>data table notebook</a>'\n",
              "            + ' to learn more about interactive tables.';\n",
              "          element.innerHTML = '';\n",
              "          dataTable['output_type'] = 'display_data';\n",
              "          await google.colab.output.renderOutput(dataTable, element);\n",
              "          const docLink = document.createElement('div');\n",
              "          docLink.innerHTML = docLinkHtml;\n",
              "          element.appendChild(docLink);\n",
              "        }\n",
              "      </script>\n",
              "    </div>\n",
              "  </div>\n",
              "  "
            ]
          },
          "metadata": {},
          "execution_count": 33
        }
      ],
      "source": [
        "# step 4 - Distribución de los datos\n",
        "df.describe()\n",
        "\n",
        "# NOTAS: \n",
        "# La columna de las labels tiene max = 4 (0..4 etiquetas), std = 1.14, 0.25,0.5,0.75 = 0"
      ]
    },
    {
      "cell_type": "markdown",
      "metadata": {
        "id": "nVQ8315C9dCA"
      },
      "source": [
        "El rango para todas las columnas excepto para la ultima es de 0 .. 1 por lo que se trata de un dataset previamente normalizado.\n",
        "\n",
        "En el paper de referencia se lo siguiente en referencia a la unificación de datos de las dos fuentes:\n",
        "\n",
        ">The steps used for extracting beats from an ECG signal are as follows (see Fig. 1):\n",
        "> 1. Splitting the continuous ECG signal to 10s windows andselect a 10s window from an ECG signal.\n",
        "> 2. Normalizing the amplitude values to the range of between zero and one.\n",
        "> 3. Finding the set of all local maximums based on zero crossings of the first derivative.\n",
        "> 4. Finding the set of ECG R-peak candidates by applying a threshold of 0.9 on the normalized value of the local maximums.\n",
        "> 5. Finding the median of R-R time intervals as the nominal heartbeat period of that window (T ).\n",
        "> 6. For each R-peak, selecting a signal part with the length equal to 1.2T .\n",
        "> 7. Padding each selected part with zeros to make its length equal to a predefined fixed length.\n",
        "\n",
        "Es decir, del 'raw data' al que no tenemos acceso:\n",
        "- Se seleccionaron ''windows'' de 10s cada uno\n",
        "- Se normalizó y estandarizó el rango de los datos para que tuviesen la misma amplitud y duracción.\n",
        "\n",
        "Cada ECG Beat que tenemos es una ponderación de un ''window'' dado de 10s procedente de dos fuentes."
      ]
    },
    {
      "cell_type": "code",
      "execution_count": 34,
      "metadata": {
        "colab": {
          "base_uri": "https://localhost:8080/",
          "height": 54
        },
        "id": "50XGDJS5hJXp",
        "outputId": "06107608-b6df-413e-9f22-0a23ab0020a1",
        "scrolled": true
      },
      "outputs": [
        {
          "output_type": "display_data",
          "data": {
            "text/plain": [
              "<Figure size 864x288 with 1 Axes>"
            ],
            "image/png": "[encoded data removed]"
          },
          "metadata": {
            "needs_background": "light"
          }
        }
      ],
      "source": [
        "# step 5 - Cómo es cada uno de esos electrocardiogramas?\n",
        "\n",
        "f, ax = plt.subplots(figsize=(12,4))\n",
        "\n",
        "for _ in range(2, 100, 20):\n",
        "    df.iloc[_, :].plot.line(ax = ax)\n",
        "\n",
        "plt.show()"
      ]
    },
    {
      "cell_type": "markdown",
      "metadata": {
        "id": "hGRsUDc_hJXt"
      },
      "source": [
        "----\n",
        "<a name=\"section3\"></a>\n",
        "\n",
        "### preprocesamiento"
      ]
    },
    {
      "cell_type": "code",
      "execution_count": 35,
      "metadata": {
        "colab": {
          "base_uri": "https://localhost:8080/"
        },
        "id": "VfVdyFcfhJXu",
        "outputId": "b609a1b6-6925-409a-e93d-53c92284710b"
      },
      "outputs": [
        {
          "output_type": "stream",
          "name": "stdout",
          "text": [
            "(87554, 187)\n",
            "(87554,)\n"
          ]
        }
      ],
      "source": [
        "# step 1 - separación del frame en X (features) e y (labels)\n",
        "X, y = df.iloc[:, :-1], df.iloc[:, -1].astype(int)\n",
        "\n",
        "print(X.shape); print(y.shape)"
      ]
    },
    {
      "cell_type": "code",
      "execution_count": 36,
      "metadata": {
        "colab": {
          "base_uri": "https://localhost:8080/"
        },
        "id": "Be68Gpi2hJXx",
        "outputId": "3b63613d-fb71-445f-8d97-df51da0fd4dc"
      },
      "outputs": [
        {
          "output_type": "stream",
          "name": "stdout",
          "text": [
            "[0 1 2 3 4 5 6 7 8 9]\n",
            "[0, 1, 2, 3, 4, 5, 6, 7, 8, 9]\n"
          ]
        }
      ],
      "source": [
        "# step 2 - creamos arrays con los índices de los ejemplos que pertenecen a cada categoría.\n",
        "\n",
        "# opcion 1 - compatible con arrays\n",
        "index_by_k = list(map(lambda k: np.argwhere(y.values == k).flatten(), y.unique()))\n",
        "#index_by_k = list(map(lambda arr: np.reshape(arr, newshape=arr.size), index_by_k)) # esto se puede hacer conun faltten\n",
        "# arrays -> lista dcon sublistas\n",
        "# np.argwhere es en vertical mientras que np.where es en horizontal:\n",
        "\n",
        "#       np.argwhere > [[[0], [1]], \n",
        "#                     [[2], [3]]]\n",
        "#       np.where    > [([0, [], [2, 3],)]  # where is a tuple with (true_result, false_result)\n",
        "\n",
        "# opcion 2 . con pandas - no sirve con arrays\n",
        "index_by_label = list()\n",
        "\n",
        "for _ in y.unique():\n",
        "    index_by_label.append(df[df.iloc[:, -1] == _].index.tolist())\n",
        "\n",
        "# \n",
        "print(index_by_k[0][:10])\n",
        "print(index_by_label[0][:10])"
      ]
    },
    {
      "cell_type": "code",
      "execution_count": 37,
      "metadata": {
        "colab": {
          "base_uri": "https://localhost:8080/"
        },
        "id": "3lvyQIIBhJX0",
        "outputId": "8506990b-de94-450f-ac85-e7b9827e59f9",
        "scrolled": true
      },
      "outputs": [
        {
          "output_type": "execute_result",
          "data": {
            "text/plain": [
              "{0: 72471, 1: 2223, 2: 5788, 3: 641, 4: 6431}"
            ]
          },
          "metadata": {},
          "execution_count": 37
        }
      ],
      "source": [
        "# step 3 - contamos cuanto ejemplos tenemos en cada categoría:\n",
        "\n",
        "y.value_counts().sort_index().to_dict()"
      ]
    },
    {
      "cell_type": "markdown",
      "metadata": {
        "id": "RIYsvXDW9dCG"
      },
      "source": [
        "De la categoria 3 (fusión_contraccion_ventricular) tenemos sólo 641 (< 1%) por lo que va a ser muy dificil de predecir; nuestro target es sobre todo el 0 y el 4 (arritmia y resucitación, que son los mencionados en el paper), que tienen, en orde, un 82.75% y un 7.35% de representación sobre el total de las labels."
      ]
    },
    {
      "cell_type": "markdown",
      "metadata": {
        "id": "UBlbXOgBhJX3"
      },
      "source": [
        "----\n",
        "\n",
        "<a name=\"section4\"></a>\n",
        "\n",
        "### visualización de datos\n",
        "\n",
        "* Visualización del conteo \n",
        "* Rango de valores por cada electrocardiograma."
      ]
    },
    {
      "cell_type": "code",
      "execution_count": 38,
      "metadata": {
        "colab": {
          "base_uri": "https://localhost:8080/",
          "height": 54
        },
        "id": "q-AMnfX0hJX3",
        "outputId": "a18b4f33-1aa3-4ac8-b888-38aee5563c37"
      },
      "outputs": [
        {
          "output_type": "display_data",
          "data": {
            "text/plain": [
              "<Figure size 432x288 with 1 Axes>"
            ],
            "image/png": "[encoded data removed]"
          },
          "metadata": {
            "needs_background": "light"
          }
        }
      ],
      "source": [
        "f, ax = plt.subplots()\n",
        "ax = y.value_counts().sort_index().plot.barh(color = 'k')\n",
        "plt.show()"
      ]
    },
    {
      "cell_type": "code",
      "execution_count": 39,
      "metadata": {
        "colab": {
          "base_uri": "https://localhost:8080/",
          "height": 54
        },
        "id": "c5KjUhmHhJX9",
        "outputId": "cc438daa-51ca-4e97-d1f8-e6edb8349431"
      },
      "outputs": [
        {
          "output_type": "display_data",
          "data": {
            "text/plain": [
              "<Figure size 720x360 with 1 Axes>"
            ],
            "image/png": "[encoded data removed]"
          },
          "metadata": {
            "needs_background": "light"
          }
        }
      ],
      "source": [
        "# Comparamos gráficamente los electrocardiogramas, dibujando el valor medio para cada tipo y su rango de valores.\n",
        "\n",
        "f, ax = plt.subplots(figsize = (10,5))\n",
        "colors = ['k', 'm', 'g', 'b', 'c']\n",
        "\n",
        "for k in range(y.unique().size):\n",
        "    mean = X.iloc[X.index.isin(index_by_k[k]), :].mean()\n",
        "    stdev = X.iloc[X.index.isin(index_by_k[k]), :].std()\n",
        "\n",
        "    ax.plot(mean, color = colors[k], alpha = 0.9, label = label_names[k])\n",
        "    ax.fill_between(mean.index, mean-stdev, mean+stdev, color = colors[k], alpha = 0.1)\n",
        "    ax.legend()\n",
        "\n",
        "plt.title('Comparación Electrocardiogramas medios por categoria y bandas de desviación')\n",
        "plt.show()"
      ]
    },
    {
      "cell_type": "markdown",
      "metadata": {
        "id": "Id6hugrmhJYA"
      },
      "source": [
        "---\n",
        "<a name=\"section5\"></a>\n",
        "\n",
        "### preparacion de datos"
      ]
    },
    {
      "cell_type": "markdown",
      "metadata": {
        "id": "fAgikAoWhJYB"
      },
      "source": [
        "Existen varias formas de binarizar las labels: \n",
        "\n",
        "* OneHotEncoding: devuelve una matrix en la forma one-hot; funciona con multilabels.\n",
        "    * Se aplica en casos cuando las labels no son ordinales\n",
        "    * Los valores no son cercanos entre ellos (no lineales)\n",
        "    \n",
        "* LabelBinarizer / MultiLabelBInarizer: devuelve una matriz en la forma one-vs-all, toma cada input como una clase (no funciona con multilabels)\n",
        "    * En casos en que las labels sean ordinales (tengan un orden entre ellas)\n",
        "    * Cuando necesitemos asignar numeros cercanos para categorías similares.\n",
        "\n",
        "Estos casos funcionan bien cuando no tenemos muchas labels, si no, nos encontramos n el problema de una alta dimensionalidad; en estos casos:\n",
        "* LabelEncoder: devuelve un array; pero en los casos de que no haya ordinalidad, implica que el mean() del array es un valor no significativo."
      ]
    },
    {
      "cell_type": "code",
      "source": [
        "from sklearn.preprocessing import OneHotEncoder, LabelBinarizer\n",
        "from sklearn.utils import shuffle\n",
        "from sklearn.model_selection import train_test_split\n",
        "\n",
        "STATE = 42"
      ],
      "metadata": {
        "id": "h99uzVlo_h3F"
      },
      "execution_count": 40,
      "outputs": []
    },
    {
      "cell_type": "code",
      "execution_count": 41,
      "metadata": {
        "colab": {
          "base_uri": "https://localhost:8080/"
        },
        "id": "PA8ZKDYh9dCK",
        "outputId": "400c4cf9-f01f-49bb-b491-d39d0cf2bfa5"
      },
      "outputs": [
        {
          "output_type": "stream",
          "name": "stdout",
          "text": [
            "(1, 87554)\t(87554, 1)\n"
          ]
        }
      ],
      "source": [
        "# ------------ INTERLUDE -----------------------------\n",
        "# no conocías np.newaxis \n",
        "a = y.values[np.newaxis, :].shape\n",
        "b = y.values[:, np.newaxis].shape # == np.argwhere \n",
        "\n",
        "print(a, end='\\t'); print(b)"
      ]
    },
    {
      "cell_type": "code",
      "execution_count": 42,
      "metadata": {
        "colab": {
          "base_uri": "https://localhost:8080/"
        },
        "id": "qIDdzcpihJYB",
        "outputId": "7a66f43f-1e4c-4132-a494-0e800e494c31"
      },
      "outputs": [
        {
          "output_type": "stream",
          "name": "stdout",
          "text": [
            "['0' '1' '2' '3' '4']\n"
          ]
        }
      ],
      "source": [
        "# %%timeit\n",
        "\n",
        "# option 1 - OneHotENcoder     -  57.8 ms  ± 2.57 ms per loop (mean ± std. dev. of 7 runs, 10 loops each)\n",
        "# opcion 2- pd.get_dummies()   -  1.73 ms  ± 60.9 µs per loop (mean ± std. dev. of 7 runs, 1000 loops each)\n",
        "\n",
        "y = y.apply(lambda f: str(int(f))) \n",
        "\n",
        "enc = LabelBinarizer()\n",
        "\n",
        "y_bin = enc.fit_transform(y) # devuelve un tensor\n",
        "y_labels = enc.classes_\n",
        "\n",
        "print(y_labels) # devuelve un tensor"
      ]
    },
    {
      "cell_type": "code",
      "execution_count": 43,
      "metadata": {
        "colab": {
          "base_uri": "https://localhost:8080/"
        },
        "id": "8xvZ_kwbhJYE",
        "outputId": "ccd8cbc3-b6c2-4310-d72e-19b6a2793759"
      },
      "outputs": [
        {
          "output_type": "stream",
          "name": "stdout",
          "text": [
            "{'0': True, '1': True, '2': True, '3': True, '4': True}\n"
          ]
        }
      ],
      "source": [
        "# Una vez que tenemos la binarización de y\n",
        "# Hacemos un chequeo entre categorías:\n",
        "\n",
        "is_unique = {l: (np.where(y_bin.T[i] == 1)[0] == index_by_k[i]).all() \n",
        "            for i, l in enumerate(y_labels)}\n",
        "\n",
        "print(is_unique)"
      ]
    },
    {
      "cell_type": "code",
      "execution_count": 44,
      "metadata": {
        "colab": {
          "base_uri": "https://localhost:8080/"
        },
        "id": "wRTKVvZ_9dCM",
        "outputId": "697a4318-3ebb-40d6-e75b-cac7f5d6e771"
      },
      "outputs": [
        {
          "output_type": "stream",
          "name": "stdout",
          "text": [
            "(87554,)\t(87554, 5)\t<class 'numpy.ndarray'>\n"
          ]
        }
      ],
      "source": [
        "print(y.shape, end = '\\t'); print(y_bin.shape, end = '\\t'); print(type(y_bin))"
      ]
    },
    {
      "cell_type": "code",
      "execution_count": 45,
      "metadata": {
        "id": "1AWwJCX7hJYH"
      },
      "outputs": [],
      "source": [
        "# Randomizamos los frame de entrenamiento y target\n",
        "\n",
        "X_shuffle, y_shuffle = shuffle(X, y_bin, random_state=STATE)"
      ]
    },
    {
      "cell_type": "markdown",
      "metadata": {
        "id": "T721f2zthJYQ"
      },
      "source": [
        "Para poder introducir los datos en el modelo, necesitamos que cada punto de información esté solo dentro del array (no podemos dar un array como valor). \n",
        "\n",
        "Antes teníamos los datos estructurados así:\n",
        "\n",
        "> $ X = [[a_1,a_2,a_3...,a_n],[b_1,b_2,b_3...,b_n]...[z_1,z_2,z_3,z_n]] $\n",
        "\n",
        "Para poder usarlos necesitamos aislar cada uno de esos valores, sin eliminar su agrupación por ejemplos. Es decir:\n",
        "\n",
        "> $ X = [[[a_1],[a_2],[a_3]...,[a_n]],[[b_1],[b_2],[b_3]...,[b_n]]...[[z_1],[z_2],[z_3],[z_n]] $"
      ]
    },
    {
      "cell_type": "code",
      "execution_count": 46,
      "metadata": {
        "id": "ITtKUKQhhJYR"
      },
      "outputs": [],
      "source": [
        "#%%timeit\n",
        "# matrix X : \n",
        "# [   [row_1]  # size = 187 (n_cols)  \n",
        "#     [row_2]  # size = 187 (n_cols)    \n",
        "# ]   -------  # size = 16372598 (n_rows)\n",
        "Xc = np.expand_dims(X_shuffle, axis = 2)\n",
        "# 3.38 µs ± 104 ns per loop (mean ± std. dev. of 7 runs, 100000 loops each)"
      ]
    },
    {
      "cell_type": "code",
      "execution_count": 47,
      "metadata": {
        "colab": {
          "base_uri": "https://localhost:8080/"
        },
        "id": "HnYZsmEB9dCN",
        "outputId": "5309f678-7733-4250-d012-1a2530ababa0"
      },
      "outputs": [
        {
          "output_type": "stream",
          "name": "stdout",
          "text": [
            "(87554, 187, 1)\n",
            "(87554, 5)\n",
            "<class 'numpy.ndarray'>\n",
            "<class 'numpy.ndarray'>\n"
          ]
        }
      ],
      "source": [
        "X_shuffle = Xc\n",
        "print(X_shuffle.shape); print(y_shuffle.shape)\n",
        "print(type(X_shuffle)); print(type(y_shuffle))"
      ]
    },
    {
      "cell_type": "markdown",
      "metadata": {
        "id": "-giOiqiYhJYT"
      },
      "source": [
        "Una vez que hemos hecho todo, hacemos un train_test_split()"
      ]
    },
    {
      "cell_type": "code",
      "execution_count": 137,
      "metadata": {
        "id": "js6uqn4BhJYU"
      },
      "outputs": [],
      "source": [
        "X_train, X_test, y_train, y_test = train_test_split(\n",
        "    X_shuffle, y_shuffle, \n",
        "    test_size = .2, \n",
        "    random_state = STATE\n",
        ")\n",
        "\n",
        "X_train, X_validation, y_train, y_validation = train_test_split(\n",
        "    X_train, y_train, \n",
        "    test_size = .2, \n",
        "    random_state = STATE\n",
        ")"
      ]
    },
    {
      "cell_type": "markdown",
      "metadata": {
        "id": "S2OXup6RhJYW"
      },
      "source": [
        "----\n",
        "<a name=\"section6\"></a>\n",
        "\n",
        "###  definición de modelo y entrenamiento"
      ]
    },
    {
      "cell_type": "markdown",
      "metadata": {
        "id": "ye1mPrYohJYW"
      },
      "source": [
        "En el paper, pg.4, se plantea un modelo de CNN basado en 5 capas convolucionales que copiamos a continuación:"
      ]
    },
    {
      "cell_type": "code",
      "execution_count": 49,
      "metadata": {
        "id": "h7zqDfcAhJYX"
      },
      "outputs": [],
      "source": [
        "import keras\n",
        "\n",
        "# layers used for CNN\n",
        "from keras.layers import Dense, Dropout, Activation, Flatten, Conv1D, MaxPooling1D, BatchNormalization, Input\n",
        "from keras.models import Sequential, Model\n",
        "from keras.metrics import Accuracy, Recall, Precision\n",
        "from tensorflow.keras.optimizers import RMSprop, Adam, Adagrad, Adadelta, RMSprop\n",
        "from tensorflow.keras.losses import CategoricalCrossentropy\n",
        "\n",
        "from keras.callbacks import ReduceLROnPlateau, ModelCheckpoint, EarlyStopping\n",
        "\n",
        "# metrix\n",
        "from sklearn.utils import class_weight\n",
        "from sklearn.metrics import confusion_matrix, accuracy_score, classification_report, confusion_matrix, label_ranking_average_precision_score, label_ranking_loss, coverage_error "
      ]
    },
    {
      "cell_type": "code",
      "execution_count": 112,
      "metadata": {
        "id": "_2t48inzhJYa"
      },
      "outputs": [],
      "source": [
        "signal_length = X_shuffle.shape[1]  # cada pulsación se compone de 187 señales --> longitud de la capa de entrada\n",
        "n_classes =     y_labels.size       # y_labels es un range(0,5) obtenido en MultiLabelBinarizer() --> longitud de la capa final\n",
        "batch_size =    192                 # p.e."
      ]
    },
    {
      "cell_type": "markdown",
      "metadata": {
        "id": "9W8F-CVJhJYd"
      },
      "source": [
        "Siguiendo la arquitectura mencionada en el paper definimos una red neuronal con:\n",
        "* 5 capas ocultas convolucionales de una dimension, con 32 neuronal y un kernel_size de 5.\n",
        "> NOTA: se definen dos convolucionales con una activación en medio de relu y sin dropout, en vez de eso se mete un stride = 2; no se puede implementar la arquitectura mencionada por error de dimensión negativa\n",
        "* Como layers vistas hay:\n",
        "    * De entrada una Conv1D de 32 neuronas\n",
        "    * De salida, 2 fully-connected de 32 neuronas con activación sigmoide y softmax"
      ]
    },
    {
      "cell_type": "code",
      "execution_count": 120,
      "metadata": {
        "id": "VBc_yhfThJYe"
      },
      "outputs": [],
      "source": [
        "from keras import models\n",
        "# -------------- MODEL ARCHITECTURE\n",
        "# NOTE: Followed paper as much as possible\n",
        "# API type. Sequential\n",
        "\n",
        "\n",
        "def add_conv(i:int):\n",
        "  \"\"\" Deep conv architecture; it is not exactly the architecture from the paper, but works fine:\n",
        "      Paper: conv1D -> relu -> conv1D -> + -> relu -> pool1D\n",
        "  \"\"\"\n",
        "  name = f'conv_layer_{i}'\n",
        "  conv_layer = Sequential(\n",
        "      [\n",
        "        Conv1D(32, (4)),\n",
        "        BatchNormalization(),\n",
        "        Activation('relu'),\n",
        "        MaxPooling1D(pool_size=(2))\n",
        "      ], name=name\n",
        "  )\n",
        "  return conv_layer\n",
        "\n",
        "\n",
        "def add_input_layer():\n",
        "  \"\"\" Architecture for the first later in the model as given in the paper:\n",
        "          conv1d -> relu\n",
        "  \"\"\"\n",
        "  \n",
        "  name = 'initial_layer'\n",
        "\n",
        "  ini_layer = Sequential(\n",
        "      [\n",
        "          Conv1D(32, kernel_size=(5)),\n",
        "          Dropout(0.15),\n",
        "          BatchNormalization(), \n",
        "          Activation('relu'), \n",
        "      ], name=name\n",
        "  )\n",
        "  return ini_layer\n",
        "\n",
        "\n",
        "def add_output_layer():\n",
        "  \"\"\" Architecture for the last layer as given in the paper\n",
        "          FullyConnected -> ReLu -> Dense -> Softmax\n",
        "  \"\"\"\n",
        "\n",
        "  name = 'output_layer'\n",
        "\n",
        "  output_layer = Sequential(\n",
        "      [\n",
        "        Dense(48, activation='relu'),\n",
        "        Dropout(0.3),\n",
        "        Dense(n_classes, activation='softmax'),\n",
        "      ], name=name\n",
        "  )\n",
        "  return output_layer\n",
        "\n",
        "\n",
        "def get_model(signal_length:int=signal_length, n_classes:int=n_classes):\n",
        "  \"\"\" Full architecture of the CNN following the top layer\n",
        "  \"\"\"\n",
        "  model = Sequential()\n",
        "  model.add(Input(shape = (signal_length, 1)))\n",
        "\n",
        "  model.add(add_input_layer())\n",
        "\n",
        "  for i in range(1,6):\n",
        "    model.add(add_conv(i))\n",
        "  \n",
        "  model.add(Flatten())\n",
        "  model.add(add_output_layer())\n",
        "\n",
        "  return model\n"
      ]
    },
    {
      "cell_type": "code",
      "execution_count": 138,
      "metadata": {
        "colab": {
          "base_uri": "https://localhost:8080/"
        },
        "id": "C1h6xB7O9dCT",
        "outputId": "13a6d953-2cbc-41e0-d0b2-25c978afa9e9"
      },
      "outputs": [
        {
          "output_type": "stream",
          "name": "stdout",
          "text": [
            "Model: \"sequential_15\"\n",
            "_________________________________________________________________\n",
            " Layer (type)                Output Shape              Param #   \n",
            "=================================================================\n",
            " initial_layer (Sequential)  (None, 183, 32)           320       \n",
            "                                                                 \n",
            " conv_layer_1 (Sequential)   (None, 90, 32)            4256      \n",
            "                                                                 \n",
            " conv_layer_2 (Sequential)   (None, 43, 32)            4256      \n",
            "                                                                 \n",
            " conv_layer_3 (Sequential)   (None, 20, 32)            4256      \n",
            "                                                                 \n",
            " conv_layer_4 (Sequential)   (None, 8, 32)             4256      \n",
            "                                                                 \n",
            " conv_layer_5 (Sequential)   (None, 2, 32)             4256      \n",
            "                                                                 \n",
            " flatten_15 (Flatten)        (None, 64)                0         \n",
            "                                                                 \n",
            " output_layer (Sequential)   (None, 5)                 3365      \n",
            "                                                                 \n",
            "=================================================================\n",
            "Total params: 24,965\n",
            "Trainable params: 24,581\n",
            "Non-trainable params: 384\n",
            "_________________________________________________________________\n"
          ]
        }
      ],
      "source": [
        "model = get_model()\n",
        "loss  = CategoricalCrossentropy() # probabilistic loss\n",
        "optimizer = Adam(    \n",
        "    learning_rate=0.0005,\n",
        "    beta_1=0.9,\n",
        "    beta_2=0.999)  # Paper: 0.001, 0.9, and 0.999\n",
        "\n",
        "model.summary()\n",
        "model.compile(\n",
        "    loss = loss, \n",
        "    optimizer = optimizer,\n",
        "    metrics = ['accuracy']\n",
        ")"
      ]
    },
    {
      "cell_type": "code",
      "execution_count": 139,
      "metadata": {
        "colab": {
          "base_uri": "https://localhost:8080/"
        },
        "id": "-mf7fDdchJYi",
        "outputId": "c0f101c7-df84-4584-cdba-d7eb2ba3a1ae"
      },
      "outputs": [
        {
          "metadata": {
            "tags": null
          },
          "name": "stdout",
          "output_type": "stream",
          "text": [
            "Epoch 1/50\n",
            "438/438 [==============================] - ETA: 0s - loss: 0.4175 - accuracy: 0.8730INFO:tensorflow:Assets written to: /content/drive/MyDrive/satAI/week_01/practice/model/assets\n",
            "438/438 [==============================] - 22s 45ms/step - loss: 0.4175 - accuracy: 0.8730 - val_loss: 0.6565 - val_accuracy: 0.8328 - lr: 5.0000e-04\n",
            "Epoch 2/50\n",
            "436/438 [============================>.] - ETA: 0s - loss: 0.2009 - accuracy: 0.9457INFO:tensorflow:Assets written to: /content/drive/MyDrive/satAI/week_01/practice/model/assets\n",
            "438/438 [==============================] - 19s 44ms/step - loss: 0.2009 - accuracy: 0.9458 - val_loss: 0.1523 - val_accuracy: 0.9563 - lr: 5.0000e-04\n",
            "Epoch 3/50\n",
            "438/438 [==============================] - ETA: 0s - loss: 0.1487 - accuracy: 0.9604INFO:tensorflow:Assets written to: /content/drive/MyDrive/satAI/week_01/practice/model/assets\n",
            "438/438 [==============================] - 18s 40ms/step - loss: 0.1487 - accuracy: 0.9604 - val_loss: 0.1211 - val_accuracy: 0.9663 - lr: 5.0000e-04\n",
            "Epoch 4/50\n",
            "437/438 [============================>.] - ETA: 0s - loss: 0.1233 - accuracy: 0.9677INFO:tensorflow:Assets written to: /content/drive/MyDrive/satAI/week_01/practice/model/assets\n",
            "438/438 [==============================] - 15s 34ms/step - loss: 0.1231 - accuracy: 0.9678 - val_loss: 0.0994 - val_accuracy: 0.9722 - lr: 5.0000e-04\n",
            "Epoch 5/50\n",
            "436/438 [============================>.] - ETA: 0s - loss: 0.1068 - accuracy: 0.9713INFO:tensorflow:Assets written to: /content/drive/MyDrive/satAI/week_01/practice/model/assets\n",
            "438/438 [==============================] - 15s 33ms/step - loss: 0.1068 - accuracy: 0.9712 - val_loss: 0.0966 - val_accuracy: 0.9726 - lr: 5.0000e-04\n",
            "Epoch 6/50\n",
            "437/438 [============================>.] - ETA: 0s - loss: 0.0951 - accuracy: 0.9738INFO:tensorflow:Assets written to: /content/drive/MyDrive/satAI/week_01/practice/model/assets\n",
            "438/438 [==============================] - 18s 42ms/step - loss: 0.0950 - accuracy: 0.9738 - val_loss: 0.0936 - val_accuracy: 0.9741 - lr: 5.0000e-04\n",
            "Epoch 7/50\n",
            "437/438 [============================>.] - ETA: 0s - loss: 0.0855 - accuracy: 0.9758INFO:tensorflow:Assets written to: /content/drive/MyDrive/satAI/week_01/practice/model/assets\n",
            "438/438 [==============================] - 15s 34ms/step - loss: 0.0854 - accuracy: 0.9758 - val_loss: 0.0841 - val_accuracy: 0.9776 - lr: 5.0000e-04\n",
            "Epoch 8/50\n",
            "438/438 [==============================] - ETA: 0s - loss: 0.0791 - accuracy: 0.9777INFO:tensorflow:Assets written to: /content/drive/MyDrive/satAI/week_01/practice/model/assets\n",
            "438/438 [==============================] - 20s 47ms/step - loss: 0.0791 - accuracy: 0.9777 - val_loss: 0.0755 - val_accuracy: 0.9793 - lr: 5.0000e-04\n",
            "Epoch 9/50\n",
            "438/438 [==============================] - 8s 19ms/step - loss: 0.0731 - accuracy: 0.9791 - val_loss: 0.0773 - val_accuracy: 0.9782 - lr: 5.0000e-04\n",
            "Epoch 10/50\n",
            "437/438 [============================>.] - ETA: 0s - loss: 0.0673 - accuracy: 0.9807INFO:tensorflow:Assets written to: /content/drive/MyDrive/satAI/week_01/practice/model/assets\n",
            "438/438 [==============================] - 15s 34ms/step - loss: 0.0672 - accuracy: 0.9807 - val_loss: 0.0743 - val_accuracy: 0.9801 - lr: 5.0000e-04\n",
            "Epoch 11/50\n",
            "438/438 [==============================] - 8s 19ms/step - loss: 0.0619 - accuracy: 0.9822 - val_loss: 0.0803 - val_accuracy: 0.9771 - lr: 5.0000e-04\n",
            "Epoch 12/50\n",
            "435/438 [============================>.] - ETA: 0s - loss: 0.0599 - accuracy: 0.9828INFO:tensorflow:Assets written to: /content/drive/MyDrive/satAI/week_01/practice/model/assets\n",
            "438/438 [==============================] - 15s 33ms/step - loss: 0.0598 - accuracy: 0.9829 - val_loss: 0.0655 - val_accuracy: 0.9818 - lr: 5.0000e-04\n",
            "Epoch 13/50\n",
            "438/438 [==============================] - 8s 18ms/step - loss: 0.0578 - accuracy: 0.9834 - val_loss: 0.0830 - val_accuracy: 0.9755 - lr: 5.0000e-04\n",
            "Epoch 14/50\n",
            "438/438 [==============================] - 8s 18ms/step - loss: 0.0534 - accuracy: 0.9843 - val_loss: 0.0688 - val_accuracy: 0.9800 - lr: 5.0000e-04\n",
            "Epoch 15/50\n",
            "438/438 [==============================] - 8s 17ms/step - loss: 0.0519 - accuracy: 0.9848 - val_loss: 0.0675 - val_accuracy: 0.9809 - lr: 5.0000e-04\n",
            "Epoch 16/50\n",
            "438/438 [==============================] - 8s 19ms/step - loss: 0.0503 - accuracy: 0.9849 - val_loss: 0.0667 - val_accuracy: 0.9811 - lr: 5.0000e-04\n",
            "Epoch 17/50\n",
            "438/438 [==============================] - 8s 19ms/step - loss: 0.0459 - accuracy: 0.9865 - val_loss: 0.0639 - val_accuracy: 0.9816 - lr: 5.0000e-04\n",
            "Epoch 18/50\n",
            "435/438 [============================>.] - ETA: 0s - loss: 0.0379 - accuracy: 0.9885INFO:tensorflow:Assets written to: /content/drive/MyDrive/satAI/week_01/practice/model/assets\n",
            "438/438 [==============================] - 15s 35ms/step - loss: 0.0381 - accuracy: 0.9885 - val_loss: 0.0569 - val_accuracy: 0.9845 - lr: 5.0000e-05\n",
            "Epoch 19/50\n",
            "438/438 [==============================] - 8s 18ms/step - loss: 0.0357 - accuracy: 0.9890 - val_loss: 0.0568 - val_accuracy: 0.9844 - lr: 5.0000e-05\n",
            "Epoch 20/50\n",
            "437/438 [============================>.] - ETA: 0s - loss: 0.0337 - accuracy: 0.9895INFO:tensorflow:Assets written to: /content/drive/MyDrive/satAI/week_01/practice/model/assets\n",
            "438/438 [==============================] - 14s 32ms/step - loss: 0.0337 - accuracy: 0.9896 - val_loss: 0.0587 - val_accuracy: 0.9846 - lr: 5.0000e-05\n",
            "Epoch 21/50\n",
            "438/438 [==============================] - 8s 19ms/step - loss: 0.0329 - accuracy: 0.9901 - val_loss: 0.0576 - val_accuracy: 0.9842 - lr: 5.0000e-05\n",
            "Epoch 22/50\n",
            "438/438 [==============================] - 9s 20ms/step - loss: 0.0320 - accuracy: 0.9903 - val_loss: 0.0577 - val_accuracy: 0.9846 - lr: 5.0000e-05\n",
            "Epoch 23/50\n",
            "438/438 [==============================] - 8s 18ms/step - loss: 0.0321 - accuracy: 0.9903 - val_loss: 0.0588 - val_accuracy: 0.9844 - lr: 5.0000e-05\n",
            "Epoch 24/50\n",
            "438/438 [==============================] - 8s 18ms/step - loss: 0.0310 - accuracy: 0.9909 - val_loss: 0.0577 - val_accuracy: 0.9845 - lr: 5.0000e-05\n",
            "Epoch 25/50\n",
            "438/438 [==============================] - 8s 18ms/step - loss: 0.0319 - accuracy: 0.9902 - val_loss: 0.0583 - val_accuracy: 0.9842 - lr: 5.0000e-05\n",
            "Epoch 26/50\n",
            "438/438 [==============================] - 8s 19ms/step - loss: 0.0301 - accuracy: 0.9909 - val_loss: 0.0582 - val_accuracy: 0.9844 - lr: 5.0000e-06\n",
            "Epoch 27/50\n",
            "438/438 [==============================] - 8s 17ms/step - loss: 0.0299 - accuracy: 0.9904 - val_loss: 0.0582 - val_accuracy: 0.9844 - lr: 5.0000e-06\n",
            "Epoch 28/50\n",
            "438/438 [==============================] - 8s 17ms/step - loss: 0.0292 - accuracy: 0.9913 - val_loss: 0.0582 - val_accuracy: 0.9846 - lr: 5.0000e-06\n",
            "Epoch 29/50\n",
            "437/438 [============================>.] - ETA: 0s - loss: 0.0289 - accuracy: 0.9910INFO:tensorflow:Assets written to: /content/drive/MyDrive/satAI/week_01/practice/model/assets\n",
            "438/438 [==============================] - 14s 33ms/step - loss: 0.0289 - accuracy: 0.9910 - val_loss: 0.0582 - val_accuracy: 0.9848 - lr: 5.0000e-06\n"
          ]
        }
      ],
      "source": [
        "callbacks = [\n",
        "    EarlyStopping(\n",
        "        monitor=\"val_loss\",\n",
        "        patience=10\n",
        "    ),\n",
        "    ReduceLROnPlateau(\n",
        "        monitor=\"val_accuracy\",\n",
        "        factor=0.1,\n",
        "        patience=5\n",
        "    ),\n",
        "    ModelCheckpoint(\n",
        "        \"/content/drive/MyDrive/satAI/week_01/practice/model/\",\n",
        "        monitor=\"val_accuracy\",\n",
        "        verbose=0,\n",
        "        save_best_only=True,\n",
        "        save_weights_only=False,\n",
        "        mode=\"max\"\n",
        "    )\n",
        "]\n",
        "\n",
        "# \n",
        "history = model.fit(\n",
        "    X_train, y_train,\n",
        "    validation_data=(X_test, y_test),\n",
        "    epochs=50, \n",
        "    batch_size=batch_size, \n",
        "    verbose=1,\n",
        "    callbacks = callbacks\n",
        ")"
      ]
    },
    {
      "cell_type": "markdown",
      "metadata": {
        "id": "xzB3t9CYhJYo"
      },
      "source": [
        "----\n",
        "<a name=\"section7\"></a>\n",
        "\n",
        "### evaluación del modelo"
      ]
    },
    {
      "cell_type": "code",
      "execution_count": 117,
      "metadata": {
        "colab": {
          "base_uri": "https://localhost:8080/",
          "height": 34
        },
        "id": "aWds4b6ChJYl",
        "outputId": "dd93213c-2d38-48ce-91a1-06bc8ae97cb5"
      },
      "outputs": [
        {
          "output_type": "display_data",
          "data": {
            "text/plain": [
              "dict_keys(['loss', 'accuracy', 'val_loss', 'val_accuracy', 'lr'])"
            ]
          },
          "metadata": {}
        }
      ],
      "source": [
        "display(history.history.keys()) # aqui se ve que tiene el modelo"
      ]
    },
    {
      "cell_type": "code",
      "source": [
        "get_cols_by_str = lambda s, df: df.columns[df.columns.str.contains(s)]"
      ],
      "metadata": {
        "id": "cQMrFQjBwXxL"
      },
      "execution_count": 118,
      "outputs": []
    },
    {
      "cell_type": "code",
      "source": [
        "metrics = pd.DataFrame(history.history)\n",
        "\n",
        "##############################\n",
        "plot_args = {\n",
        "    'color': ['blue','red'],\n",
        "    'grid' : True,\n",
        "    'xlabel': 'Epochs'\n",
        "}\n",
        "\n",
        "f, ax = plt.subplots(ncols = 3, figsize = (25,5))\n",
        "\n",
        "metrics[get_cols_by_str(s='loss', df=metrics)].plot.line(ax = ax[1], title='Loss for train and test by Epoch', **plot_args)\n",
        "metrics[get_cols_by_str(s='loss', df=metrics)].apply(np.log).plot.line(ax = ax[2], title='Log Loss for train and test by Epoch', **plot_args)\n",
        "metrics[get_cols_by_str(s='accu', df=metrics)].plot.line(ax = ax[0], title='Accuracy for train and test by Epoch', **plot_args)\n",
        "\n",
        "plt.show()"
      ],
      "metadata": {
        "colab": {
          "base_uri": "https://localhost:8080/",
          "height": 318
        },
        "id": "AXkfawUNoas3",
        "outputId": "52b111e0-9001-4f12-c5bb-59a0017d0b02"
      },
      "execution_count": 145,
      "outputs": [
        {
          "output_type": "display_data",
          "data": {
            "text/plain": [
              "<Figure size 1800x360 with 3 Axes>"
            ],
            "image/png": "[encoded data removed]"
          },
          "metadata": {
            "needs_background": "light"
          }
        }
      ]
    },
    {
      "cell_type": "markdown",
      "source": [
        "Notas:\n",
        "* Las primeras tiradas, parece que tener tanto Dropout hace que el modelo no termine de aprender en todo su potencial\n",
        "* La aproximación realizada de la arquitectura propuesta evita el overfitting pues val_loss < loss y accuracy < val_accuracy\n",
        "* Quitando todos los dropout del modelo empieza en un accuracy del +90%\n",
        "* Con dropouts de 15% y 30% en diferentes las convolucionales y la densa, respectivamente, se obtiene métricas aceptables."
      ],
      "metadata": {
        "id": "W16xuJ5QuC-z"
      }
    },
    {
      "cell_type": "code",
      "source": [
        "def save_model(model):\n",
        "    \"\"\"Save the results of a model.\"\"\"\n",
        "    from datetime import datetime\n",
        "    \n",
        "    id = datetime.now().strftime(\"%Y-%m-%dT%H:%M:%S\")\n",
        "    model.save(f\"huff_model_{id}.h5\")"
      ],
      "metadata": {
        "id": "1aUq-v-u4qeB"
      },
      "execution_count": 126,
      "outputs": []
    },
    {
      "cell_type": "code",
      "source": [
        "save_model(model)"
      ],
      "metadata": {
        "id": "2GJtglrc5LbZ"
      },
      "execution_count": 146,
      "outputs": []
    },
    {
      "cell_type": "markdown",
      "metadata": {
        "id": "YFu3wMNZhJYv"
      },
      "source": [
        "----\n",
        "<a name='#section8'></a>\n",
        "\n",
        "### predict with test and validation\n"
      ]
    },
    {
      "cell_type": "code",
      "execution_count": 147,
      "metadata": {
        "id": "vd1FIayQhJYw"
      },
      "outputs": [],
      "source": [
        "y_test_pred = model.predict(X_test)\n",
        "y_val_pred = model.predict(X_validation)"
      ]
    },
    {
      "cell_type": "code",
      "source": [
        "model.evaluate(X_test, y_test)"
      ],
      "metadata": {
        "colab": {
          "base_uri": "https://localhost:8080/"
        },
        "id": "cGcGdcLU54YI",
        "outputId": "53093fc8-8804-4c80-c044-8dde7bd63473"
      },
      "execution_count": 148,
      "outputs": [
        {
          "output_type": "stream",
          "name": "stdout",
          "text": [
            "548/548 [==============================] - 5s 8ms/step - loss: 0.0582 - accuracy: 0.9848\n"
          ]
        },
        {
          "output_type": "execute_result",
          "data": {
            "text/plain": [
              "[0.05818129703402519, 0.9847524166107178]"
            ]
          },
          "metadata": {},
          "execution_count": 148
        }
      ]
    },
    {
      "cell_type": "code",
      "source": [
        "model.evaluate(X_validation, y_validation)"
      ],
      "metadata": {
        "colab": {
          "base_uri": "https://localhost:8080/"
        },
        "id": "O-oORjfq5-yG",
        "outputId": "ff4c0035-0a36-4de5-ae65-e4db4e69364d"
      },
      "execution_count": 149,
      "outputs": [
        {
          "output_type": "stream",
          "name": "stdout",
          "text": [
            "438/438 [==============================] - 2s 5ms/step - loss: 0.0597 - accuracy: 0.9834\n"
          ]
        },
        {
          "output_type": "execute_result",
          "data": {
            "text/plain": [
              "[0.05969390273094177, 0.9833678603172302]"
            ]
          },
          "metadata": {},
          "execution_count": 149
        }
      ]
    },
    {
      "cell_type": "code",
      "execution_count": 151,
      "metadata": {
        "colab": {
          "base_uri": "https://localhost:8080/"
        },
        "id": "6M4DrqzZhJYz",
        "outputId": "ca626521-cbbd-4786-e0a3-5061a9a5e97a"
      },
      "outputs": [
        {
          "output_type": "stream",
          "name": "stdout",
          "text": [
            "(17511, 5)\n",
            "(14009, 5)\n"
          ]
        }
      ],
      "source": [
        "print(y_test_pred.shape)\n",
        "print(y_val_pred.shape)"
      ]
    },
    {
      "cell_type": "markdown",
      "metadata": {
        "id": "BBuCsReShJY2"
      },
      "source": [
        "Vamos a comprar `y_test_pred` de `y_test_true`"
      ]
    },
    {
      "cell_type": "code",
      "source": [
        "df_test_pred = pd.DataFrame(y_test_pred)\n",
        "df_test_true = pd.DataFrame(y_test)"
      ],
      "metadata": {
        "id": "c3onGdHsAPLx"
      },
      "execution_count": 221,
      "outputs": []
    },
    {
      "cell_type": "code",
      "source": [
        "import seaborn as sns \n",
        "f, ax = plt.subplots(nrows = 1, ncols = n_classes, figsize = (35,3))\n",
        "\n",
        "for i in range(0, n_classes):\n",
        "  sns.kdeplot(df_test_pred[i], color = 'blue', ax = ax[i])\n",
        "  sns.kdeplot(df_test_true[i], color = 'red', ax = ax[i])\n",
        "\n",
        "plt.show()"
      ],
      "metadata": {
        "colab": {
          "base_uri": "https://localhost:8080/",
          "height": 153
        },
        "id": "ROrNI1gyAlZz",
        "outputId": "2fad6041-70cd-4bd2-8e8d-4e4c10225c3f"
      },
      "execution_count": 194,
      "outputs": [
        {
          "output_type": "display_data",
          "data": {
            "text/plain": [
              "<Figure size 2520x216 with 5 Axes>"
            ],
            "image/png": "[encoded data removed]"
          },
          "metadata": {
            "needs_background": "light"
          }
        }
      ]
    },
    {
      "cell_type": "markdown",
      "metadata": {
        "id": "eoQVwwFhhJY5"
      },
      "source": [
        "classification_report genera un report del modelo:"
      ]
    },
    {
      "cell_type": "code",
      "source": [
        "print(classification_report(y_validation.argmax(axis=1), y_val_pred.argmax(axis=1)))"
      ],
      "metadata": {
        "colab": {
          "base_uri": "https://localhost:8080/"
        },
        "id": "Fy8SQuSsFaFq",
        "outputId": "f7c6ac50-cb75-4c3e-e5be-48d4cd87e7e4"
      },
      "execution_count": 220,
      "outputs": [
        {
          "output_type": "stream",
          "name": "stdout",
          "text": [
            "              precision    recall  f1-score   support\n",
            "\n",
            "           0       0.99      0.99      0.99     11606\n",
            "           1       0.90      0.78      0.84       339\n",
            "           2       0.95      0.96      0.95       921\n",
            "           3       0.91      0.66      0.77       104\n",
            "           4       0.99      0.98      0.98      1039\n",
            "\n",
            "    accuracy                           0.98     14009\n",
            "   macro avg       0.95      0.88      0.91     14009\n",
            "weighted avg       0.98      0.98      0.98     14009\n",
            "\n"
          ]
        }
      ]
    },
    {
      "cell_type": "code",
      "execution_count": 222,
      "metadata": {
        "id": "O3E_a95ihJY8"
      },
      "outputs": [],
      "source": [
        "from itertools import product\n",
        "\n",
        "def plot_confusion_matrix(cm, classes,\n",
        "                          normalize=True,\n",
        "                          title='Confusion matrix',\n",
        "                          cmap=plt.cm.Blues):\n",
        "    \"\"\"\n",
        "    This function prints and plots the confusion matrix.\n",
        "    Normalization can be applied by setting `normalize=True`.\n",
        "    \"\"\"\n",
        "    title = 'Confusion matrix, without normalization'\n",
        "\n",
        "    if normalize:\n",
        "        cm = cm.astype('float') / cm.sum(axis=1)[:, np.newaxis]\n",
        "        title = 'Confusion matrix, with normalization'\n",
        "\n",
        "\n",
        "    plt.imshow(cm, interpolation='nearest', cmap=cmap)\n",
        "    plt.title(title)\n",
        "    plt.colorbar()\n",
        "    tick_marks = np.arange(len(classes))\n",
        "    plt.xticks(tick_marks, classes, rotation=45)\n",
        "    plt.yticks(tick_marks, classes)\n",
        "\n",
        "    fmt = '.2f' if normalize else 'd'\n",
        "    thresh = cm.max() / 2.\n",
        "    for i, j in product(range(cm.shape[0]), range(cm.shape[1])):\n",
        "        plt.text(j, i, format(cm[i, j], fmt),\n",
        "                 horizontalalignment=\"center\",\n",
        "                 color=\"white\" if cm[i, j] > thresh else \"black\")\n",
        "\n",
        "    plt.tight_layout()\n",
        "    plt.ylabel('True label')\n",
        "    plt.xlabel('Predicted label')\n",
        "\n"
      ]
    },
    {
      "cell_type": "code",
      "source": [
        "# Compute confusion matrix\n",
        "cnf_matrix = confusion_matrix(y_validation.argmax(axis=1), y_val_pred.argmax(axis=1))\n",
        "np.set_printoptions(precision=2)\n",
        "\n",
        "# Plot non-normalized confusion matrix\n",
        "plt.figure(figsize=(10, 10))\n",
        "plot_confusion_matrix(cnf_matrix, classes=label_names,\n",
        "                      title='Confusion matrix, with normalization',\n",
        "                      normalize=True)\n",
        "plt.show()"
      ],
      "metadata": {
        "colab": {
          "base_uri": "https://localhost:8080/",
          "height": 694
        },
        "id": "5EhKTOyVFwj5",
        "outputId": "52df7f03-1cee-4404-f886-38235199365b"
      },
      "execution_count": 226,
      "outputs": [
        {
          "output_type": "display_data",
          "data": {
            "text/plain": [
              "<Figure size 720x720 with 2 Axes>"
            ],
            "image/png": "[encoded data removed]"
          },
          "metadata": {
            "needs_background": "light"
          }
        }
      ]
    },
    {
      "cell_type": "markdown",
      "metadata": {
        "id": "dXtlz07VhJZB"
      },
      "source": [
        "**Preguntas:**\n",
        "- *Si tomamos todo lo que no sea normal como positivo, ¿el modelo se equivoca mas en falsos positivos o en falsos negativos?*\n",
        "En **falso positivo**, pues devuelve como positivo (normal) casos que no pertenecen a esa categoría; sobre todo se equivoca cuando la label true pertenece a:\n",
        "  * arritmia prematura\n",
        "  * fusión contraccion ventricular \n",
        "- *¿Que categoría genera mayor error?*\n",
        "\n",
        " Fusión contracción ventricular, pues dos tercios de los casos están mal predecidos como normales contraccion prematura ventricular.\n",
        "\n",
        "- *¿Existe overfitting?*\n",
        " En mi caso - que he modificado los parámetros de entrenamiento - creo que no; \n",
        " ha ayudado mucho hacer la arquitectura del paper como modelo de seguimiento y ajustar el dropout\n",
        "\n",
        "- ¿*Como afecta batch_size al entrenamiento?*\n",
        "El batch size es el número de instancias que toma por cada época para entrenar; cuanto mayor batch size, mayor tiempo de entrenamiento por epoch y más rows tiene para entrenar, por lo que ayuda a bajar la posibilidad de overfitting.\n",
        "\n",
        "- *¿El modelo plantea una sola posibilidad o las probabilidades de cada categoria al estimar?*\n",
        "\n",
        "EL modelo plantea una probabilidad para cada categoría"
      ]
    },
    {
      "cell_type": "markdown",
      "metadata": {
        "id": "6jdUQrynhJZD"
      },
      "source": [
        "Ahora os toca a vosotros mejorar el modelo. Probad con otros optimizadores, cambiar la función de coste, volveros locos con el batch_size..... El paper del principio puede dar alguna pista. Como siempre, el que tenga la mejor score, ¡tiene premio!"
      ]
    },
    {
      "cell_type": "code",
      "execution_count": null,
      "metadata": {
        "id": "KX8K3Wgy9dCc"
      },
      "outputs": [],
      "source": [
        "# Lo he dejado en lo que he obtenido : 0.98 que no está mal"
      ]
    }
  ],
  "metadata": {
    "colab": {
      "collapsed_sections": [
        "ao9twkE1hJXS",
        "l1jYJBHThJXU",
        "hGRsUDc_hJXt",
        "UBlbXOgBhJX3"
      ],
      "name": "DL_S1_Practice_ECG.ipynb",
      "provenance": []
    },
    "kernelspec": {
      "display_name": "Python 3",
      "language": "python",
      "name": "python3"
    },
    "language_info": {
      "codemirror_mode": {
        "name": "ipython",
        "version": 3
      },
      "file_extension": ".py",
      "mimetype": "text/x-python",
      "name": "python",
      "nbconvert_exporter": "python",
      "pygments_lexer": "ipython3",
      "version": "3.9.7"
    },
    "accelerator": "GPU"
  },
  "nbformat": 4,
  "nbformat_minor": 0
}